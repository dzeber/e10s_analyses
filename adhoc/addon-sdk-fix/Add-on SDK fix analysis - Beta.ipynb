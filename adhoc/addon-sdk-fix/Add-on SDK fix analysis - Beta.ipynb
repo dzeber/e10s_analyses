{
 "cells": [
  {
   "cell_type": "code",
   "execution_count": 1,
   "metadata": {
    "collapsed": false
   },
   "outputs": [
    {
     "name": "stderr",
     "output_type": "stream",
     "text": [
      "/home/hadoop/anaconda2/lib/python2.7/site-packages/matplotlib/font_manager.py:273: UserWarning: Matplotlib is building the font cache using fc-list. This may take a moment.\n",
      "  warnings.warn('Matplotlib is building the font cache using fc-list. This may take a moment.')\n"
     ]
    },
    {
     "name": "stdout",
     "output_type": "stream",
     "text": [
      "Unable to parse whitelist (/home/hadoop/anaconda2/lib/python2.7/site-packages/moztelemetry/histogram-whitelists.json). Assuming all histograms are acceptable.\n",
      "Populating the interactive namespace from numpy and matplotlib\n"
     ]
    }
   ],
   "source": [
    "import ujson as json\n",
    "import matplotlib.pyplot as plt\n",
    "import pandas as pd\n",
    "import numpy as np\n",
    "import math\n",
    "import plotly.plotly as py\n",
    "import IPython\n",
    "import pyspark.sql.functions as fun\n",
    "from pyspark.sql import Row\n",
    "from datetime import date\n",
    "import feather\n",
    "from collections import defaultdict\n",
    "import os\n",
    "\n",
    "from __future__ import division\n",
    "from moztelemetry.spark import get_pings, get_one_ping_per_client, get_pings_properties\n",
    "from montecarlino import grouped_permutation_test\n",
    "\n",
    "%pylab inline\n",
    "IPython.core.pylabtools.figsize(16, 7)"
   ]
  },
  {
   "cell_type": "code",
   "execution_count": 2,
   "metadata": {
    "collapsed": false
   },
   "outputs": [
    {
     "data": {
      "text/plain": [
       "96"
      ]
     },
     "execution_count": 2,
     "metadata": {},
     "output_type": "execute_result"
    }
   ],
   "source": [
    "sc.defaultParallelism"
   ]
  },
  {
   "cell_type": "code",
   "execution_count": 3,
   "metadata": {
    "collapsed": false
   },
   "outputs": [
    {
     "data": {
      "text/plain": [
       "u'2.0.0'"
      ]
     },
     "execution_count": 3,
     "metadata": {},
     "output_type": "execute_result"
    }
   ],
   "source": [
    "sc.version"
   ]
  },
  {
   "cell_type": "markdown",
   "metadata": {},
   "source": [
    "### Load beta data to test"
   ]
  },
  {
   "cell_type": "markdown",
   "metadata": {},
   "source": [
    "How many sessions do we have on recent Beta builds?"
   ]
  },
  {
   "cell_type": "code",
   "execution_count": 6,
   "metadata": {
    "collapsed": true
   },
   "outputs": [],
   "source": [
    "DF = sqlContext.read.parquet(\"s3://telemetry-parquet/main_summary/v3/\")"
   ]
  },
  {
   "cell_type": "code",
   "execution_count": 13,
   "metadata": {
    "collapsed": false
   },
   "outputs": [],
   "source": [
    "DF_beta_builds = DF.filter(\"submission_date_s3 > '20161015'\")\\\n",
    "    .filter(\"app_name = 'Firefox' and channel = 'beta' and app_build_id >= '20161018000000'\")\\\n",
    "    .groupBy(\"app_build_id\", \"app_version\").count()"
   ]
  },
  {
   "cell_type": "code",
   "execution_count": 14,
   "metadata": {
    "collapsed": false
   },
   "outputs": [
    {
     "data": {
      "text/html": [
       "<div>\n",
       "<table border=\"1\" class=\"dataframe\">\n",
       "  <thead>\n",
       "    <tr style=\"text-align: right;\">\n",
       "      <th></th>\n",
       "      <th>app_build_id</th>\n",
       "      <th>app_version</th>\n",
       "      <th>count</th>\n",
       "    </tr>\n",
       "  </thead>\n",
       "  <tbody>\n",
       "    <tr>\n",
       "      <th>0</th>\n",
       "      <td>20161027110534</td>\n",
       "      <td>50.0</td>\n",
       "      <td>27829623</td>\n",
       "    </tr>\n",
       "    <tr>\n",
       "      <th>1</th>\n",
       "      <td>20161101104304</td>\n",
       "      <td>50.0</td>\n",
       "      <td>25134320</td>\n",
       "    </tr>\n",
       "    <tr>\n",
       "      <th>2</th>\n",
       "      <td>20161020152750</td>\n",
       "      <td>50.0</td>\n",
       "      <td>21347963</td>\n",
       "    </tr>\n",
       "    <tr>\n",
       "      <th>3</th>\n",
       "      <td>20161024172922</td>\n",
       "      <td>50.0</td>\n",
       "      <td>19116464</td>\n",
       "    </tr>\n",
       "    <tr>\n",
       "      <th>4</th>\n",
       "      <td>20161104212021</td>\n",
       "      <td>50.0</td>\n",
       "      <td>2422799</td>\n",
       "    </tr>\n",
       "    <tr>\n",
       "      <th>5</th>\n",
       "      <td>20161019084923</td>\n",
       "      <td>49.0.2</td>\n",
       "      <td>92874</td>\n",
       "    </tr>\n",
       "    <tr>\n",
       "      <th>6</th>\n",
       "      <td>20161031133903</td>\n",
       "      <td>47.0.2</td>\n",
       "      <td>22508</td>\n",
       "    </tr>\n",
       "    <tr>\n",
       "      <th>7</th>\n",
       "      <td>20161028075540</td>\n",
       "      <td>50.0</td>\n",
       "      <td>19981</td>\n",
       "    </tr>\n",
       "    <tr>\n",
       "      <th>8</th>\n",
       "      <td>20161028075404</td>\n",
       "      <td>50.0</td>\n",
       "      <td>14214</td>\n",
       "    </tr>\n",
       "    <tr>\n",
       "      <th>9</th>\n",
       "      <td>20161021085142</td>\n",
       "      <td>50.0</td>\n",
       "      <td>11225</td>\n",
       "    </tr>\n",
       "    <tr>\n",
       "      <th>10</th>\n",
       "      <td>20161021084846</td>\n",
       "      <td>50.0</td>\n",
       "      <td>9714</td>\n",
       "    </tr>\n",
       "    <tr>\n",
       "      <th>11</th>\n",
       "      <td>20161018084936</td>\n",
       "      <td>50.0</td>\n",
       "      <td>8644</td>\n",
       "    </tr>\n",
       "    <tr>\n",
       "      <th>12</th>\n",
       "      <td>20161025123105</td>\n",
       "      <td>50.0</td>\n",
       "      <td>7862</td>\n",
       "    </tr>\n",
       "    <tr>\n",
       "      <th>13</th>\n",
       "      <td>20161028075722</td>\n",
       "      <td>50.0</td>\n",
       "      <td>7689</td>\n",
       "    </tr>\n",
       "    <tr>\n",
       "      <th>14</th>\n",
       "      <td>20161025122620</td>\n",
       "      <td>50.0</td>\n",
       "      <td>5837</td>\n",
       "    </tr>\n",
       "    <tr>\n",
       "      <th>15</th>\n",
       "      <td>20161018084433</td>\n",
       "      <td>50.0</td>\n",
       "      <td>4849</td>\n",
       "    </tr>\n",
       "    <tr>\n",
       "      <th>16</th>\n",
       "      <td>20161028075333</td>\n",
       "      <td>50.0</td>\n",
       "      <td>4654</td>\n",
       "    </tr>\n",
       "    <tr>\n",
       "      <th>17</th>\n",
       "      <td>20161021084716</td>\n",
       "      <td>50.0</td>\n",
       "      <td>4484</td>\n",
       "    </tr>\n",
       "    <tr>\n",
       "      <th>18</th>\n",
       "      <td>20161028075454</td>\n",
       "      <td>50.0</td>\n",
       "      <td>4148</td>\n",
       "    </tr>\n",
       "    <tr>\n",
       "      <th>19</th>\n",
       "      <td>20161018084136</td>\n",
       "      <td>50.0</td>\n",
       "      <td>3791</td>\n",
       "    </tr>\n",
       "  </tbody>\n",
       "</table>\n",
       "</div>"
      ],
      "text/plain": [
       "      app_build_id app_version     count\n",
       "0   20161027110534        50.0  27829623\n",
       "1   20161101104304        50.0  25134320\n",
       "2   20161020152750        50.0  21347963\n",
       "3   20161024172922        50.0  19116464\n",
       "4   20161104212021        50.0   2422799\n",
       "5   20161019084923      49.0.2     92874\n",
       "6   20161031133903      47.0.2     22508\n",
       "7   20161028075540        50.0     19981\n",
       "8   20161028075404        50.0     14214\n",
       "9   20161021085142        50.0     11225\n",
       "10  20161021084846        50.0      9714\n",
       "11  20161018084936        50.0      8644\n",
       "12  20161025123105        50.0      7862\n",
       "13  20161028075722        50.0      7689\n",
       "14  20161025122620        50.0      5837\n",
       "15  20161018084433        50.0      4849\n",
       "16  20161028075333        50.0      4654\n",
       "17  20161021084716        50.0      4484\n",
       "18  20161028075454        50.0      4148\n",
       "19  20161018084136        50.0      3791"
      ]
     },
     "execution_count": 14,
     "metadata": {},
     "output_type": "execute_result"
    }
   ],
   "source": [
    "DF_beta_builds.orderBy(\"count\", ascending = False).toPandas()[:20]"
   ]
  },
  {
   "cell_type": "markdown",
   "metadata": {},
   "source": [
    "Based on this, selecting a single build before and after from among the top builds will provide us with enough data."
   ]
  },
  {
   "cell_type": "code",
   "execution_count": 4,
   "metadata": {
    "collapsed": false
   },
   "outputs": [
    {
     "name": "stdout",
     "output_type": "stream",
     "text": [
      "Num sessions before: 17,312,866\n",
      "\n",
      "CPU times: user 76 ms, sys: 24 ms, total: 100 ms\n",
      "Wall time: 8min 7s\n"
     ]
    }
   ],
   "source": [
    "dataset_before = get_pings(sc, app=\"Firefox\", channel=\"beta\", build_id=\"20161020152750\")\n",
    "%time print(\"Num sessions before: {:,}\\n\".format(dataset_before.count()))"
   ]
  },
  {
   "cell_type": "code",
   "execution_count": 5,
   "metadata": {
    "collapsed": false
   },
   "outputs": [
    {
     "name": "stdout",
     "output_type": "stream",
     "text": [
      "Num sessions after: 22,237,606\n",
      "\n",
      "CPU times: user 64 ms, sys: 24 ms, total: 88 ms\n",
      "Wall time: 8min 15s\n"
     ]
    }
   ],
   "source": [
    "dataset_after = get_pings(sc, app=\"Firefox\", channel=\"beta\", build_id=\"20161101104304\")\n",
    "%time print(\"Num sessions after: {:,}\\n\".format(dataset_after.count()))"
   ]
  },
  {
   "cell_type": "markdown",
   "metadata": {},
   "source": [
    "Combine data and restrict to data of interest."
   ]
  },
  {
   "cell_type": "code",
   "execution_count": 21,
   "metadata": {
    "collapsed": true
   },
   "outputs": [],
   "source": [
    "def extract_data(ping):\n",
    "    data = {\n",
    "        \"clientId\": ping.get(\"clientId\"),\n",
    "        #\"buildId\": ping.get(\"application\", {}).get(\"buildId\"),\n",
    "    }\n",
    "    data[\"period\"] = \"before\" if ping.get(\"application\", {}).get(\"buildId\") == \"20161020152750\" else \"after\"\n",
    "    \n",
    "    env = ping.get(\"environment\")\n",
    "    if not env:\n",
    "        return None\n",
    "    data[\"architecture\"] = env.get(\"build\", {}).get(\"architecture\")\n",
    "    data[\"e10sEnabled\"] = env.get(\"settings\", {}).get(\"e10sEnabled\")\n",
    "    \n",
    "    sys = env.get(\"system\", {})\n",
    "    ## Some system data won't be relevant here.\n",
    "    for subfld in \"hdd\", \"gfx\":\n",
    "        if subfld in sys:\n",
    "            del sys[subfld]\n",
    "    data[\"system\"] = sys\n",
    "    \n",
    "    ## Only need IDs/versions of installed add-ons, split according to whether or not\n",
    "    ## they are system add-ons.\n",
    "    addons = env.get(\"addons\", {}).get(\"activeAddons\", {})\n",
    "    sys_addons = []\n",
    "    nonsys_addons = []\n",
    "    def addon_listing(guid, meta):\n",
    "        return (guid, meta.get(\"version\"))\n",
    "    \n",
    "    for guid, meta in addons.iteritems():\n",
    "        if meta.get(\"isSystem\"):\n",
    "            sys_addons.append(addon_listing(guid, meta))\n",
    "        else:\n",
    "            nonsys_addons.append(addon_listing(guid, meta))\n",
    "    data[\"addons\"] = {\"system\": sys_addons, \"non_system\": nonsys_addons}\n",
    "    \n",
    "    payload = ping.get(\"payload\", {})\n",
    "    if not payload:\n",
    "        return None\n",
    "    #data[\"histograms\"] = payload.get(\"histograms\", {})\n",
    "    #data[\"keyedHistograms\"] = payload.get(\"keyedHistograms\", {})\n",
    "    data[\"simpleMeasurements\"] = payload.get(\"simpleMeasurements\", {})\n",
    "    data[\"hangs\"] = payload.get(\"threadHangStats\", [])\n",
    "    #data[\"processes\"] = payload.get(\"processes\", {})\n",
    "    #data[\"childPayloads\"] = payload.get(\"childPayloads\", [])\n",
    "    data[\"MEMORY_JS_COMPARTMENTS_SYSTEM\"] = payload.get(\"histograms\", {}).get(\"MEMORY_JS_COMPARTMENTS_SYSTEM\", {})\n",
    "    data[\"GC_MS\"] = payload.get(\"histograms\", {}).get(\"GC_MS\", {})\n",
    "    \n",
    "    return data\n",
    "\n",
    "def good_payload(data):\n",
    "    return (data is not None and\n",
    "            data[\"clientId\"] is not None and\n",
    "            #data[\"buildId\"] is not None and\n",
    "            data[\"e10sEnabled\"] is not None)"
   ]
  },
  {
   "cell_type": "code",
   "execution_count": 22,
   "metadata": {
    "collapsed": false
   },
   "outputs": [],
   "source": [
    "full_data = dataset_before.union(dataset_after)\n",
    "dataset = full_data.map(extract_data).filter(good_payload)\n",
    "dataset = dataset.persist(StorageLevel.MEMORY_AND_DISK_SER)"
   ]
  },
  {
   "cell_type": "code",
   "execution_count": 26,
   "metadata": {
    "collapsed": false
   },
   "outputs": [
    {
     "name": "stdout",
     "output_type": "stream",
     "text": [
      "Overall num sessions: 39,550,472\n",
      "\n",
      "CPU times: user 44 ms, sys: 28 ms, total: 72 ms\n",
      "Wall time: 41.8 s\n"
     ]
    }
   ],
   "source": [
    "%time print(\"Overall num sessions: {:,}\\n\".format(dataset.count()))"
   ]
  },
  {
   "cell_type": "code",
   "execution_count": 24,
   "metadata": {
    "collapsed": false,
    "scrolled": true
   },
   "outputs": [],
   "source": [
    "## Save this dataset to S3.\n",
    "#s3_path = \"s3://mozilla-metrics/user/dzeber/tmp/addon-sdk-fix/beta_{}/\".format(date.today().isoformat())"
   ]
  },
  {
   "cell_type": "code",
   "execution_count": 25,
   "metadata": {
    "collapsed": true
   },
   "outputs": [],
   "source": [
    "#dataset.saveAsPickleFile(s3_path)"
   ]
  },
  {
   "cell_type": "code",
   "execution_count": 2,
   "metadata": {
    "collapsed": false
   },
   "outputs": [],
   "source": [
    "s3_path = \"s3://mozilla-metrics/user/dzeber/tmp/addon-sdk-fix/beta_2016-11-09/\"\n",
    "dataset = sc.pickleFile(s3_path).persist(StorageLevel.MEMORY_AND_DISK_SER)"
   ]
  },
  {
   "cell_type": "markdown",
   "metadata": {},
   "source": [
    "### Create a dataset to analyze"
   ]
  },
  {
   "cell_type": "markdown",
   "metadata": {},
   "source": [
    "#### Longitudinal properties\n",
    "\n",
    "Ideally, we would compare metrics between builds before and after the changes, within each profile. For this we need profiles to have sessions both before and after the change, with other factors (add-ons and e10s setting) staying constant over the sessions we observe.\n",
    "\n",
    "How many profiles have these properties?"
   ]
  },
  {
   "cell_type": "code",
   "execution_count": 3,
   "metadata": {
    "collapsed": false
   },
   "outputs": [],
   "source": [
    "def session_vals_for_check(session):\n",
    "    return (session[\"clientId\"], {\n",
    "        \"e10s\": session[\"e10sEnabled\"],\n",
    "        \"addons\": session[\"addons\"][\"non_system\"],\n",
    "        \"period\": session[\"period\"]\n",
    "    })\n",
    "\n",
    "def constant_e10s_setting(session_vals):\n",
    "    e10s_settings = [s[\"e10s\"] for s in session_vals]\n",
    "    return len(set(e10s_settings)) == 1\n",
    "\n",
    "def constant_active_addons(session_vals):\n",
    "    addons = [s[\"addons\"] for s in session_vals]\n",
    "    ## All add-on lists must have the same length...\n",
    "    if len(set(map(len, addons))) != 1:\n",
    "        return False\n",
    "    ## ...and they must contain the same add-on IDs.\n",
    "    addon_ids = map(lambda a: [guid for (guid, ver) in a], addons)\n",
    "    all_addon_ids = set().union(*addon_ids)\n",
    "    return len(all_addon_ids) == len(addon_ids[0])\n",
    "\n",
    "def both_periods(session_vals):\n",
    "    periods = [s[\"period\"] for s in session_vals]\n",
    "    return len(set(periods)) == 2"
   ]
  },
  {
   "cell_type": "code",
   "execution_count": 4,
   "metadata": {
    "collapsed": false
   },
   "outputs": [
    {
     "name": "stdout",
     "output_type": "stream",
     "text": [
      "Num unique profiles represented in the dataset: 2,611,968\n"
     ]
    }
   ],
   "source": [
    "prof_data = dataset.map(session_vals_for_check).groupByKey()\n",
    "n_prof = prof_data.count()\n",
    "print(\"Num unique profiles represented in the dataset: {:,}\".format(n_prof))"
   ]
  },
  {
   "cell_type": "code",
   "execution_count": 10,
   "metadata": {
    "collapsed": false
   },
   "outputs": [
    {
     "name": "stdout",
     "output_type": "stream",
     "text": [
      "Num profiles with changing e10s: 82,315 (3.15%)\n"
     ]
    }
   ],
   "source": [
    "prof_data_1 = prof_data.filter(lambda (cid, vals): constant_e10s_setting(vals))\n",
    "n_prof_1 = prof_data_1.count()\n",
    "n_prof_dropped = n_prof - n_prof_1\n",
    "print(\"Num profiles with changing e10s: {:,} ({:.2f}%)\"\\\n",
    "          .format(n_prof_dropped, n_prof_dropped / n_prof * 100))"
   ]
  },
  {
   "cell_type": "code",
   "execution_count": 11,
   "metadata": {
    "collapsed": false
   },
   "outputs": [
    {
     "name": "stdout",
     "output_type": "stream",
     "text": [
      "Num profiles with changing (non-system) add-on IDs: 278,703 (10.67%)\n"
     ]
    }
   ],
   "source": [
    "prof_data_2 = prof_data.filter(lambda (cid, vals): constant_active_addons(vals))\n",
    "n_prof_2 = prof_data_2.count()\n",
    "n_prof_dropped = n_prof - n_prof_2\n",
    "print(\"Num profiles with changing (non-system) add-on IDs: {:,} ({:.2f}%)\"\\\n",
    "          .format(n_prof_dropped, n_prof_dropped / n_prof * 100))"
   ]
  },
  {
   "cell_type": "code",
   "execution_count": 12,
   "metadata": {
    "collapsed": false
   },
   "outputs": [
    {
     "name": "stdout",
     "output_type": "stream",
     "text": [
      "Num profiles without both periods: 980,214 (37.53%)\n"
     ]
    }
   ],
   "source": [
    "prof_data_3 = prof_data.filter(lambda (cid, vals): both_periods(vals))\n",
    "n_prof_3 = prof_data_3.count()\n",
    "n_prof_dropped = n_prof - n_prof_3\n",
    "print(\"Num profiles without both periods: {:,} ({:.2f}%)\"\\\n",
    "          .format(n_prof_dropped, n_prof_dropped / n_prof * 100))"
   ]
  },
  {
   "cell_type": "code",
   "execution_count": 5,
   "metadata": {
    "collapsed": false
   },
   "outputs": [
    {
     "name": "stdout",
     "output_type": "stream",
     "text": [
      "Num profiles meeting all conditions: 1,399,069 (53.56%)\n"
     ]
    }
   ],
   "source": [
    "prof_data_comb = prof_data.filter(lambda (cid, vals):\n",
    "    constant_e10s_setting(vals) and constant_active_addons(vals) and both_periods(vals))\n",
    "n_prof_comb = prof_data_comb.count()\n",
    "print(\"Num profiles meeting all conditions: {:,} ({:.2f}%)\"\\\n",
    "          .format(n_prof_comb, n_prof_comb / n_prof * 100))"
   ]
  },
  {
   "cell_type": "markdown",
   "metadata": {},
   "source": [
    "Restrict to profiles with these properties."
   ]
  },
  {
   "cell_type": "code",
   "execution_count": 6,
   "metadata": {
    "collapsed": false
   },
   "outputs": [],
   "source": [
    "good_clients = prof_data_comb.map(lambda (cid, d): cid).distinct().collect()\n",
    "good_clients = set(good_clients)\n",
    "dataset_longit = dataset.filter(lambda d: d[\"clientId\"] in good_clients)\n",
    "    #.persist(StorageLevel.MEMORY_AND_DISK_SER)"
   ]
  },
  {
   "cell_type": "code",
   "execution_count": 9,
   "metadata": {
    "collapsed": false
   },
   "outputs": [
    {
     "name": "stdout",
     "output_type": "stream",
     "text": [
      "Num sessions remaining: 26,515,128\n"
     ]
    }
   ],
   "source": [
    "print(\"Num sessions remaining: {:,}\".format(dataset_longit.count()))"
   ]
  },
  {
   "cell_type": "code",
   "execution_count": null,
   "metadata": {
    "collapsed": false
   },
   "outputs": [],
   "source": [
    "## Sanity check\n",
    "#print(\"Num unique profiles: {:,}\".format(dataset_longit.map(lambda d: d[\"clientId\"]).distinct().count()))"
   ]
  },
  {
   "cell_type": "markdown",
   "metadata": {},
   "source": [
    "First create an RDD with all the measurements we will be working with."
   ]
  },
  {
   "cell_type": "code",
   "execution_count": 7,
   "metadata": {
    "collapsed": false
   },
   "outputs": [],
   "source": [
    "def get_hist_values(hist):\n",
    "    ## Keep only non-zero histogram values.\n",
    "    return { k:v for k, v in hist.get(\"values\", {}).iteritems() if v > 0 }    \n",
    "\n",
    "def addon_sdk_hang(hang):\n",
    "    try:\n",
    "    ## Check the stack info for add-on sdk code.\n",
    "        has_sdk_js = [\"sdk/addon/runner.js\" in line for line in hang.get(\"stack\", [])]\n",
    "        return any(has_sdk_js)\n",
    "    except:\n",
    "        return False\n",
    "\n",
    "def get_addon_hang_data(data):\n",
    "    ## Only need hangs from the main thread.\n",
    "    hangs = filter(lambda h: h[\"name\"] == \"Gecko\", data[\"hangs\"])\n",
    "    if not hangs:\n",
    "        return None\n",
    "    hangs = hangs[0][\"hangs\"]\n",
    "    sdk_hangs = filter(addon_sdk_hang, hangs)\n",
    "    return [ {\"stack\": h.get(\"stack\"), \"values\": get_hist_values(h.get(\"histogram\", {}))}\n",
    "               for h in sdk_hangs ]\n",
    "\n",
    "\n",
    "def get_hist_data(data, hist_name):\n",
    "    ## Keep only non-zero histogram values.\n",
    "    return get_hist_values(data[\"histograms\"].get(hist_name, {}))\n",
    "\n",
    "def longit_row(data):\n",
    "    sm = data[\"simpleMeasurements\"]\n",
    "    return {\n",
    "        \"client_id\": data[\"clientId\"],\n",
    "        #\"build_id\": data[\"buildId\"],\n",
    "        \"period\": data[\"period\"],\n",
    "        \"e10s\": data[\"e10sEnabled\"],\n",
    "        \"addon_nonsys\": data[\"addons\"][\"non_system\"],\n",
    "        ## Keep only the count of system add-ons\n",
    "        \"addons_sys_num\": len(data[\"addons\"][\"system\"]),\n",
    "        \n",
    "        ## Some system covariates\n",
    "        \"sys_arch\": data[\"architecture\"],\n",
    "        \"sys_mem\": data[\"system\"].get(\"memoryMB\"),\n",
    "        \"sys_cpu_count\": data[\"system\"].get(\"cpu\", {}).get(\"count\"),\n",
    "        \"sys_os\": data[\"system\"].get(\"os\", {}).get(\"name\"),\n",
    "        \"sys_os_version\": data[\"system\"].get(\"os\", {}).get(\"version\"),\n",
    "        \n",
    "        ## Startup times and info (missing times recorded as -1)\n",
    "        \"was_startup_interrupted\": bool(sm.get(\"startupInterrupted\", 0)),\n",
    "        \"startup_main\": sm.get(\"main\", -1),\n",
    "        \"startup_AMIstart\": sm.get(\"AMI_startup_begin\", -1),\n",
    "        \"startup_XPIstart\": sm.get(\"XPI_bootstrap_addons_begin\", -1),\n",
    "        \"startup_AMIend\": sm.get(\"AMI_startup_end\", -1),\n",
    "        \"startup_toplevelwindow\": sm.get(\"createTopLevelWindow\", -1),\n",
    "        \"startup_firstpaint\": sm.get(\"firstPaint\", -1),\n",
    "        \"startup_sessionrestored\": sm.get(\"sessionRestored\", -1),\n",
    "        \n",
    "        ## Shutdown times may also show an effect\n",
    "        \"shutdown\": sm.get(\"shutdownDuration\", -1),\n",
    "        \n",
    "        ## Some histograms\n",
    "        \"hist_compartments\": get_hist_values(data[\"MEMORY_JS_COMPARTMENTS_SYSTEM\"]),\n",
    "        \"hist_gc\": get_hist_values(data[\"GC_MS\"]),\n",
    "        \n",
    "        ## Thread hangs.\n",
    "        \"hangs\": get_addon_hang_data(data)\n",
    "    }"
   ]
  },
  {
   "cell_type": "code",
   "execution_count": 8,
   "metadata": {
    "collapsed": true
   },
   "outputs": [],
   "source": [
    "dataset_rows = dataset_longit.map(longit_row)"
   ]
  },
  {
   "cell_type": "code",
   "execution_count": 9,
   "metadata": {
    "collapsed": false
   },
   "outputs": [],
   "source": [
    "## Add a session ID.\n",
    "def add_sess_id(d_with_i):\n",
    "    d, i = d_with_i\n",
    "    d[\"session_id\"] = i\n",
    "    return d\n",
    "dataset_rows = dataset_rows.zipWithUniqueId().map(add_sess_id)"
   ]
  },
  {
   "cell_type": "markdown",
   "metadata": {},
   "source": [
    "Shorten client IDs for convenience."
   ]
  },
  {
   "cell_type": "code",
   "execution_count": 10,
   "metadata": {
    "collapsed": true
   },
   "outputs": [],
   "source": [
    "client_ids = dataset_rows.map(lambda d: d[\"client_id\"]).distinct().zipWithUniqueId()"
   ]
  },
  {
   "cell_type": "code",
   "execution_count": 11,
   "metadata": {
    "collapsed": false
   },
   "outputs": [],
   "source": [
    "def replace_client_id(d_with_new_cid):\n",
    "    d, new_cid = d_with_new_cid\n",
    "    d[\"client_id\"] = new_cid\n",
    "    return d\n",
    "\n",
    "dataset_rows = dataset_rows.map(lambda d: (d[\"client_id\"], d))\\\n",
    "    .leftOuterJoin(client_ids)\\\n",
    "    .mapValues(replace_client_id)\\\n",
    "    .map(lambda (cid, d): d)"
   ]
  },
  {
   "cell_type": "code",
   "execution_count": 12,
   "metadata": {
    "collapsed": false
   },
   "outputs": [
    {
     "data": {
      "text/plain": [
       "26515128"
      ]
     },
     "execution_count": 12,
     "metadata": {},
     "output_type": "execute_result"
    }
   ],
   "source": [
    "## Need to cache at this point to ensure stability of indices added with zipWithIndex().\n",
    "## Otherwise, they keep getting recomputed.\n",
    "dataset.unpersist()\n",
    "dataset_rows.cache()\n",
    "dataset_rows.count()"
   ]
  },
  {
   "cell_type": "code",
   "execution_count": 7,
   "metadata": {
    "collapsed": false,
    "scrolled": true
   },
   "outputs": [
    {
     "data": {
      "text/plain": [
       "[{'addon_nonsys': [],\n",
       "  'addons_sys_num': 4,\n",
       "  'client_id': 213600,\n",
       "  'e10s': True,\n",
       "  'hangs': None,\n",
       "  'hist_compartments': {u'243': 1},\n",
       "  'hist_gc': {u'57': 1},\n",
       "  'period': 'after',\n",
       "  'session_id': 69138302,\n",
       "  'shutdown': 9110,\n",
       "  'startup_AMIend': 334,\n",
       "  'startup_AMIstart': 210,\n",
       "  'startup_XPIstart': 262,\n",
       "  'startup_firstpaint': 922,\n",
       "  'startup_main': 75,\n",
       "  'startup_sessionrestored': 1141,\n",
       "  'startup_toplevelwindow': 544,\n",
       "  'sys_arch': u'x86',\n",
       "  'sys_cpu_count': 4,\n",
       "  'sys_mem': 6108,\n",
       "  'sys_os': u'Windows_NT',\n",
       "  'sys_os_version': u'6.1',\n",
       "  'was_startup_interrupted': False},\n",
       " {'addon_nonsys': [],\n",
       "  'addons_sys_num': 4,\n",
       "  'client_id': 213600,\n",
       "  'e10s': True,\n",
       "  'hangs': None,\n",
       "  'hist_compartments': {u'273': 1},\n",
       "  'hist_gc': {u'40': 2, u'57': 1, u'68': 2},\n",
       "  'period': 'after',\n",
       "  'session_id': 69145103,\n",
       "  'shutdown': 534,\n",
       "  'startup_AMIend': 21495,\n",
       "  'startup_AMIstart': 16764,\n",
       "  'startup_XPIstart': 20528,\n",
       "  'startup_firstpaint': 39146,\n",
       "  'startup_main': 12558,\n",
       "  'startup_sessionrestored': 40962,\n",
       "  'startup_toplevelwindow': 32377,\n",
       "  'sys_arch': u'x86',\n",
       "  'sys_cpu_count': 4,\n",
       "  'sys_mem': 6108,\n",
       "  'sys_os': u'Windows_NT',\n",
       "  'sys_os_version': u'6.1',\n",
       "  'was_startup_interrupted': False},\n",
       " {'addon_nonsys': [],\n",
       "  'addons_sys_num': 4,\n",
       "  'client_id': 213600,\n",
       "  'e10s': True,\n",
       "  'hangs': None,\n",
       "  'hist_compartments': {u'243': 3, u'273': 11},\n",
       "  'hist_gc': {u'114': 1,\n",
       "   u'160': 1,\n",
       "   u'40': 1,\n",
       "   u'48': 1,\n",
       "   u'57': 3,\n",
       "   u'68': 3,\n",
       "   u'81': 1,\n",
       "   u'96': 2},\n",
       "  'period': 'after',\n",
       "  'session_id': 69165506,\n",
       "  'shutdown': 534,\n",
       "  'startup_AMIend': 4171,\n",
       "  'startup_AMIstart': 4034,\n",
       "  'startup_XPIstart': 4080,\n",
       "  'startup_firstpaint': 4869,\n",
       "  'startup_main': 3786,\n",
       "  'startup_sessionrestored': 5099,\n",
       "  'startup_toplevelwindow': 4380,\n",
       "  'sys_arch': u'x86',\n",
       "  'sys_cpu_count': 4,\n",
       "  'sys_mem': 6108,\n",
       "  'sys_os': u'Windows_NT',\n",
       "  'sys_os_version': u'6.1',\n",
       "  'was_startup_interrupted': False},\n",
       " {'addon_nonsys': [],\n",
       "  'addons_sys_num': 3,\n",
       "  'client_id': 213600,\n",
       "  'e10s': True,\n",
       "  'hangs': [],\n",
       "  'hist_compartments': {u'273': 1},\n",
       "  'hist_gc': {u'48': 2, u'57': 3},\n",
       "  'period': 'before',\n",
       "  'session_id': 15855705,\n",
       "  'shutdown': 575,\n",
       "  'startup_AMIend': 17245,\n",
       "  'startup_AMIstart': 16129,\n",
       "  'startup_XPIstart': 16786,\n",
       "  'startup_firstpaint': 22782,\n",
       "  'startup_main': 14254,\n",
       "  'startup_sessionrestored': 28067,\n",
       "  'startup_toplevelwindow': 17554,\n",
       "  'sys_arch': u'x86',\n",
       "  'sys_cpu_count': 4,\n",
       "  'sys_mem': 6108,\n",
       "  'sys_os': u'Windows_NT',\n",
       "  'sys_os_version': u'6.1',\n",
       "  'was_startup_interrupted': False},\n",
       " {'addon_nonsys': [],\n",
       "  'addons_sys_num': 3,\n",
       "  'client_id': 213600,\n",
       "  'e10s': True,\n",
       "  'hangs': [],\n",
       "  'hist_compartments': {u'243': 1},\n",
       "  'hist_gc': {u'57': 1},\n",
       "  'period': 'before',\n",
       "  'session_id': 4751134,\n",
       "  'shutdown': 5131,\n",
       "  'startup_AMIend': 413,\n",
       "  'startup_AMIstart': 332,\n",
       "  'startup_XPIstart': 373,\n",
       "  'startup_firstpaint': 974,\n",
       "  'startup_main': 186,\n",
       "  'startup_sessionrestored': 1190,\n",
       "  'startup_toplevelwindow': 611,\n",
       "  'sys_arch': u'x86',\n",
       "  'sys_cpu_count': 4,\n",
       "  'sys_mem': 6108,\n",
       "  'sys_os': u'Windows_NT',\n",
       "  'sys_os_version': u'6.1',\n",
       "  'was_startup_interrupted': False}]"
      ]
     },
     "execution_count": 7,
     "metadata": {},
     "output_type": "execute_result"
    }
   ],
   "source": [
    "dataset_rows.take(5)"
   ]
  },
  {
   "cell_type": "markdown",
   "metadata": {},
   "source": [
    "Save this final dataset in case something fails later."
   ]
  },
  {
   "cell_type": "code",
   "execution_count": 4,
   "metadata": {
    "collapsed": true
   },
   "outputs": [],
   "source": [
    "s3_path = \"s3://mozilla-metrics/user/dzeber/tmp/addon-sdk-fix/beta-longit_{}/\".format(date.today().isoformat())\n",
    "#dataset_rows.saveAsPickleFile(s3_path)"
   ]
  },
  {
   "cell_type": "code",
   "execution_count": 5,
   "metadata": {
    "collapsed": false
   },
   "outputs": [],
   "source": [
    "dataset_rows = sc.pickleFile(s3_path).cache()"
   ]
  },
  {
   "cell_type": "code",
   "execution_count": 6,
   "metadata": {
    "collapsed": false
   },
   "outputs": [
    {
     "data": {
      "text/plain": [
       "26515128"
      ]
     },
     "execution_count": 6,
     "metadata": {},
     "output_type": "execute_result"
    }
   ],
   "source": [
    "dataset_rows.count()"
   ]
  },
  {
   "cell_type": "markdown",
   "metadata": {},
   "source": [
    "Sample profiles at 10% to reduce the size of the data."
   ]
  },
  {
   "cell_type": "code",
   "execution_count": 14,
   "metadata": {
    "collapsed": true
   },
   "outputs": [],
   "source": [
    "client_ids = dataset_rows.map(lambda d: d[\"client_id\"]).distinct()\n",
    "client_ids_subset = client_ids.sample(withReplacement=False, fraction=0.1)\n",
    "dataset_subset = dataset_rows.map(lambda d: (d[\"client_id\"], d))\\\n",
    "    .join(client_ids_subset.map(lambda v: (v, None)))"
   ]
  },
  {
   "cell_type": "code",
   "execution_count": 15,
   "metadata": {
    "collapsed": false
   },
   "outputs": [
    {
     "data": {
      "text/plain": [
       "2649175"
      ]
     },
     "execution_count": 15,
     "metadata": {},
     "output_type": "execute_result"
    }
   ],
   "source": [
    "dataset_rows.unpersist()\n",
    "dataset_subset.cache()\n",
    "dataset_subset.count()"
   ]
  },
  {
   "cell_type": "code",
   "execution_count": 18,
   "metadata": {
    "collapsed": false
   },
   "outputs": [],
   "source": [
    "dataset_rows = dataset_subset.map(lambda (cid, (d, nn)): d)"
   ]
  },
  {
   "cell_type": "code",
   "execution_count": 19,
   "metadata": {
    "collapsed": false
   },
   "outputs": [
    {
     "data": {
      "text/plain": [
       "139628"
      ]
     },
     "execution_count": 19,
     "metadata": {},
     "output_type": "execute_result"
    }
   ],
   "source": [
    "dataset_rows.map(lambda d: d[\"client_id\"]).distinct().count()"
   ]
  },
  {
   "cell_type": "markdown",
   "metadata": {},
   "source": [
    "Separate complex fields into separate DFs for easier handling and summarization."
   ]
  },
  {
   "cell_type": "markdown",
   "metadata": {},
   "source": [
    "#### Add-ons"
   ]
  },
  {
   "cell_type": "code",
   "execution_count": 20,
   "metadata": {
    "collapsed": false,
    "scrolled": true
   },
   "outputs": [
    {
     "name": "stdout",
     "output_type": "stream",
     "text": [
      "root\n",
      " |-- client_id: long (nullable = true)\n",
      " |-- guid: string (nullable = true)\n",
      " |-- session_id: long (nullable = true)\n",
      " |-- version: string (nullable = true)\n",
      "\n"
     ]
    }
   ],
   "source": [
    "def addon_rows(r):\n",
    "    return [Row(client_id = r[\"client_id\"], session_id = r[\"session_id\"],\n",
    "        guid = guid, version = ver) for (guid, ver) in r[\"addon_nonsys\"]]\n",
    "    \n",
    "rdd_addons = dataset_rows.flatMap(addon_rows)\n",
    "DF_addons = spark.createDataFrame(rdd_addons)\n",
    "DF_addons.printSchema()"
   ]
  },
  {
   "cell_type": "code",
   "execution_count": 21,
   "metadata": {
    "collapsed": false
   },
   "outputs": [
    {
     "data": {
      "text/plain": [
       "2624677"
      ]
     },
     "execution_count": 21,
     "metadata": {},
     "output_type": "execute_result"
    }
   ],
   "source": [
    "DF_addons.count()"
   ]
  },
  {
   "cell_type": "code",
   "execution_count": 22,
   "metadata": {
    "collapsed": false
   },
   "outputs": [
    {
     "data": {
      "text/plain": [
       "True"
      ]
     },
     "execution_count": 22,
     "metadata": {},
     "output_type": "execute_result"
    }
   ],
   "source": [
    "## Double-check that the session IDs correspond.\n",
    "s1 = DF_addons.select(\"session_id\").distinct().rdd.map(lambda r: r.session_id)\n",
    "s2 = dataset_rows.filter(lambda r: r[\"addon_nonsys\"]).map(lambda r: r[\"session_id\"]).distinct()\n",
    "ss = s1.union(s2).distinct()\n",
    "ss.count() == s1.count() and s1.count() == s2.count()"
   ]
  },
  {
   "cell_type": "code",
   "execution_count": 23,
   "metadata": {
    "collapsed": false
   },
   "outputs": [
    {
     "data": {
      "text/plain": [
       "True"
      ]
     },
     "execution_count": 23,
     "metadata": {},
     "output_type": "execute_result"
    }
   ],
   "source": [
    "## Double-check that the client IDs correspond.\n",
    "s1 = DF_addons.select(\"client_id\").distinct().rdd.map(lambda r: r.client_id)\n",
    "s2 = dataset_rows.filter(lambda r: r[\"addon_nonsys\"]).map(lambda r: r[\"client_id\"]).distinct()\n",
    "ss = s1.union(s2).distinct()\n",
    "ss.count() == s1.count() and s1.count() == s2.count()"
   ]
  },
  {
   "cell_type": "markdown",
   "metadata": {},
   "source": [
    "#### Hangs"
   ]
  },
  {
   "cell_type": "code",
   "execution_count": 24,
   "metadata": {
    "collapsed": false,
    "scrolled": true
   },
   "outputs": [
    {
     "data": {
      "text/plain": [
       "[[{'stack': [u'Startup::XRE_Main',\n",
       "    u'gre/modules/Promise-backend.js:750',\n",
       "    u'self-hosted:868',\n",
       "    u'gre/modules/commonjs/sdk/addon/runner.js:87',\n",
       "    u'(chrome script)'],\n",
       "   'values': {u'2047': 1}}],\n",
       " [{'stack': [u'Startup::XRE_Main',\n",
       "    u'gre/modules/Promise-backend.js:750',\n",
       "    u'self-hosted:868',\n",
       "    u'gre/modules/commonjs/sdk/addon/runner.js:68',\n",
       "    u'gre/modules/commonjs/toolkit/loader.js:617',\n",
       "    u'gre/modules/commonjs/sdk/l10n/loader.js:10',\n",
       "    u'gre/modules/commonjs/toolkit/loader.js:617',\n",
       "    u'gre/modules/commonjs/sdk/l10n/locale.js:10',\n",
       "    u'gre/modules/commonjs/toolkit/loader.js:617',\n",
       "    u'gre/modules/NetUtil.jsm:191'],\n",
       "   'values': {u'255': 1}},\n",
       "  {'stack': [u'Startup::XRE_Main',\n",
       "    u'gre/modules/Promise-backend.js:750',\n",
       "    u'self-hosted:868',\n",
       "    u'gre/modules/commonjs/sdk/addon/runner.js:87',\n",
       "    u'gre/modules/commonjs/toolkit/loader.js:617',\n",
       "    u'gre/modules/commonjs/sdk/l10n/html.js:10',\n",
       "    u'gre/modules/commonjs/toolkit/loader.js:617',\n",
       "    u'gre/modules/commonjs/sdk/remote/parent.js:6',\n",
       "    u'gre/modules/commonjs/toolkit/loader.js:617'],\n",
       "   'values': {u'2047': 1}}],\n",
       " [{'stack': [u'Startup::XRE_Main',\n",
       "    u'gre/modules/Promise-backend.js:750',\n",
       "    u'self-hosted:868',\n",
       "    u'gre/modules/commonjs/sdk/addon/runner.js:87',\n",
       "    u'gre/modules/commonjs/toolkit/loader.js:617',\n",
       "    u'gre/modules/commonjs/sdk/l10n/html.js:10',\n",
       "    u'gre/modules/commonjs/toolkit/loader.js:617',\n",
       "    u'gre/modules/commonjs/sdk/remote/parent.js:6',\n",
       "    u'gre/modules/commonjs/toolkit/loader.js:617',\n",
       "    u'gre/modules/commonjs/sdk/event/target.js:10',\n",
       "    u'gre/modules/commonjs/toolkit/loader.js:617',\n",
       "    u'gre/modules/NetUtil.jsm:191'],\n",
       "   'values': {u'2047': 1}}]]"
      ]
     },
     "execution_count": 24,
     "metadata": {},
     "output_type": "execute_result"
    }
   ],
   "source": [
    "dataset_rows.map(lambda r: r[\"hangs\"]).filter(lambda r: r).take(3)"
   ]
  },
  {
   "cell_type": "markdown",
   "metadata": {},
   "source": [
    "What are the unique combinations of `runner.js` lines mentioned in the hang stack traces?"
   ]
  },
  {
   "cell_type": "code",
   "execution_count": 25,
   "metadata": {
    "collapsed": false,
    "scrolled": true
   },
   "outputs": [
    {
     "data": {
      "text/plain": [
       "[u'41,87', u'66', u'68', u'78', u'84', u'87', u'9']"
      ]
     },
     "execution_count": 25,
     "metadata": {},
     "output_type": "execute_result"
    }
   ],
   "source": [
    "sorted(dataset_rows.filter(lambda r: r[\"hangs\"])\\\n",
    "    .flatMap(lambda r: [h[\"stack\"] for h in r[\"hangs\"]])\\\n",
    "    .map(lambda s: filter(lambda sl: \"runner.js\" in sl, s))\\\n",
    "    .map(lambda s: \",\".join(sorted(set(map(lambda sl: sl.split(\":\")[-1], s)))))\\\n",
    "    .distinct().collect())"
   ]
  },
  {
   "cell_type": "markdown",
   "metadata": {},
   "source": [
    "For now, lump all `runner.js` hangs for the session together, and convert the hang stats to a DF."
   ]
  },
  {
   "cell_type": "code",
   "execution_count": 26,
   "metadata": {
    "collapsed": false
   },
   "outputs": [
    {
     "name": "stdout",
     "output_type": "stream",
     "text": [
      "root\n",
      " |-- client_id: long (nullable = true)\n",
      " |-- count: long (nullable = true)\n",
      " |-- hang_time: long (nullable = true)\n",
      " |-- num_hang_stats: long (nullable = true)\n",
      " |-- session_id: long (nullable = true)\n",
      "\n"
     ]
    }
   ],
   "source": [
    "def hang_rows(r):\n",
    "    if not r[\"hangs\"]:\n",
    "        return []\n",
    "    hang_hist = defaultdict(int)\n",
    "    for h in r[\"hangs\"]:\n",
    "        for k, v in h[\"values\"].iteritems():\n",
    "            hang_hist[k] += v\n",
    "    return [Row(client_id = r[\"client_id\"], session_id = r[\"session_id\"],\n",
    "               num_hang_stats = len(r[\"hangs\"]), hang_time = int(t), count = n)\n",
    "                for t, n in hang_hist.iteritems()]\n",
    "\n",
    "rdd_hangs = dataset_rows.flatMap(hang_rows)\n",
    "DF_hangs = spark.createDataFrame(rdd_hangs)\n",
    "DF_hangs.printSchema()"
   ]
  },
  {
   "cell_type": "code",
   "execution_count": 27,
   "metadata": {
    "collapsed": false
   },
   "outputs": [
    {
     "data": {
      "text/plain": [
       "331491"
      ]
     },
     "execution_count": 27,
     "metadata": {},
     "output_type": "execute_result"
    }
   ],
   "source": [
    "DF_hangs.count()"
   ]
  },
  {
   "cell_type": "code",
   "execution_count": 28,
   "metadata": {
    "collapsed": false
   },
   "outputs": [
    {
     "data": {
      "text/plain": [
       "True"
      ]
     },
     "execution_count": 28,
     "metadata": {},
     "output_type": "execute_result"
    }
   ],
   "source": [
    "## Double-check that the session IDs correspond.\n",
    "s1 = DF_hangs.select(\"session_id\").distinct().rdd.map(lambda r: r.session_id)\n",
    "s2 = dataset_rows.filter(lambda r: r[\"hangs\"]).map(lambda r: r[\"session_id\"]).distinct()\n",
    "ss = s1.union(s2).distinct()\n",
    "ss.count() == s1.count() and s1.count() == s2.count()"
   ]
  },
  {
   "cell_type": "code",
   "execution_count": 29,
   "metadata": {
    "collapsed": false
   },
   "outputs": [
    {
     "data": {
      "text/plain": [
       "True"
      ]
     },
     "execution_count": 29,
     "metadata": {},
     "output_type": "execute_result"
    }
   ],
   "source": [
    "## Double-check that the client IDs correspond.\n",
    "s1 = DF_hangs.select(\"client_id\").distinct().rdd.map(lambda r: r.client_id)\n",
    "s2 = dataset_rows.filter(lambda r: r[\"hangs\"]).map(lambda r: r[\"client_id\"]).distinct()\n",
    "ss = s1.union(s2).distinct()\n",
    "ss.count() == s1.count() and s1.count() == s2.count()"
   ]
  },
  {
   "cell_type": "markdown",
   "metadata": {},
   "source": [
    "#### Histograms\n",
    "\n",
    "Collect histogram info aggregated by profile and period."
   ]
  },
  {
   "cell_type": "code",
   "execution_count": 30,
   "metadata": {
    "collapsed": false
   },
   "outputs": [
    {
     "name": "stdout",
     "output_type": "stream",
     "text": [
      "root\n",
      " |-- client_id: long (nullable = true)\n",
      " |-- period: string (nullable = true)\n",
      " |-- hist: string (nullable = true)\n",
      " |-- hist_value: long (nullable = true)\n",
      " |-- count: long (nullable = true)\n",
      "\n"
     ]
    }
   ],
   "source": [
    "def hist_row(r, hist_fld):\n",
    "    if not r[hist_fld]:\n",
    "        return []\n",
    "    return [Row(client_id = r[\"client_id\"], session_id = r[\"session_id\"], period = r[\"period\"],\n",
    "                hist = hist_fld, hist_value = int(v), count = n)\n",
    "            for v, n in r[hist_fld].iteritems()]\n",
    "\n",
    "def hist_row_all(r):\n",
    "    return hist_row(r, \"hist_gc\") + hist_row(r, \"hist_compartments\")\n",
    "\n",
    "rdd_hist = dataset_rows.flatMap(hist_row_all)\n",
    "DF_hist = spark.createDataFrame(rdd_hist)\n",
    "DF_hist = DF_hist.groupBy(\"client_id\", \"period\", \"hist\", \"hist_value\")\\\n",
    "    .agg(fun.sum(\"count\").alias(\"count\"))\n",
    "DF_hist.printSchema()"
   ]
  },
  {
   "cell_type": "code",
   "execution_count": 31,
   "metadata": {
    "collapsed": false
   },
   "outputs": [
    {
     "data": {
      "text/plain": [
       "6030102"
      ]
     },
     "execution_count": 31,
     "metadata": {},
     "output_type": "execute_result"
    }
   ],
   "source": [
    "DF_hist.count()"
   ]
  },
  {
   "cell_type": "markdown",
   "metadata": {},
   "source": [
    "#### Scalar data\n",
    "\n",
    "Create a main DF for the remaining scalar measures."
   ]
  },
  {
   "cell_type": "code",
   "execution_count": 32,
   "metadata": {
    "collapsed": false,
    "scrolled": true
   },
   "outputs": [
    {
     "name": "stdout",
     "output_type": "stream",
     "text": [
      "root\n",
      " |-- addons_sys_num: long (nullable = true)\n",
      " |-- client_id: long (nullable = true)\n",
      " |-- e10s: boolean (nullable = true)\n",
      " |-- has_hangs: boolean (nullable = true)\n",
      " |-- num_addons_nonsys: long (nullable = true)\n",
      " |-- period: string (nullable = true)\n",
      " |-- session_id: long (nullable = true)\n",
      " |-- shutdown: long (nullable = true)\n",
      " |-- startup_AMIend: long (nullable = true)\n",
      " |-- startup_AMIstart: long (nullable = true)\n",
      " |-- startup_XPIstart: long (nullable = true)\n",
      " |-- startup_firstpaint: long (nullable = true)\n",
      " |-- startup_main: long (nullable = true)\n",
      " |-- startup_sessionrestored: long (nullable = true)\n",
      " |-- startup_toplevelwindow: long (nullable = true)\n",
      " |-- sys_arch: string (nullable = true)\n",
      " |-- sys_cpu_count: long (nullable = true)\n",
      " |-- sys_mem: long (nullable = true)\n",
      " |-- sys_os: string (nullable = true)\n",
      " |-- sys_os_version: string (nullable = true)\n",
      " |-- was_startup_interrupted: boolean (nullable = true)\n",
      "\n"
     ]
    }
   ],
   "source": [
    "scalar_flds = dataset_rows.first().keys()\n",
    "for fld in [\"addon_nonsys\", \"hangs\", \"hist_compartments\", \"hist_gc\"]:\n",
    "    scalar_flds.remove(fld)\n",
    "\n",
    "def main_row(r):\n",
    "    row_entries = {fld: r[fld] for fld in scalar_flds}\n",
    "    row_entries[\"has_hangs\"] = r[\"hangs\"] is not None and len(r[\"hangs\"]) > 0\n",
    "    row_entries[\"num_addons_nonsys\"] = len(r[\"addon_nonsys\"])\n",
    "    return Row(**row_entries)\n",
    "\n",
    "rdd_main = dataset_rows.map(main_row)\n",
    "DF_main = spark.createDataFrame(rdd_main)\n",
    "DF_main.printSchema()"
   ]
  },
  {
   "cell_type": "code",
   "execution_count": 33,
   "metadata": {
    "collapsed": false,
    "scrolled": true
   },
   "outputs": [
    {
     "data": {
      "text/plain": [
       "2649175"
      ]
     },
     "execution_count": 33,
     "metadata": {},
     "output_type": "execute_result"
    }
   ],
   "source": [
    "DF_main.count()"
   ]
  },
  {
   "cell_type": "markdown",
   "metadata": {},
   "source": [
    "Sanity-check our assumptions about the dataset.\n",
    "\n",
    "- Was the e10s setting consistent across all client sessions?\n",
    "- Does the client have sessions both before and after the change?"
   ]
  },
  {
   "cell_type": "code",
   "execution_count": 34,
   "metadata": {
    "collapsed": false
   },
   "outputs": [
    {
     "data": {
      "text/plain": [
       "[Row(constant_e10s=True, both_periods=True)]"
      ]
     },
     "execution_count": 34,
     "metadata": {},
     "output_type": "execute_result"
    }
   ],
   "source": [
    "client_stats = DF_main.groupBy(\"client_id\").agg(\n",
    "    (fun.countDistinct(\"e10s\") == 1).alias(\"constant_e10s\"),\n",
    "    (fun.countDistinct(\"period\") == 2).alias(\"both_periods\")\n",
    ")\n",
    "\n",
    "client_stats.select(\"constant_e10s\", \"both_periods\").distinct().collect()"
   ]
  },
  {
   "cell_type": "markdown",
   "metadata": {},
   "source": [
    "- Were add-ons consistent across client sessions?"
   ]
  },
  {
   "cell_type": "code",
   "execution_count": 35,
   "metadata": {
    "collapsed": false
   },
   "outputs": [
    {
     "data": {
      "text/plain": [
       "[Row(constant_addons=True, constant_addons_guid=True, count=43256),\n",
       " Row(constant_addons=False, constant_addons_guid=True, count=18573)]"
      ]
     },
     "execution_count": 35,
     "metadata": {},
     "output_type": "execute_result"
    }
   ],
   "source": [
    "def consistent_addons(rows_for_client, include_versions=True):\n",
    "    addon_info = (lambda r: (r.guid, r.version)) if include_versions else (lambda r: r.guid)\n",
    "    rows_for_client = list(rows_for_client)\n",
    "    unique_addons = set([addon_info(r) for r in rows_for_client])\n",
    "    single_session = filter(lambda r: r.session_id == rows_for_client[0].session_id, rows_for_client)\n",
    "    single_sess_addons = [addon_info(r) for r in single_session]\n",
    "    return len(unique_addons) == len(single_sess_addons)\n",
    "\n",
    "addon_stats = DF_addons.rdd.groupBy(lambda r: r.client_id)\\\n",
    "    .map(lambda (cid, gp): Row(client_id = cid,\n",
    "                               constant_addons = consistent_addons(gp),\n",
    "                               constant_addons_guid = consistent_addons(gp, False)))\n",
    "addon_stats = spark.createDataFrame(addon_stats)\n",
    "\n",
    "#DF_main = DF_main.join(addon_stats, \"client_id\", \"outer\")\n",
    "addon_stats.groupBy(\"constant_addons\", \"constant_addons_guid\").count().collect()"
   ]
  },
  {
   "cell_type": "markdown",
   "metadata": {},
   "source": [
    "#### Write datasets to file"
   ]
  },
  {
   "cell_type": "code",
   "execution_count": 37,
   "metadata": {
    "collapsed": false
   },
   "outputs": [],
   "source": [
    "datasets_path = \"addon-sdk-fix-data_beta_{}\".format(date.today().isoformat())\n",
    "os.mkdir(datasets_path)"
   ]
  },
  {
   "cell_type": "code",
   "execution_count": 38,
   "metadata": {
    "collapsed": false
   },
   "outputs": [],
   "source": [
    "feather.write_dataframe(DF_main.toPandas(), datasets_path + \"/main.feather\")"
   ]
  },
  {
   "cell_type": "code",
   "execution_count": 39,
   "metadata": {
    "collapsed": true
   },
   "outputs": [],
   "source": [
    "feather.write_dataframe(DF_addons.toPandas(), datasets_path + \"/addons.feather\")\n",
    "feather.write_dataframe(DF_hangs.toPandas(), datasets_path + \"/hangs.feather\")\n",
    "feather.write_dataframe(DF_hist.toPandas(), datasets_path + \"/hist.feather\")"
   ]
  },
  {
   "cell_type": "code",
   "execution_count": 40,
   "metadata": {
    "collapsed": false
   },
   "outputs": [
    {
     "data": {
      "text/plain": [
       "0"
      ]
     },
     "execution_count": 40,
     "metadata": {},
     "output_type": "execute_result"
    }
   ],
   "source": [
    "os.system(\"tar cfz {}.tar.gz {}/*.feather\".format(datasets_path, datasets_path))"
   ]
  }
 ],
 "metadata": {
  "anaconda-cloud": {},
  "kernelspec": {
   "display_name": "Python [default]",
   "language": "python",
   "name": "python2"
  },
  "language_info": {
   "codemirror_mode": {
    "name": "ipython",
    "version": 2
   },
   "file_extension": ".py",
   "mimetype": "text/x-python",
   "name": "python",
   "nbconvert_exporter": "python",
   "pygments_lexer": "ipython2",
   "version": "2.7.12"
  }
 },
 "nbformat": 4,
 "nbformat_minor": 1
}
