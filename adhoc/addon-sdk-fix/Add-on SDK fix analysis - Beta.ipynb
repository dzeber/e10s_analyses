{
 "cells": [
  {
   "cell_type": "code",
   "execution_count": 55,
   "metadata": {
    "collapsed": false
   },
   "outputs": [
    {
     "name": "stdout",
     "output_type": "stream",
     "text": [
      "Populating the interactive namespace from numpy and matplotlib\n"
     ]
    }
   ],
   "source": [
    "import ujson as json\n",
    "import matplotlib.pyplot as plt\n",
    "import pandas as pd\n",
    "import numpy as np\n",
    "import math\n",
    "import plotly.plotly as py\n",
    "import IPython\n",
    "import pyspark.sql.functions as fun\n",
    "from pyspark.sql import Row\n",
    "from datetime import date\n",
    "import feather\n",
    "from collections import defaultdict\n",
    "import os\n",
    "\n",
    "from __future__ import division\n",
    "from moztelemetry.spark import get_pings, get_one_ping_per_client, get_pings_properties\n",
    "from moztelemetry.dataset import Dataset\n",
    "from montecarlino import grouped_permutation_test\n",
    "\n",
    "%pylab inline\n",
    "IPython.core.pylabtools.figsize(16, 7)"
   ]
  },
  {
   "cell_type": "code",
   "execution_count": 2,
   "metadata": {
    "collapsed": false
   },
   "outputs": [
    {
     "data": {
      "text/plain": [
       "96"
      ]
     },
     "execution_count": 2,
     "metadata": {},
     "output_type": "execute_result"
    }
   ],
   "source": [
    "sc.defaultParallelism"
   ]
  },
  {
   "cell_type": "code",
   "execution_count": 3,
   "metadata": {
    "collapsed": false
   },
   "outputs": [
    {
     "data": {
      "text/plain": [
       "u'2.0.0'"
      ]
     },
     "execution_count": 3,
     "metadata": {},
     "output_type": "execute_result"
    }
   ],
   "source": [
    "sc.version"
   ]
  },
  {
   "cell_type": "markdown",
   "metadata": {},
   "source": [
    "### Load beta data to test"
   ]
  },
  {
   "cell_type": "markdown",
   "metadata": {},
   "source": [
    "How many sessions do we have on recent Beta builds?"
   ]
  },
  {
   "cell_type": "code",
   "execution_count": 4,
   "metadata": {
    "collapsed": true
   },
   "outputs": [],
   "source": [
    "DF = sqlContext.read.parquet(\"s3://telemetry-parquet/main_summary/v3/\")"
   ]
  },
  {
   "cell_type": "code",
   "execution_count": 5,
   "metadata": {
    "collapsed": false
   },
   "outputs": [],
   "source": [
    "DF_beta_builds = DF.filter(\"submission_date_s3 > '20161015'\")\\\n",
    "    .filter(\"app_name = 'Firefox' and channel = 'beta' and app_build_id >= '20161018000000'\")\\\n",
    "    .groupBy(\"app_build_id\", \"app_version\").count()"
   ]
  },
  {
   "cell_type": "code",
   "execution_count": 6,
   "metadata": {
    "collapsed": false
   },
   "outputs": [
    {
     "data": {
      "text/html": [
       "<div>\n",
       "<table border=\"1\" class=\"dataframe\">\n",
       "  <thead>\n",
       "    <tr style=\"text-align: right;\">\n",
       "      <th></th>\n",
       "      <th>app_build_id</th>\n",
       "      <th>app_version</th>\n",
       "      <th>count</th>\n",
       "    </tr>\n",
       "  </thead>\n",
       "  <tbody>\n",
       "    <tr>\n",
       "      <th>0</th>\n",
       "      <td>20161027110534</td>\n",
       "      <td>50.0</td>\n",
       "      <td>28370508</td>\n",
       "    </tr>\n",
       "    <tr>\n",
       "      <th>1</th>\n",
       "      <td>20161101104304</td>\n",
       "      <td>50.0</td>\n",
       "      <td>27816617</td>\n",
       "    </tr>\n",
       "    <tr>\n",
       "      <th>2</th>\n",
       "      <td>20161020152750</td>\n",
       "      <td>50.0</td>\n",
       "      <td>21507597</td>\n",
       "    </tr>\n",
       "    <tr>\n",
       "      <th>3</th>\n",
       "      <td>20161024172922</td>\n",
       "      <td>50.0</td>\n",
       "      <td>19329942</td>\n",
       "    </tr>\n",
       "    <tr>\n",
       "      <th>4</th>\n",
       "      <td>20161104212021</td>\n",
       "      <td>50.0</td>\n",
       "      <td>12624879</td>\n",
       "    </tr>\n",
       "    <tr>\n",
       "      <th>5</th>\n",
       "      <td>20161019084923</td>\n",
       "      <td>49.0.2</td>\n",
       "      <td>111223</td>\n",
       "    </tr>\n",
       "    <tr>\n",
       "      <th>6</th>\n",
       "      <td>20161031133903</td>\n",
       "      <td>47.0.2</td>\n",
       "      <td>37583</td>\n",
       "    </tr>\n",
       "    <tr>\n",
       "      <th>7</th>\n",
       "      <td>20161028075540</td>\n",
       "      <td>50.0</td>\n",
       "      <td>24749</td>\n",
       "    </tr>\n",
       "    <tr>\n",
       "      <th>8</th>\n",
       "      <td>20161028075404</td>\n",
       "      <td>50.0</td>\n",
       "      <td>18482</td>\n",
       "    </tr>\n",
       "    <tr>\n",
       "      <th>9</th>\n",
       "      <td>20161021085142</td>\n",
       "      <td>50.0</td>\n",
       "      <td>11410</td>\n",
       "    </tr>\n",
       "    <tr>\n",
       "      <th>10</th>\n",
       "      <td>20161021084846</td>\n",
       "      <td>50.0</td>\n",
       "      <td>10002</td>\n",
       "    </tr>\n",
       "    <tr>\n",
       "      <th>11</th>\n",
       "      <td>20161028075722</td>\n",
       "      <td>50.0</td>\n",
       "      <td>9348</td>\n",
       "    </tr>\n",
       "    <tr>\n",
       "      <th>12</th>\n",
       "      <td>20161018084936</td>\n",
       "      <td>50.0</td>\n",
       "      <td>8770</td>\n",
       "    </tr>\n",
       "    <tr>\n",
       "      <th>13</th>\n",
       "      <td>20161025123105</td>\n",
       "      <td>50.0</td>\n",
       "      <td>8001</td>\n",
       "    </tr>\n",
       "    <tr>\n",
       "      <th>14</th>\n",
       "      <td>20161025122620</td>\n",
       "      <td>50.0</td>\n",
       "      <td>6109</td>\n",
       "    </tr>\n",
       "    <tr>\n",
       "      <th>15</th>\n",
       "      <td>20161028075333</td>\n",
       "      <td>50.0</td>\n",
       "      <td>5844</td>\n",
       "    </tr>\n",
       "    <tr>\n",
       "      <th>16</th>\n",
       "      <td>20161028075454</td>\n",
       "      <td>50.0</td>\n",
       "      <td>5099</td>\n",
       "    </tr>\n",
       "    <tr>\n",
       "      <th>17</th>\n",
       "      <td>20161018084433</td>\n",
       "      <td>50.0</td>\n",
       "      <td>5021</td>\n",
       "    </tr>\n",
       "    <tr>\n",
       "      <th>18</th>\n",
       "      <td>20161028075008</td>\n",
       "      <td>50.0</td>\n",
       "      <td>5013</td>\n",
       "    </tr>\n",
       "    <tr>\n",
       "      <th>19</th>\n",
       "      <td>20161021084716</td>\n",
       "      <td>50.0</td>\n",
       "      <td>4779</td>\n",
       "    </tr>\n",
       "  </tbody>\n",
       "</table>\n",
       "</div>"
      ],
      "text/plain": [
       "      app_build_id app_version     count\n",
       "0   20161027110534        50.0  28370508\n",
       "1   20161101104304        50.0  27816617\n",
       "2   20161020152750        50.0  21507597\n",
       "3   20161024172922        50.0  19329942\n",
       "4   20161104212021        50.0  12624879\n",
       "5   20161019084923      49.0.2    111223\n",
       "6   20161031133903      47.0.2     37583\n",
       "7   20161028075540        50.0     24749\n",
       "8   20161028075404        50.0     18482\n",
       "9   20161021085142        50.0     11410\n",
       "10  20161021084846        50.0     10002\n",
       "11  20161028075722        50.0      9348\n",
       "12  20161018084936        50.0      8770\n",
       "13  20161025123105        50.0      8001\n",
       "14  20161025122620        50.0      6109\n",
       "15  20161028075333        50.0      5844\n",
       "16  20161028075454        50.0      5099\n",
       "17  20161018084433        50.0      5021\n",
       "18  20161028075008        50.0      5013\n",
       "19  20161021084716        50.0      4779"
      ]
     },
     "execution_count": 6,
     "metadata": {},
     "output_type": "execute_result"
    }
   ],
   "source": [
    "DF_beta_builds.orderBy(\"count\", ascending = False).toPandas()[:20]"
   ]
  },
  {
   "cell_type": "markdown",
   "metadata": {},
   "source": [
    "### Check hang occurrences\n",
    "\n",
    "When comparing single builds, we saw hardly any hangs on the build after the change. Look at hang numbers across multiple before/after builds."
   ]
  },
  {
   "cell_type": "code",
   "execution_count": 7,
   "metadata": {
    "collapsed": false
   },
   "outputs": [
    {
     "name": "stdout",
     "output_type": "stream",
     "text": [
      "Num sessions before: 1,712,592\n",
      "\n",
      "CPU times: user 32 ms, sys: 12 ms, total: 44 ms\n",
      "Wall time: 3min 32s\n"
     ]
    }
   ],
   "source": [
    "sample_before = get_pings(sc, app=\"Firefox\", channel=\"beta\", build_id=(\"20161018000000\", \"20161027000000\"),\n",
    "                          fraction=0.05)\n",
    "%time print(\"Num sessions before: {:,}\\n\".format(sample_before.count()))"
   ]
  },
  {
   "cell_type": "code",
   "execution_count": 3,
   "metadata": {
    "collapsed": false
   },
   "outputs": [
    {
     "name": "stdout",
     "output_type": "stream",
     "text": [
      "Num sessions after: 1,947,880\n",
      "\n",
      "CPU times: user 24 ms, sys: 16 ms, total: 40 ms\n",
      "Wall time: 2min 3s\n"
     ]
    }
   ],
   "source": [
    "sample_after = get_pings(sc, app=\"Firefox\", channel=\"beta\", build_id=(\"20161031000000\", \"20161108000000\"),\n",
    "                          fraction=0.05)\n",
    "%time print(\"Num sessions after: {:,}\\n\".format(sample_after.count()))"
   ]
  },
  {
   "cell_type": "code",
   "execution_count": 30,
   "metadata": {
    "collapsed": true
   },
   "outputs": [],
   "source": [
    "sample_full = sample_before.union(sample_after)"
   ]
  },
  {
   "cell_type": "code",
   "execution_count": 72,
   "metadata": {
    "collapsed": false
   },
   "outputs": [
    {
     "name": "stdout",
     "output_type": "stream",
     "text": [
      "Num sessions: 11,024,531\n",
      "\n",
      "CPU times: user 44 ms, sys: 20 ms, total: 64 ms\n",
      "Wall time: 7min 24s\n"
     ]
    }
   ],
   "source": [
    "sample_full = get_pings(sc, app=\"Firefox\", channel=\"beta\",\n",
    "                        build_id=(\"20161015000000\", \"20161108000000\"),\n",
    "                        fraction=0.1)\n",
    "\n",
    "%time print(\"Num sessions: {:,}\\n\".format(sample_full.count()))"
   ]
  },
  {
   "cell_type": "code",
   "execution_count": 71,
   "metadata": {
    "collapsed": false
   },
   "outputs": [
    {
     "name": "stdout",
     "output_type": "stream",
     "text": [
      "Num sessions: 0\n",
      "\n",
      "CPU times: user 0 ns, sys: 24 ms, total: 24 ms\n",
      "Wall time: 1.47 s\n"
     ]
    }
   ],
   "source": [
    "## Not working?\n",
    "\n",
    "#spark_dataset = Dataset.from_source('telemetry')\n",
    "#sample_full = spark_dataset.where(docType=\"saved_session\", sourceName=\"telemetry\", sourceVersion=\"4\")\\\n",
    "#    .where(appName=\"Firefox\", appUpdateChannel=\"beta\")\\\n",
    "#    .where(submissionDate=lambda x: x >= \"20161015\")\\\n",
    "#    .where(appBuildId=lambda x: x >= \"20161015000000\")\\\n",
    "#    .records(sc, sample=0.1)\n",
    "\n",
    "#%time print(\"Num sessions: {:,}\\n\".format(sample_full.count()))"
   ]
  },
  {
   "cell_type": "code",
   "execution_count": 73,
   "metadata": {
    "collapsed": false
   },
   "outputs": [],
   "source": [
    "def get_hang_stats(ping):\n",
    "    payload = ping.get(\"payload\", {})\n",
    "    return {\n",
    "        \"build_id\": ping.get(\"application\", {}).get(\"buildId\"),\n",
    "        \"main_hangs\": payload.get(\"threadHangStats\", []),\n",
    "        \"child_hangs\": map(lambda p: p.get(\"threadHangStats\", []), payload.get(\"childPayloads\", {}))\n",
    "    }"
   ]
  },
  {
   "cell_type": "code",
   "execution_count": 74,
   "metadata": {
    "collapsed": false
   },
   "outputs": [
    {
     "data": {
      "text/plain": [
       "11024531"
      ]
     },
     "execution_count": 74,
     "metadata": {},
     "output_type": "execute_result"
    }
   ],
   "source": [
    "sample_hangs = sample_full.map(get_hang_stats).cache()\n",
    "sample_hangs.count()"
   ]
  },
  {
   "cell_type": "code",
   "execution_count": 75,
   "metadata": {
    "collapsed": true
   },
   "outputs": [],
   "source": [
    "sample_hangs_rdd = sample_hangs.map(lambda r:\n",
    "    Row(build=r[\"build_id\"],\n",
    "        #period=\"before\" if r[\"build_id\"] <= \"20161028000000\" else \"after\",\n",
    "        has_main_hangs = len(r[\"main_hangs\"]) > 0,\n",
    "        has_child_hangs = len(filter(lambda ch: len(ch) > 0, r[\"child_hangs\"])) > 0))\n",
    "\n",
    "sample_hangs_DF = spark.createDataFrame(sample_hangs_rdd)"
   ]
  },
  {
   "cell_type": "code",
   "execution_count": 76,
   "metadata": {
    "collapsed": false,
    "scrolled": true
   },
   "outputs": [
    {
     "data": {
      "text/html": [
       "<div>\n",
       "<table border=\"1\" class=\"dataframe\">\n",
       "  <thead>\n",
       "    <tr style=\"text-align: right;\">\n",
       "      <th></th>\n",
       "      <th>build</th>\n",
       "      <th>count</th>\n",
       "    </tr>\n",
       "  </thead>\n",
       "  <tbody>\n",
       "    <tr>\n",
       "      <th>0</th>\n",
       "      <td>20161015124135</td>\n",
       "      <td>92</td>\n",
       "    </tr>\n",
       "    <tr>\n",
       "      <th>1</th>\n",
       "      <td>20161016004034</td>\n",
       "      <td>3</td>\n",
       "    </tr>\n",
       "    <tr>\n",
       "      <th>2</th>\n",
       "      <td>20161017130949</td>\n",
       "      <td>1838388</td>\n",
       "    </tr>\n",
       "    <tr>\n",
       "      <th>3</th>\n",
       "      <td>20161018061921</td>\n",
       "      <td>2</td>\n",
       "    </tr>\n",
       "    <tr>\n",
       "      <th>4</th>\n",
       "      <td>20161018084128</td>\n",
       "      <td>64</td>\n",
       "    </tr>\n",
       "    <tr>\n",
       "      <th>5</th>\n",
       "      <td>20161018084136</td>\n",
       "      <td>326</td>\n",
       "    </tr>\n",
       "    <tr>\n",
       "      <th>6</th>\n",
       "      <td>20161018084432</td>\n",
       "      <td>132</td>\n",
       "    </tr>\n",
       "    <tr>\n",
       "      <th>7</th>\n",
       "      <td>20161018084433</td>\n",
       "      <td>337</td>\n",
       "    </tr>\n",
       "    <tr>\n",
       "      <th>8</th>\n",
       "      <td>20161018084600</td>\n",
       "      <td>14</td>\n",
       "    </tr>\n",
       "    <tr>\n",
       "      <th>9</th>\n",
       "      <td>20161018084854</td>\n",
       "      <td>109</td>\n",
       "    </tr>\n",
       "    <tr>\n",
       "      <th>10</th>\n",
       "      <td>20161018084936</td>\n",
       "      <td>391</td>\n",
       "    </tr>\n",
       "    <tr>\n",
       "      <th>11</th>\n",
       "      <td>20161018085318</td>\n",
       "      <td>14</td>\n",
       "    </tr>\n",
       "    <tr>\n",
       "      <th>12</th>\n",
       "      <td>20161018085323</td>\n",
       "      <td>106</td>\n",
       "    </tr>\n",
       "    <tr>\n",
       "      <th>13</th>\n",
       "      <td>20161018141823</td>\n",
       "      <td>20</td>\n",
       "    </tr>\n",
       "    <tr>\n",
       "      <th>14</th>\n",
       "      <td>20161019084923</td>\n",
       "      <td>9774</td>\n",
       "    </tr>\n",
       "    <tr>\n",
       "      <th>15</th>\n",
       "      <td>20161019132823</td>\n",
       "      <td>24</td>\n",
       "    </tr>\n",
       "    <tr>\n",
       "      <th>16</th>\n",
       "      <td>20161019161412</td>\n",
       "      <td>1</td>\n",
       "    </tr>\n",
       "    <tr>\n",
       "      <th>17</th>\n",
       "      <td>20161020122950</td>\n",
       "      <td>2</td>\n",
       "    </tr>\n",
       "    <tr>\n",
       "      <th>18</th>\n",
       "      <td>20161020152750</td>\n",
       "      <td>1555465</td>\n",
       "    </tr>\n",
       "    <tr>\n",
       "      <th>19</th>\n",
       "      <td>20161020185050</td>\n",
       "      <td>37</td>\n",
       "    </tr>\n",
       "    <tr>\n",
       "      <th>20</th>\n",
       "      <td>20161021084308</td>\n",
       "      <td>240</td>\n",
       "    </tr>\n",
       "    <tr>\n",
       "      <th>21</th>\n",
       "      <td>20161021084403</td>\n",
       "      <td>67</td>\n",
       "    </tr>\n",
       "    <tr>\n",
       "      <th>22</th>\n",
       "      <td>20161021084716</td>\n",
       "      <td>374</td>\n",
       "    </tr>\n",
       "    <tr>\n",
       "      <th>23</th>\n",
       "      <td>20161021084846</td>\n",
       "      <td>588</td>\n",
       "    </tr>\n",
       "    <tr>\n",
       "      <th>24</th>\n",
       "      <td>20161021084938</td>\n",
       "      <td>37</td>\n",
       "    </tr>\n",
       "    <tr>\n",
       "      <th>25</th>\n",
       "      <td>20161021085100</td>\n",
       "      <td>139</td>\n",
       "    </tr>\n",
       "    <tr>\n",
       "      <th>26</th>\n",
       "      <td>20161021085142</td>\n",
       "      <td>627</td>\n",
       "    </tr>\n",
       "    <tr>\n",
       "      <th>27</th>\n",
       "      <td>20161021085234</td>\n",
       "      <td>162</td>\n",
       "    </tr>\n",
       "    <tr>\n",
       "      <th>28</th>\n",
       "      <td>20161021085323</td>\n",
       "      <td>6</td>\n",
       "    </tr>\n",
       "    <tr>\n",
       "      <th>29</th>\n",
       "      <td>20161021085404</td>\n",
       "      <td>9</td>\n",
       "    </tr>\n",
       "    <tr>\n",
       "      <th>...</th>\n",
       "      <td>...</td>\n",
       "      <td>...</td>\n",
       "    </tr>\n",
       "    <tr>\n",
       "      <th>50</th>\n",
       "      <td>20161025195123</td>\n",
       "      <td>66</td>\n",
       "    </tr>\n",
       "    <tr>\n",
       "      <th>51</th>\n",
       "      <td>20161026201934</td>\n",
       "      <td>20</td>\n",
       "    </tr>\n",
       "    <tr>\n",
       "      <th>52</th>\n",
       "      <td>20161027030534</td>\n",
       "      <td>16</td>\n",
       "    </tr>\n",
       "    <tr>\n",
       "      <th>53</th>\n",
       "      <td>20161027110534</td>\n",
       "      <td>2307641</td>\n",
       "    </tr>\n",
       "    <tr>\n",
       "      <th>54</th>\n",
       "      <td>20161027172859</td>\n",
       "      <td>2</td>\n",
       "    </tr>\n",
       "    <tr>\n",
       "      <th>55</th>\n",
       "      <td>20161028074848</td>\n",
       "      <td>226</td>\n",
       "    </tr>\n",
       "    <tr>\n",
       "      <th>56</th>\n",
       "      <td>20161028075008</td>\n",
       "      <td>420</td>\n",
       "    </tr>\n",
       "    <tr>\n",
       "      <th>57</th>\n",
       "      <td>20161028075045</td>\n",
       "      <td>9</td>\n",
       "    </tr>\n",
       "    <tr>\n",
       "      <th>58</th>\n",
       "      <td>20161028075333</td>\n",
       "      <td>413</td>\n",
       "    </tr>\n",
       "    <tr>\n",
       "      <th>59</th>\n",
       "      <td>20161028075404</td>\n",
       "      <td>1002</td>\n",
       "    </tr>\n",
       "    <tr>\n",
       "      <th>60</th>\n",
       "      <td>20161028075454</td>\n",
       "      <td>243</td>\n",
       "    </tr>\n",
       "    <tr>\n",
       "      <th>61</th>\n",
       "      <td>20161028075521</td>\n",
       "      <td>81</td>\n",
       "    </tr>\n",
       "    <tr>\n",
       "      <th>62</th>\n",
       "      <td>20161028075540</td>\n",
       "      <td>1308</td>\n",
       "    </tr>\n",
       "    <tr>\n",
       "      <th>63</th>\n",
       "      <td>20161028075722</td>\n",
       "      <td>498</td>\n",
       "    </tr>\n",
       "    <tr>\n",
       "      <th>64</th>\n",
       "      <td>20161028075724</td>\n",
       "      <td>3</td>\n",
       "    </tr>\n",
       "    <tr>\n",
       "      <th>65</th>\n",
       "      <td>20161028075827</td>\n",
       "      <td>24</td>\n",
       "    </tr>\n",
       "    <tr>\n",
       "      <th>66</th>\n",
       "      <td>20161028080145</td>\n",
       "      <td>28</td>\n",
       "    </tr>\n",
       "    <tr>\n",
       "      <th>67</th>\n",
       "      <td>20161028121858</td>\n",
       "      <td>6</td>\n",
       "    </tr>\n",
       "    <tr>\n",
       "      <th>68</th>\n",
       "      <td>20161029132221</td>\n",
       "      <td>22</td>\n",
       "    </tr>\n",
       "    <tr>\n",
       "      <th>69</th>\n",
       "      <td>20161030030521</td>\n",
       "      <td>43</td>\n",
       "    </tr>\n",
       "    <tr>\n",
       "      <th>70</th>\n",
       "      <td>20161031050421</td>\n",
       "      <td>9</td>\n",
       "    </tr>\n",
       "    <tr>\n",
       "      <th>71</th>\n",
       "      <td>20161031133903</td>\n",
       "      <td>3800</td>\n",
       "    </tr>\n",
       "    <tr>\n",
       "      <th>72</th>\n",
       "      <td>20161031140704</td>\n",
       "      <td>14</td>\n",
       "    </tr>\n",
       "    <tr>\n",
       "      <th>73</th>\n",
       "      <td>20161101004006</td>\n",
       "      <td>4</td>\n",
       "    </tr>\n",
       "    <tr>\n",
       "      <th>74</th>\n",
       "      <td>20161101104104</td>\n",
       "      <td>109</td>\n",
       "    </tr>\n",
       "    <tr>\n",
       "      <th>75</th>\n",
       "      <td>20161101104304</td>\n",
       "      <td>2123561</td>\n",
       "    </tr>\n",
       "    <tr>\n",
       "      <th>76</th>\n",
       "      <td>20161103004020</td>\n",
       "      <td>2</td>\n",
       "    </tr>\n",
       "    <tr>\n",
       "      <th>77</th>\n",
       "      <td>20161103181821</td>\n",
       "      <td>281</td>\n",
       "    </tr>\n",
       "    <tr>\n",
       "      <th>78</th>\n",
       "      <td>20161104004016</td>\n",
       "      <td>4</td>\n",
       "    </tr>\n",
       "    <tr>\n",
       "      <th>79</th>\n",
       "      <td>20161104212021</td>\n",
       "      <td>1531737</td>\n",
       "    </tr>\n",
       "  </tbody>\n",
       "</table>\n",
       "<p>80 rows × 2 columns</p>\n",
       "</div>"
      ],
      "text/plain": [
       "             build    count\n",
       "0   20161015124135       92\n",
       "1   20161016004034        3\n",
       "2   20161017130949  1838388\n",
       "3   20161018061921        2\n",
       "4   20161018084128       64\n",
       "5   20161018084136      326\n",
       "6   20161018084432      132\n",
       "7   20161018084433      337\n",
       "8   20161018084600       14\n",
       "9   20161018084854      109\n",
       "10  20161018084936      391\n",
       "11  20161018085318       14\n",
       "12  20161018085323      106\n",
       "13  20161018141823       20\n",
       "14  20161019084923     9774\n",
       "15  20161019132823       24\n",
       "16  20161019161412        1\n",
       "17  20161020122950        2\n",
       "18  20161020152750  1555465\n",
       "19  20161020185050       37\n",
       "20  20161021084308      240\n",
       "21  20161021084403       67\n",
       "22  20161021084716      374\n",
       "23  20161021084846      588\n",
       "24  20161021084938       37\n",
       "25  20161021085100      139\n",
       "26  20161021085142      627\n",
       "27  20161021085234      162\n",
       "28  20161021085323        6\n",
       "29  20161021085404        9\n",
       "..             ...      ...\n",
       "50  20161025195123       66\n",
       "51  20161026201934       20\n",
       "52  20161027030534       16\n",
       "53  20161027110534  2307641\n",
       "54  20161027172859        2\n",
       "55  20161028074848      226\n",
       "56  20161028075008      420\n",
       "57  20161028075045        9\n",
       "58  20161028075333      413\n",
       "59  20161028075404     1002\n",
       "60  20161028075454      243\n",
       "61  20161028075521       81\n",
       "62  20161028075540     1308\n",
       "63  20161028075722      498\n",
       "64  20161028075724        3\n",
       "65  20161028075827       24\n",
       "66  20161028080145       28\n",
       "67  20161028121858        6\n",
       "68  20161029132221       22\n",
       "69  20161030030521       43\n",
       "70  20161031050421        9\n",
       "71  20161031133903     3800\n",
       "72  20161031140704       14\n",
       "73  20161101004006        4\n",
       "74  20161101104104      109\n",
       "75  20161101104304  2123561\n",
       "76  20161103004020        2\n",
       "77  20161103181821      281\n",
       "78  20161104004016        4\n",
       "79  20161104212021  1531737\n",
       "\n",
       "[80 rows x 2 columns]"
      ]
     },
     "execution_count": 76,
     "metadata": {},
     "output_type": "execute_result"
    }
   ],
   "source": [
    "sample_hangs_DF.groupBy(\"build\").count().orderBy(\"build\").toPandas()"
   ]
  },
  {
   "cell_type": "code",
   "execution_count": 86,
   "metadata": {
    "collapsed": false
   },
   "outputs": [
    {
     "data": {
      "text/html": [
       "<div>\n",
       "<table border=\"1\" class=\"dataframe\">\n",
       "  <thead>\n",
       "    <tr style=\"text-align: right;\">\n",
       "      <th></th>\n",
       "      <th>build_date</th>\n",
       "      <th>has_main_hangs</th>\n",
       "      <th>has_child_hangs</th>\n",
       "      <th>n_sessions</th>\n",
       "      <th>pct_has_hangs</th>\n",
       "    </tr>\n",
       "  </thead>\n",
       "  <tbody>\n",
       "    <tr>\n",
       "      <th>0</th>\n",
       "      <td>20161015</td>\n",
       "      <td>6</td>\n",
       "      <td>0</td>\n",
       "      <td>92</td>\n",
       "      <td>6.521739</td>\n",
       "    </tr>\n",
       "    <tr>\n",
       "      <th>1</th>\n",
       "      <td>20161016</td>\n",
       "      <td>3</td>\n",
       "      <td>1</td>\n",
       "      <td>3</td>\n",
       "      <td>100.000000</td>\n",
       "    </tr>\n",
       "    <tr>\n",
       "      <th>2</th>\n",
       "      <td>20161017</td>\n",
       "      <td>1830853</td>\n",
       "      <td>656465</td>\n",
       "      <td>1838388</td>\n",
       "      <td>99.590130</td>\n",
       "    </tr>\n",
       "    <tr>\n",
       "      <th>3</th>\n",
       "      <td>20161018</td>\n",
       "      <td>1475</td>\n",
       "      <td>364</td>\n",
       "      <td>1515</td>\n",
       "      <td>97.359736</td>\n",
       "    </tr>\n",
       "    <tr>\n",
       "      <th>4</th>\n",
       "      <td>20161019</td>\n",
       "      <td>1</td>\n",
       "      <td>1</td>\n",
       "      <td>9799</td>\n",
       "      <td>0.010205</td>\n",
       "    </tr>\n",
       "    <tr>\n",
       "      <th>5</th>\n",
       "      <td>20161020</td>\n",
       "      <td>1548771</td>\n",
       "      <td>551836</td>\n",
       "      <td>1555504</td>\n",
       "      <td>99.567150</td>\n",
       "    </tr>\n",
       "    <tr>\n",
       "      <th>6</th>\n",
       "      <td>20161021</td>\n",
       "      <td>2216</td>\n",
       "      <td>493</td>\n",
       "      <td>2343</td>\n",
       "      <td>94.579599</td>\n",
       "    </tr>\n",
       "    <tr>\n",
       "      <th>7</th>\n",
       "      <td>20161023</td>\n",
       "      <td>0</td>\n",
       "      <td>0</td>\n",
       "      <td>18</td>\n",
       "      <td>0.000000</td>\n",
       "    </tr>\n",
       "    <tr>\n",
       "      <th>8</th>\n",
       "      <td>20161024</td>\n",
       "      <td>1636629</td>\n",
       "      <td>590779</td>\n",
       "      <td>1644011</td>\n",
       "      <td>99.550976</td>\n",
       "    </tr>\n",
       "    <tr>\n",
       "      <th>9</th>\n",
       "      <td>20161025</td>\n",
       "      <td>1240</td>\n",
       "      <td>296</td>\n",
       "      <td>1332</td>\n",
       "      <td>93.093093</td>\n",
       "    </tr>\n",
       "    <tr>\n",
       "      <th>10</th>\n",
       "      <td>20161026</td>\n",
       "      <td>0</td>\n",
       "      <td>0</td>\n",
       "      <td>20</td>\n",
       "      <td>0.000000</td>\n",
       "    </tr>\n",
       "    <tr>\n",
       "      <th>11</th>\n",
       "      <td>20161027</td>\n",
       "      <td>2292124</td>\n",
       "      <td>813660</td>\n",
       "      <td>2307659</td>\n",
       "      <td>99.326807</td>\n",
       "    </tr>\n",
       "    <tr>\n",
       "      <th>12</th>\n",
       "      <td>20161028</td>\n",
       "      <td>4184</td>\n",
       "      <td>1057</td>\n",
       "      <td>4261</td>\n",
       "      <td>98.192912</td>\n",
       "    </tr>\n",
       "    <tr>\n",
       "      <th>13</th>\n",
       "      <td>20161029</td>\n",
       "      <td>0</td>\n",
       "      <td>0</td>\n",
       "      <td>22</td>\n",
       "      <td>0.000000</td>\n",
       "    </tr>\n",
       "    <tr>\n",
       "      <th>14</th>\n",
       "      <td>20161030</td>\n",
       "      <td>1</td>\n",
       "      <td>0</td>\n",
       "      <td>43</td>\n",
       "      <td>2.325581</td>\n",
       "    </tr>\n",
       "    <tr>\n",
       "      <th>15</th>\n",
       "      <td>20161031</td>\n",
       "      <td>0</td>\n",
       "      <td>0</td>\n",
       "      <td>3823</td>\n",
       "      <td>0.000000</td>\n",
       "    </tr>\n",
       "    <tr>\n",
       "      <th>16</th>\n",
       "      <td>20161101</td>\n",
       "      <td>7</td>\n",
       "      <td>3</td>\n",
       "      <td>2123674</td>\n",
       "      <td>0.000330</td>\n",
       "    </tr>\n",
       "    <tr>\n",
       "      <th>17</th>\n",
       "      <td>20161103</td>\n",
       "      <td>4</td>\n",
       "      <td>1</td>\n",
       "      <td>283</td>\n",
       "      <td>1.413428</td>\n",
       "    </tr>\n",
       "    <tr>\n",
       "      <th>18</th>\n",
       "      <td>20161104</td>\n",
       "      <td>4</td>\n",
       "      <td>4</td>\n",
       "      <td>1531741</td>\n",
       "      <td>0.000261</td>\n",
       "    </tr>\n",
       "  </tbody>\n",
       "</table>\n",
       "</div>"
      ],
      "text/plain": [
       "   build_date  has_main_hangs  has_child_hangs  n_sessions  pct_has_hangs\n",
       "0    20161015               6                0          92       6.521739\n",
       "1    20161016               3                1           3     100.000000\n",
       "2    20161017         1830853           656465     1838388      99.590130\n",
       "3    20161018            1475              364        1515      97.359736\n",
       "4    20161019               1                1        9799       0.010205\n",
       "5    20161020         1548771           551836     1555504      99.567150\n",
       "6    20161021            2216              493        2343      94.579599\n",
       "7    20161023               0                0          18       0.000000\n",
       "8    20161024         1636629           590779     1644011      99.550976\n",
       "9    20161025            1240              296        1332      93.093093\n",
       "10   20161026               0                0          20       0.000000\n",
       "11   20161027         2292124           813660     2307659      99.326807\n",
       "12   20161028            4184             1057        4261      98.192912\n",
       "13   20161029               0                0          22       0.000000\n",
       "14   20161030               1                0          43       2.325581\n",
       "15   20161031               0                0        3823       0.000000\n",
       "16   20161101               7                3     2123674       0.000330\n",
       "17   20161103               4                1         283       1.413428\n",
       "18   20161104               4                4     1531741       0.000261"
      ]
     },
     "execution_count": 86,
     "metadata": {},
     "output_type": "execute_result"
    }
   ],
   "source": [
    "pct_hangs_DF = sample_hangs_DF.groupBy(fun.substring(\"build\", 1, 8).alias(\"build_date\"))\\\n",
    "    .agg(fun.sum(fun.when(sample_hangs_DF.has_main_hangs, 1).otherwise(0)).alias(\"has_main_hangs\"),\n",
    "         fun.sum(fun.when(sample_hangs_DF.has_child_hangs, 1).otherwise(0)).alias(\"has_child_hangs\"),\n",
    "         fun.count(\"has_main_hangs\").alias(\"n_sessions\"))\n",
    "pct_hangs_DF = pct_hangs_DF.withColumn(\"pct_has_hangs\",\n",
    "    pct_hangs_DF.has_main_hangs / pct_hangs_DF.n_sessions * 100)\n",
    "pct_hangs_DF.orderBy(\"build_date\").toPandas()"
   ]
  },
  {
   "cell_type": "code",
   "execution_count": null,
   "metadata": {
    "collapsed": true
   },
   "outputs": [],
   "source": [
    "def has_addon_hangs(h):\n",
    "    if len(h) == 0:\n",
    "        return False\n",
    "    gh = filter(lambda hh: hh[\"name\"] == \"Gecko\", h)\n",
    "    if len(gh) == 0:\n",
    "        return False\n",
    "    gh = gh[0][\"hangs\"]\n",
    "    return len(filter(addon_sdk_hang, gh)) > 0"
   ]
  },
  {
   "cell_type": "code",
   "execution_count": null,
   "metadata": {
    "collapsed": true
   },
   "outputs": [],
   "source": [
    "hang_counts_rdd = dataset.map(lambda r: Row(period=r[\"period\"], e10s=r[\"e10sEnabled\"],\n",
    "                       has_addons=len(r[\"addons\"][\"non_system\"]) > 0,\n",
    "                       has_hangs=len(r[\"hangs\"]) > 0,\n",
    "                       has_addon_hangs=has_addon_hangs(r[\"hangs\"])))\n",
    "hang_counts = spark.createDataFrame(hang_counts_rdd)"
   ]
  },
  {
   "cell_type": "markdown",
   "metadata": {},
   "source": [
    "### Data for comparison"
   ]
  },
  {
   "cell_type": "markdown",
   "metadata": {},
   "source": [
    "Based on this, selecting a single build before and after from among the top builds will provide us with enough data."
   ]
  },
  {
   "cell_type": "code",
   "execution_count": 4,
   "metadata": {
    "collapsed": false
   },
   "outputs": [
    {
     "name": "stdout",
     "output_type": "stream",
     "text": [
      "Num sessions before: 17,312,866\n",
      "\n",
      "CPU times: user 76 ms, sys: 24 ms, total: 100 ms\n",
      "Wall time: 8min 7s\n"
     ]
    }
   ],
   "source": [
    "dataset_before = get_pings(sc, app=\"Firefox\", channel=\"beta\", build_id=\"20161020152750\")\n",
    "%time print(\"Num sessions before: {:,}\\n\".format(dataset_before.count()))"
   ]
  },
  {
   "cell_type": "code",
   "execution_count": 5,
   "metadata": {
    "collapsed": false
   },
   "outputs": [
    {
     "name": "stdout",
     "output_type": "stream",
     "text": [
      "Num sessions after: 22,237,606\n",
      "\n",
      "CPU times: user 64 ms, sys: 24 ms, total: 88 ms\n",
      "Wall time: 8min 15s\n"
     ]
    }
   ],
   "source": [
    "dataset_after = get_pings(sc, app=\"Firefox\", channel=\"beta\", build_id=\"20161101104304\")\n",
    "%time print(\"Num sessions after: {:,}\\n\".format(dataset_after.count()))"
   ]
  },
  {
   "cell_type": "markdown",
   "metadata": {},
   "source": [
    "Combine data and restrict to data of interest."
   ]
  },
  {
   "cell_type": "code",
   "execution_count": 21,
   "metadata": {
    "collapsed": true
   },
   "outputs": [],
   "source": [
    "def extract_data(ping):\n",
    "    data = {\n",
    "        \"clientId\": ping.get(\"clientId\"),\n",
    "        #\"buildId\": ping.get(\"application\", {}).get(\"buildId\"),\n",
    "    }\n",
    "    data[\"period\"] = \"before\" if ping.get(\"application\", {}).get(\"buildId\") == \"20161020152750\" else \"after\"\n",
    "    \n",
    "    env = ping.get(\"environment\")\n",
    "    if not env:\n",
    "        return None\n",
    "    data[\"architecture\"] = env.get(\"build\", {}).get(\"architecture\")\n",
    "    data[\"e10sEnabled\"] = env.get(\"settings\", {}).get(\"e10sEnabled\")\n",
    "    \n",
    "    sys = env.get(\"system\", {})\n",
    "    ## Some system data won't be relevant here.\n",
    "    for subfld in \"hdd\", \"gfx\":\n",
    "        if subfld in sys:\n",
    "            del sys[subfld]\n",
    "    data[\"system\"] = sys\n",
    "    \n",
    "    ## Only need IDs/versions of installed add-ons, split according to whether or not\n",
    "    ## they are system add-ons.\n",
    "    addons = env.get(\"addons\", {}).get(\"activeAddons\", {})\n",
    "    sys_addons = []\n",
    "    nonsys_addons = []\n",
    "    def addon_listing(guid, meta):\n",
    "        return (guid, meta.get(\"version\"))\n",
    "    \n",
    "    for guid, meta in addons.iteritems():\n",
    "        if meta.get(\"isSystem\"):\n",
    "            sys_addons.append(addon_listing(guid, meta))\n",
    "        else:\n",
    "            nonsys_addons.append(addon_listing(guid, meta))\n",
    "    data[\"addons\"] = {\"system\": sys_addons, \"non_system\": nonsys_addons}\n",
    "    \n",
    "    payload = ping.get(\"payload\", {})\n",
    "    if not payload:\n",
    "        return None\n",
    "    #data[\"histograms\"] = payload.get(\"histograms\", {})\n",
    "    #data[\"keyedHistograms\"] = payload.get(\"keyedHistograms\", {})\n",
    "    data[\"simpleMeasurements\"] = payload.get(\"simpleMeasurements\", {})\n",
    "    data[\"hangs\"] = payload.get(\"threadHangStats\", [])\n",
    "    #data[\"processes\"] = payload.get(\"processes\", {})\n",
    "    #data[\"childPayloads\"] = payload.get(\"childPayloads\", [])\n",
    "    data[\"MEMORY_JS_COMPARTMENTS_SYSTEM\"] = payload.get(\"histograms\", {}).get(\"MEMORY_JS_COMPARTMENTS_SYSTEM\", {})\n",
    "    data[\"GC_MS\"] = payload.get(\"histograms\", {}).get(\"GC_MS\", {})\n",
    "    \n",
    "    return data\n",
    "\n",
    "def good_payload(data):\n",
    "    return (data is not None and\n",
    "            data[\"clientId\"] is not None and\n",
    "            #data[\"buildId\"] is not None and\n",
    "            data[\"e10sEnabled\"] is not None)"
   ]
  },
  {
   "cell_type": "code",
   "execution_count": 22,
   "metadata": {
    "collapsed": false
   },
   "outputs": [],
   "source": [
    "full_data = dataset_before.union(dataset_after)\n",
    "dataset = full_data.map(extract_data).filter(good_payload)\n",
    "dataset = dataset.persist(StorageLevel.MEMORY_AND_DISK_SER)"
   ]
  },
  {
   "cell_type": "code",
   "execution_count": 26,
   "metadata": {
    "collapsed": false
   },
   "outputs": [
    {
     "name": "stdout",
     "output_type": "stream",
     "text": [
      "Overall num sessions: 39,550,472\n",
      "\n",
      "CPU times: user 44 ms, sys: 28 ms, total: 72 ms\n",
      "Wall time: 41.8 s\n"
     ]
    }
   ],
   "source": [
    "%time print(\"Overall num sessions: {:,}\\n\".format(dataset.count()))"
   ]
  },
  {
   "cell_type": "code",
   "execution_count": 24,
   "metadata": {
    "collapsed": false,
    "scrolled": true
   },
   "outputs": [],
   "source": [
    "## Save this dataset to S3.\n",
    "#s3_path = \"s3://mozilla-metrics/user/dzeber/tmp/addon-sdk-fix/beta_{}/\".format(date.today().isoformat())"
   ]
  },
  {
   "cell_type": "code",
   "execution_count": 25,
   "metadata": {
    "collapsed": true
   },
   "outputs": [],
   "source": [
    "#dataset.saveAsPickleFile(s3_path)"
   ]
  },
  {
   "cell_type": "code",
   "execution_count": 2,
   "metadata": {
    "collapsed": false
   },
   "outputs": [],
   "source": [
    "s3_path = \"s3://mozilla-metrics/user/dzeber/tmp/addon-sdk-fix/beta_2016-11-09/\"\n",
    "dataset = sc.pickleFile(s3_path).persist(StorageLevel.MEMORY_AND_DISK_SER)"
   ]
  },
  {
   "cell_type": "markdown",
   "metadata": {},
   "source": [
    "### Create a dataset to analyze"
   ]
  },
  {
   "cell_type": "markdown",
   "metadata": {},
   "source": [
    "#### Longitudinal properties\n",
    "\n",
    "Ideally, we would compare metrics between builds before and after the changes, within each profile. For this we need profiles to have sessions both before and after the change, with other factors (add-ons and e10s setting) staying constant over the sessions we observe.\n",
    "\n",
    "How many profiles have these properties?"
   ]
  },
  {
   "cell_type": "code",
   "execution_count": 3,
   "metadata": {
    "collapsed": false
   },
   "outputs": [],
   "source": [
    "def session_vals_for_check(session):\n",
    "    return (session[\"clientId\"], {\n",
    "        \"e10s\": session[\"e10sEnabled\"],\n",
    "        \"addons\": session[\"addons\"][\"non_system\"],\n",
    "        \"period\": session[\"period\"]\n",
    "    })\n",
    "\n",
    "def constant_e10s_setting(session_vals):\n",
    "    e10s_settings = [s[\"e10s\"] for s in session_vals]\n",
    "    return len(set(e10s_settings)) == 1\n",
    "\n",
    "def constant_active_addons(session_vals):\n",
    "    addons = [s[\"addons\"] for s in session_vals]\n",
    "    ## All add-on lists must have the same length...\n",
    "    if len(set(map(len, addons))) != 1:\n",
    "        return False\n",
    "    ## ...and they must contain the same add-on IDs.\n",
    "    addon_ids = map(lambda a: [guid for (guid, ver) in a], addons)\n",
    "    all_addon_ids = set().union(*addon_ids)\n",
    "    return len(all_addon_ids) == len(addon_ids[0])\n",
    "\n",
    "def both_periods(session_vals):\n",
    "    periods = [s[\"period\"] for s in session_vals]\n",
    "    return len(set(periods)) == 2"
   ]
  },
  {
   "cell_type": "code",
   "execution_count": 4,
   "metadata": {
    "collapsed": false
   },
   "outputs": [
    {
     "name": "stdout",
     "output_type": "stream",
     "text": [
      "Num unique profiles represented in the dataset: 2,611,968\n"
     ]
    }
   ],
   "source": [
    "prof_data = dataset.map(session_vals_for_check).groupByKey()\n",
    "n_prof = prof_data.count()\n",
    "print(\"Num unique profiles represented in the dataset: {:,}\".format(n_prof))"
   ]
  },
  {
   "cell_type": "code",
   "execution_count": 10,
   "metadata": {
    "collapsed": false
   },
   "outputs": [
    {
     "name": "stdout",
     "output_type": "stream",
     "text": [
      "Num profiles with changing e10s: 82,315 (3.15%)\n"
     ]
    }
   ],
   "source": [
    "prof_data_1 = prof_data.filter(lambda (cid, vals): constant_e10s_setting(vals))\n",
    "n_prof_1 = prof_data_1.count()\n",
    "n_prof_dropped = n_prof - n_prof_1\n",
    "print(\"Num profiles with changing e10s: {:,} ({:.2f}%)\"\\\n",
    "          .format(n_prof_dropped, n_prof_dropped / n_prof * 100))"
   ]
  },
  {
   "cell_type": "code",
   "execution_count": 11,
   "metadata": {
    "collapsed": false
   },
   "outputs": [
    {
     "name": "stdout",
     "output_type": "stream",
     "text": [
      "Num profiles with changing (non-system) add-on IDs: 278,703 (10.67%)\n"
     ]
    }
   ],
   "source": [
    "prof_data_2 = prof_data.filter(lambda (cid, vals): constant_active_addons(vals))\n",
    "n_prof_2 = prof_data_2.count()\n",
    "n_prof_dropped = n_prof - n_prof_2\n",
    "print(\"Num profiles with changing (non-system) add-on IDs: {:,} ({:.2f}%)\"\\\n",
    "          .format(n_prof_dropped, n_prof_dropped / n_prof * 100))"
   ]
  },
  {
   "cell_type": "code",
   "execution_count": 12,
   "metadata": {
    "collapsed": false
   },
   "outputs": [
    {
     "name": "stdout",
     "output_type": "stream",
     "text": [
      "Num profiles without both periods: 980,214 (37.53%)\n"
     ]
    }
   ],
   "source": [
    "prof_data_3 = prof_data.filter(lambda (cid, vals): both_periods(vals))\n",
    "n_prof_3 = prof_data_3.count()\n",
    "n_prof_dropped = n_prof - n_prof_3\n",
    "print(\"Num profiles without both periods: {:,} ({:.2f}%)\"\\\n",
    "          .format(n_prof_dropped, n_prof_dropped / n_prof * 100))"
   ]
  },
  {
   "cell_type": "code",
   "execution_count": 5,
   "metadata": {
    "collapsed": false
   },
   "outputs": [
    {
     "name": "stdout",
     "output_type": "stream",
     "text": [
      "Num profiles meeting all conditions: 1,399,069 (53.56%)\n"
     ]
    }
   ],
   "source": [
    "prof_data_comb = prof_data.filter(lambda (cid, vals):\n",
    "    constant_e10s_setting(vals) and constant_active_addons(vals) and both_periods(vals))\n",
    "n_prof_comb = prof_data_comb.count()\n",
    "print(\"Num profiles meeting all conditions: {:,} ({:.2f}%)\"\\\n",
    "          .format(n_prof_comb, n_prof_comb / n_prof * 100))"
   ]
  },
  {
   "cell_type": "markdown",
   "metadata": {},
   "source": [
    "Restrict to profiles with these properties."
   ]
  },
  {
   "cell_type": "code",
   "execution_count": 6,
   "metadata": {
    "collapsed": false
   },
   "outputs": [],
   "source": [
    "good_clients = prof_data_comb.map(lambda (cid, d): cid).distinct().collect()\n",
    "good_clients = set(good_clients)\n",
    "dataset_longit = dataset.filter(lambda d: d[\"clientId\"] in good_clients)\n",
    "    #.persist(StorageLevel.MEMORY_AND_DISK_SER)"
   ]
  },
  {
   "cell_type": "code",
   "execution_count": 9,
   "metadata": {
    "collapsed": false
   },
   "outputs": [
    {
     "name": "stdout",
     "output_type": "stream",
     "text": [
      "Num sessions remaining: 26,515,128\n"
     ]
    }
   ],
   "source": [
    "print(\"Num sessions remaining: {:,}\".format(dataset_longit.count()))"
   ]
  },
  {
   "cell_type": "code",
   "execution_count": null,
   "metadata": {
    "collapsed": false
   },
   "outputs": [],
   "source": [
    "## Sanity check\n",
    "#print(\"Num unique profiles: {:,}\".format(dataset_longit.map(lambda d: d[\"clientId\"]).distinct().count()))"
   ]
  },
  {
   "cell_type": "markdown",
   "metadata": {},
   "source": [
    "First create an RDD with all the measurements we will be working with."
   ]
  },
  {
   "cell_type": "code",
   "execution_count": 7,
   "metadata": {
    "collapsed": false
   },
   "outputs": [],
   "source": [
    "def get_hist_values(hist):\n",
    "    ## Keep only non-zero histogram values.\n",
    "    return { k:v for k, v in hist.get(\"values\", {}).iteritems() if v > 0 }    \n",
    "\n",
    "def addon_sdk_hang(hang):\n",
    "    try:\n",
    "    ## Check the stack info for add-on sdk code.\n",
    "        has_sdk_js = [\"sdk/addon/runner.js\" in line for line in hang.get(\"stack\", [])]\n",
    "        return any(has_sdk_js)\n",
    "    except:\n",
    "        return False\n",
    "\n",
    "def get_addon_hang_data(data):\n",
    "    ## Only need hangs from the main thread.\n",
    "    hangs = filter(lambda h: h[\"name\"] == \"Gecko\", data[\"hangs\"])\n",
    "    if not hangs:\n",
    "        return None\n",
    "    hangs = hangs[0][\"hangs\"]\n",
    "    sdk_hangs = filter(addon_sdk_hang, hangs)\n",
    "    return [ {\"stack\": h.get(\"stack\"), \"values\": get_hist_values(h.get(\"histogram\", {}))}\n",
    "               for h in sdk_hangs ]\n",
    "\n",
    "\n",
    "def get_hist_data(data, hist_name):\n",
    "    ## Keep only non-zero histogram values.\n",
    "    return get_hist_values(data[\"histograms\"].get(hist_name, {}))\n",
    "\n",
    "def longit_row(data):\n",
    "    sm = data[\"simpleMeasurements\"]\n",
    "    return {\n",
    "        \"client_id\": data[\"clientId\"],\n",
    "        #\"build_id\": data[\"buildId\"],\n",
    "        \"period\": data[\"period\"],\n",
    "        \"e10s\": data[\"e10sEnabled\"],\n",
    "        \"addon_nonsys\": data[\"addons\"][\"non_system\"],\n",
    "        ## Keep only the count of system add-ons\n",
    "        \"addons_sys_num\": len(data[\"addons\"][\"system\"]),\n",
    "        \n",
    "        ## Some system covariates\n",
    "        \"sys_arch\": data[\"architecture\"],\n",
    "        \"sys_mem\": data[\"system\"].get(\"memoryMB\"),\n",
    "        \"sys_cpu_count\": data[\"system\"].get(\"cpu\", {}).get(\"count\"),\n",
    "        \"sys_os\": data[\"system\"].get(\"os\", {}).get(\"name\"),\n",
    "        \"sys_os_version\": data[\"system\"].get(\"os\", {}).get(\"version\"),\n",
    "        \n",
    "        ## Startup times and info (missing times recorded as -1)\n",
    "        \"was_startup_interrupted\": bool(sm.get(\"startupInterrupted\", 0)),\n",
    "        \"startup_main\": sm.get(\"main\", -1),\n",
    "        \"startup_AMIstart\": sm.get(\"AMI_startup_begin\", -1),\n",
    "        \"startup_XPIstart\": sm.get(\"XPI_bootstrap_addons_begin\", -1),\n",
    "        \"startup_AMIend\": sm.get(\"AMI_startup_end\", -1),\n",
    "        \"startup_toplevelwindow\": sm.get(\"createTopLevelWindow\", -1),\n",
    "        \"startup_firstpaint\": sm.get(\"firstPaint\", -1),\n",
    "        \"startup_sessionrestored\": sm.get(\"sessionRestored\", -1),\n",
    "        \n",
    "        ## Shutdown times may also show an effect\n",
    "        \"shutdown\": sm.get(\"shutdownDuration\", -1),\n",
    "        \n",
    "        ## Some histograms\n",
    "        \"hist_compartments\": get_hist_values(data[\"MEMORY_JS_COMPARTMENTS_SYSTEM\"]),\n",
    "        \"hist_gc\": get_hist_values(data[\"GC_MS\"]),\n",
    "        \n",
    "        ## Thread hangs.\n",
    "        \"hangs\": get_addon_hang_data(data)\n",
    "    }"
   ]
  },
  {
   "cell_type": "code",
   "execution_count": 8,
   "metadata": {
    "collapsed": true
   },
   "outputs": [],
   "source": [
    "dataset_rows = dataset_longit.map(longit_row)"
   ]
  },
  {
   "cell_type": "code",
   "execution_count": 9,
   "metadata": {
    "collapsed": false
   },
   "outputs": [],
   "source": [
    "## Add a session ID.\n",
    "def add_sess_id(d_with_i):\n",
    "    d, i = d_with_i\n",
    "    d[\"session_id\"] = i\n",
    "    return d\n",
    "dataset_rows = dataset_rows.zipWithUniqueId().map(add_sess_id)"
   ]
  },
  {
   "cell_type": "markdown",
   "metadata": {},
   "source": [
    "Shorten client IDs for convenience."
   ]
  },
  {
   "cell_type": "code",
   "execution_count": 10,
   "metadata": {
    "collapsed": true
   },
   "outputs": [],
   "source": [
    "client_ids = dataset_rows.map(lambda d: d[\"client_id\"]).distinct().zipWithUniqueId()"
   ]
  },
  {
   "cell_type": "code",
   "execution_count": 11,
   "metadata": {
    "collapsed": false
   },
   "outputs": [],
   "source": [
    "def replace_client_id(d_with_new_cid):\n",
    "    d, new_cid = d_with_new_cid\n",
    "    d[\"client_id\"] = new_cid\n",
    "    return d\n",
    "\n",
    "dataset_rows = dataset_rows.map(lambda d: (d[\"client_id\"], d))\\\n",
    "    .leftOuterJoin(client_ids)\\\n",
    "    .mapValues(replace_client_id)\\\n",
    "    .map(lambda (cid, d): d)"
   ]
  },
  {
   "cell_type": "code",
   "execution_count": 12,
   "metadata": {
    "collapsed": false
   },
   "outputs": [
    {
     "data": {
      "text/plain": [
       "26515128"
      ]
     },
     "execution_count": 12,
     "metadata": {},
     "output_type": "execute_result"
    }
   ],
   "source": [
    "## Need to cache at this point to ensure stability of indices added with zipWithIndex().\n",
    "## Otherwise, they keep getting recomputed.\n",
    "dataset.unpersist()\n",
    "dataset_rows.cache()\n",
    "dataset_rows.count()"
   ]
  },
  {
   "cell_type": "code",
   "execution_count": 7,
   "metadata": {
    "collapsed": false,
    "scrolled": true
   },
   "outputs": [
    {
     "data": {
      "text/plain": [
       "[{'addon_nonsys': [],\n",
       "  'addons_sys_num': 4,\n",
       "  'client_id': 213600,\n",
       "  'e10s': True,\n",
       "  'hangs': None,\n",
       "  'hist_compartments': {u'243': 1},\n",
       "  'hist_gc': {u'57': 1},\n",
       "  'period': 'after',\n",
       "  'session_id': 69138302,\n",
       "  'shutdown': 9110,\n",
       "  'startup_AMIend': 334,\n",
       "  'startup_AMIstart': 210,\n",
       "  'startup_XPIstart': 262,\n",
       "  'startup_firstpaint': 922,\n",
       "  'startup_main': 75,\n",
       "  'startup_sessionrestored': 1141,\n",
       "  'startup_toplevelwindow': 544,\n",
       "  'sys_arch': u'x86',\n",
       "  'sys_cpu_count': 4,\n",
       "  'sys_mem': 6108,\n",
       "  'sys_os': u'Windows_NT',\n",
       "  'sys_os_version': u'6.1',\n",
       "  'was_startup_interrupted': False},\n",
       " {'addon_nonsys': [],\n",
       "  'addons_sys_num': 4,\n",
       "  'client_id': 213600,\n",
       "  'e10s': True,\n",
       "  'hangs': None,\n",
       "  'hist_compartments': {u'273': 1},\n",
       "  'hist_gc': {u'40': 2, u'57': 1, u'68': 2},\n",
       "  'period': 'after',\n",
       "  'session_id': 69145103,\n",
       "  'shutdown': 534,\n",
       "  'startup_AMIend': 21495,\n",
       "  'startup_AMIstart': 16764,\n",
       "  'startup_XPIstart': 20528,\n",
       "  'startup_firstpaint': 39146,\n",
       "  'startup_main': 12558,\n",
       "  'startup_sessionrestored': 40962,\n",
       "  'startup_toplevelwindow': 32377,\n",
       "  'sys_arch': u'x86',\n",
       "  'sys_cpu_count': 4,\n",
       "  'sys_mem': 6108,\n",
       "  'sys_os': u'Windows_NT',\n",
       "  'sys_os_version': u'6.1',\n",
       "  'was_startup_interrupted': False},\n",
       " {'addon_nonsys': [],\n",
       "  'addons_sys_num': 4,\n",
       "  'client_id': 213600,\n",
       "  'e10s': True,\n",
       "  'hangs': None,\n",
       "  'hist_compartments': {u'243': 3, u'273': 11},\n",
       "  'hist_gc': {u'114': 1,\n",
       "   u'160': 1,\n",
       "   u'40': 1,\n",
       "   u'48': 1,\n",
       "   u'57': 3,\n",
       "   u'68': 3,\n",
       "   u'81': 1,\n",
       "   u'96': 2},\n",
       "  'period': 'after',\n",
       "  'session_id': 69165506,\n",
       "  'shutdown': 534,\n",
       "  'startup_AMIend': 4171,\n",
       "  'startup_AMIstart': 4034,\n",
       "  'startup_XPIstart': 4080,\n",
       "  'startup_firstpaint': 4869,\n",
       "  'startup_main': 3786,\n",
       "  'startup_sessionrestored': 5099,\n",
       "  'startup_toplevelwindow': 4380,\n",
       "  'sys_arch': u'x86',\n",
       "  'sys_cpu_count': 4,\n",
       "  'sys_mem': 6108,\n",
       "  'sys_os': u'Windows_NT',\n",
       "  'sys_os_version': u'6.1',\n",
       "  'was_startup_interrupted': False},\n",
       " {'addon_nonsys': [],\n",
       "  'addons_sys_num': 3,\n",
       "  'client_id': 213600,\n",
       "  'e10s': True,\n",
       "  'hangs': [],\n",
       "  'hist_compartments': {u'273': 1},\n",
       "  'hist_gc': {u'48': 2, u'57': 3},\n",
       "  'period': 'before',\n",
       "  'session_id': 15855705,\n",
       "  'shutdown': 575,\n",
       "  'startup_AMIend': 17245,\n",
       "  'startup_AMIstart': 16129,\n",
       "  'startup_XPIstart': 16786,\n",
       "  'startup_firstpaint': 22782,\n",
       "  'startup_main': 14254,\n",
       "  'startup_sessionrestored': 28067,\n",
       "  'startup_toplevelwindow': 17554,\n",
       "  'sys_arch': u'x86',\n",
       "  'sys_cpu_count': 4,\n",
       "  'sys_mem': 6108,\n",
       "  'sys_os': u'Windows_NT',\n",
       "  'sys_os_version': u'6.1',\n",
       "  'was_startup_interrupted': False},\n",
       " {'addon_nonsys': [],\n",
       "  'addons_sys_num': 3,\n",
       "  'client_id': 213600,\n",
       "  'e10s': True,\n",
       "  'hangs': [],\n",
       "  'hist_compartments': {u'243': 1},\n",
       "  'hist_gc': {u'57': 1},\n",
       "  'period': 'before',\n",
       "  'session_id': 4751134,\n",
       "  'shutdown': 5131,\n",
       "  'startup_AMIend': 413,\n",
       "  'startup_AMIstart': 332,\n",
       "  'startup_XPIstart': 373,\n",
       "  'startup_firstpaint': 974,\n",
       "  'startup_main': 186,\n",
       "  'startup_sessionrestored': 1190,\n",
       "  'startup_toplevelwindow': 611,\n",
       "  'sys_arch': u'x86',\n",
       "  'sys_cpu_count': 4,\n",
       "  'sys_mem': 6108,\n",
       "  'sys_os': u'Windows_NT',\n",
       "  'sys_os_version': u'6.1',\n",
       "  'was_startup_interrupted': False}]"
      ]
     },
     "execution_count": 7,
     "metadata": {},
     "output_type": "execute_result"
    }
   ],
   "source": [
    "dataset_rows.take(5)"
   ]
  },
  {
   "cell_type": "markdown",
   "metadata": {},
   "source": [
    "Sanity-check hangs."
   ]
  },
  {
   "cell_type": "code",
   "execution_count": null,
   "metadata": {
    "collapsed": true
   },
   "outputs": [],
   "source": [
    "def has_addon_hangs(h):\n",
    "    if len(h) == 0:\n",
    "        return False\n",
    "    gh = filter(lambda hh: hh[\"name\"] == \"Gecko\", h)\n",
    "    if len(gh) == 0:\n",
    "        return False\n",
    "    gh = gh[0][\"hangs\"]\n",
    "    return len(filter(addon_sdk_hang, gh)) > 0"
   ]
  },
  {
   "cell_type": "code",
   "execution_count": null,
   "metadata": {
    "collapsed": true
   },
   "outputs": [],
   "source": [
    "hang_counts_rdd = dataset.map(lambda r: Row(period=r[\"period\"], e10s=r[\"e10sEnabled\"],\n",
    "                       has_addons=len(r[\"addons\"][\"non_system\"]) > 0,\n",
    "                       has_hangs=len(r[\"hangs\"]) > 0,\n",
    "                       has_addon_hangs=has_addon_hangs(r[\"hangs\"])))\n",
    "hang_counts = spark.createDataFrame(hang_counts_rdd)"
   ]
  },
  {
   "cell_type": "code",
   "execution_count": null,
   "metadata": {
    "collapsed": true
   },
   "outputs": [],
   "source": [
    "hang_counts_coll = hang_counts.groupBy(hang_counts.columns).count().toPandas()"
   ]
  },
  {
   "cell_type": "code",
   "execution_count": null,
   "metadata": {
    "collapsed": true
   },
   "outputs": [],
   "source": [
    "hang_counts_coll.sort_values([\"period\", \"e10s\", \"has_addons\", \"has_hangs\", \"has_addon_hangs\"])"
   ]
  },
  {
   "cell_type": "markdown",
   "metadata": {},
   "source": [
    "Save this final dataset in case something fails later."
   ]
  },
  {
   "cell_type": "code",
   "execution_count": 4,
   "metadata": {
    "collapsed": true
   },
   "outputs": [],
   "source": [
    "s3_path = \"s3://mozilla-metrics/user/dzeber/tmp/addon-sdk-fix/beta-longit_{}/\".format(date.today().isoformat())\n",
    "#dataset_rows.saveAsPickleFile(s3_path)"
   ]
  },
  {
   "cell_type": "code",
   "execution_count": 5,
   "metadata": {
    "collapsed": false
   },
   "outputs": [],
   "source": [
    "dataset_rows = sc.pickleFile(s3_path).cache()"
   ]
  },
  {
   "cell_type": "code",
   "execution_count": 6,
   "metadata": {
    "collapsed": false
   },
   "outputs": [
    {
     "data": {
      "text/plain": [
       "26515128"
      ]
     },
     "execution_count": 6,
     "metadata": {},
     "output_type": "execute_result"
    }
   ],
   "source": [
    "dataset_rows.count()"
   ]
  },
  {
   "cell_type": "markdown",
   "metadata": {},
   "source": [
    "Sample profiles at 10% to reduce the size of the data."
   ]
  },
  {
   "cell_type": "code",
   "execution_count": 14,
   "metadata": {
    "collapsed": true
   },
   "outputs": [],
   "source": [
    "client_ids = dataset_rows.map(lambda d: d[\"client_id\"]).distinct()\n",
    "client_ids_subset = client_ids.sample(withReplacement=False, fraction=0.1)\n",
    "dataset_subset = dataset_rows.map(lambda d: (d[\"client_id\"], d))\\\n",
    "    .join(client_ids_subset.map(lambda v: (v, None)))"
   ]
  },
  {
   "cell_type": "code",
   "execution_count": 15,
   "metadata": {
    "collapsed": false
   },
   "outputs": [
    {
     "data": {
      "text/plain": [
       "2649175"
      ]
     },
     "execution_count": 15,
     "metadata": {},
     "output_type": "execute_result"
    }
   ],
   "source": [
    "dataset_rows.unpersist()\n",
    "dataset_subset.cache()\n",
    "dataset_subset.count()"
   ]
  },
  {
   "cell_type": "code",
   "execution_count": 18,
   "metadata": {
    "collapsed": false
   },
   "outputs": [],
   "source": [
    "dataset_rows = dataset_subset.map(lambda (cid, (d, nn)): d)"
   ]
  },
  {
   "cell_type": "code",
   "execution_count": 19,
   "metadata": {
    "collapsed": false
   },
   "outputs": [
    {
     "data": {
      "text/plain": [
       "139628"
      ]
     },
     "execution_count": 19,
     "metadata": {},
     "output_type": "execute_result"
    }
   ],
   "source": [
    "dataset_rows.map(lambda d: d[\"client_id\"]).distinct().count()"
   ]
  },
  {
   "cell_type": "markdown",
   "metadata": {},
   "source": [
    "Separate complex fields into separate DFs for easier handling and summarization."
   ]
  },
  {
   "cell_type": "markdown",
   "metadata": {},
   "source": [
    "#### Add-ons"
   ]
  },
  {
   "cell_type": "code",
   "execution_count": 20,
   "metadata": {
    "collapsed": false,
    "scrolled": true
   },
   "outputs": [
    {
     "name": "stdout",
     "output_type": "stream",
     "text": [
      "root\n",
      " |-- client_id: long (nullable = true)\n",
      " |-- guid: string (nullable = true)\n",
      " |-- session_id: long (nullable = true)\n",
      " |-- version: string (nullable = true)\n",
      "\n"
     ]
    }
   ],
   "source": [
    "def addon_rows(r):\n",
    "    return [Row(client_id = r[\"client_id\"], session_id = r[\"session_id\"],\n",
    "        guid = guid, version = ver) for (guid, ver) in r[\"addon_nonsys\"]]\n",
    "    \n",
    "rdd_addons = dataset_rows.flatMap(addon_rows)\n",
    "DF_addons = spark.createDataFrame(rdd_addons)\n",
    "DF_addons.printSchema()"
   ]
  },
  {
   "cell_type": "code",
   "execution_count": 21,
   "metadata": {
    "collapsed": false
   },
   "outputs": [
    {
     "data": {
      "text/plain": [
       "2624677"
      ]
     },
     "execution_count": 21,
     "metadata": {},
     "output_type": "execute_result"
    }
   ],
   "source": [
    "DF_addons.count()"
   ]
  },
  {
   "cell_type": "code",
   "execution_count": 22,
   "metadata": {
    "collapsed": false
   },
   "outputs": [
    {
     "data": {
      "text/plain": [
       "True"
      ]
     },
     "execution_count": 22,
     "metadata": {},
     "output_type": "execute_result"
    }
   ],
   "source": [
    "## Double-check that the session IDs correspond.\n",
    "s1 = DF_addons.select(\"session_id\").distinct().rdd.map(lambda r: r.session_id)\n",
    "s2 = dataset_rows.filter(lambda r: r[\"addon_nonsys\"]).map(lambda r: r[\"session_id\"]).distinct()\n",
    "ss = s1.union(s2).distinct()\n",
    "ss.count() == s1.count() and s1.count() == s2.count()"
   ]
  },
  {
   "cell_type": "code",
   "execution_count": 23,
   "metadata": {
    "collapsed": false
   },
   "outputs": [
    {
     "data": {
      "text/plain": [
       "True"
      ]
     },
     "execution_count": 23,
     "metadata": {},
     "output_type": "execute_result"
    }
   ],
   "source": [
    "## Double-check that the client IDs correspond.\n",
    "s1 = DF_addons.select(\"client_id\").distinct().rdd.map(lambda r: r.client_id)\n",
    "s2 = dataset_rows.filter(lambda r: r[\"addon_nonsys\"]).map(lambda r: r[\"client_id\"]).distinct()\n",
    "ss = s1.union(s2).distinct()\n",
    "ss.count() == s1.count() and s1.count() == s2.count()"
   ]
  },
  {
   "cell_type": "markdown",
   "metadata": {},
   "source": [
    "#### Hangs"
   ]
  },
  {
   "cell_type": "code",
   "execution_count": 24,
   "metadata": {
    "collapsed": false,
    "scrolled": true
   },
   "outputs": [
    {
     "data": {
      "text/plain": [
       "[[{'stack': [u'Startup::XRE_Main',\n",
       "    u'gre/modules/Promise-backend.js:750',\n",
       "    u'self-hosted:868',\n",
       "    u'gre/modules/commonjs/sdk/addon/runner.js:87',\n",
       "    u'(chrome script)'],\n",
       "   'values': {u'2047': 1}}],\n",
       " [{'stack': [u'Startup::XRE_Main',\n",
       "    u'gre/modules/Promise-backend.js:750',\n",
       "    u'self-hosted:868',\n",
       "    u'gre/modules/commonjs/sdk/addon/runner.js:68',\n",
       "    u'gre/modules/commonjs/toolkit/loader.js:617',\n",
       "    u'gre/modules/commonjs/sdk/l10n/loader.js:10',\n",
       "    u'gre/modules/commonjs/toolkit/loader.js:617',\n",
       "    u'gre/modules/commonjs/sdk/l10n/locale.js:10',\n",
       "    u'gre/modules/commonjs/toolkit/loader.js:617',\n",
       "    u'gre/modules/NetUtil.jsm:191'],\n",
       "   'values': {u'255': 1}},\n",
       "  {'stack': [u'Startup::XRE_Main',\n",
       "    u'gre/modules/Promise-backend.js:750',\n",
       "    u'self-hosted:868',\n",
       "    u'gre/modules/commonjs/sdk/addon/runner.js:87',\n",
       "    u'gre/modules/commonjs/toolkit/loader.js:617',\n",
       "    u'gre/modules/commonjs/sdk/l10n/html.js:10',\n",
       "    u'gre/modules/commonjs/toolkit/loader.js:617',\n",
       "    u'gre/modules/commonjs/sdk/remote/parent.js:6',\n",
       "    u'gre/modules/commonjs/toolkit/loader.js:617'],\n",
       "   'values': {u'2047': 1}}],\n",
       " [{'stack': [u'Startup::XRE_Main',\n",
       "    u'gre/modules/Promise-backend.js:750',\n",
       "    u'self-hosted:868',\n",
       "    u'gre/modules/commonjs/sdk/addon/runner.js:87',\n",
       "    u'gre/modules/commonjs/toolkit/loader.js:617',\n",
       "    u'gre/modules/commonjs/sdk/l10n/html.js:10',\n",
       "    u'gre/modules/commonjs/toolkit/loader.js:617',\n",
       "    u'gre/modules/commonjs/sdk/remote/parent.js:6',\n",
       "    u'gre/modules/commonjs/toolkit/loader.js:617',\n",
       "    u'gre/modules/commonjs/sdk/event/target.js:10',\n",
       "    u'gre/modules/commonjs/toolkit/loader.js:617',\n",
       "    u'gre/modules/NetUtil.jsm:191'],\n",
       "   'values': {u'2047': 1}}]]"
      ]
     },
     "execution_count": 24,
     "metadata": {},
     "output_type": "execute_result"
    }
   ],
   "source": [
    "dataset_rows.map(lambda r: r[\"hangs\"]).filter(lambda r: r).take(3)"
   ]
  },
  {
   "cell_type": "markdown",
   "metadata": {},
   "source": [
    "What are the unique combinations of `runner.js` lines mentioned in the hang stack traces?"
   ]
  },
  {
   "cell_type": "code",
   "execution_count": 25,
   "metadata": {
    "collapsed": false,
    "scrolled": true
   },
   "outputs": [
    {
     "data": {
      "text/plain": [
       "[u'41,87', u'66', u'68', u'78', u'84', u'87', u'9']"
      ]
     },
     "execution_count": 25,
     "metadata": {},
     "output_type": "execute_result"
    }
   ],
   "source": [
    "sorted(dataset_rows.filter(lambda r: r[\"hangs\"])\\\n",
    "    .flatMap(lambda r: [h[\"stack\"] for h in r[\"hangs\"]])\\\n",
    "    .map(lambda s: filter(lambda sl: \"runner.js\" in sl, s))\\\n",
    "    .map(lambda s: \",\".join(sorted(set(map(lambda sl: sl.split(\":\")[-1], s)))))\\\n",
    "    .distinct().collect())"
   ]
  },
  {
   "cell_type": "markdown",
   "metadata": {},
   "source": [
    "For now, lump all `runner.js` hangs for the session together, and convert the hang stats to a DF."
   ]
  },
  {
   "cell_type": "code",
   "execution_count": 26,
   "metadata": {
    "collapsed": false
   },
   "outputs": [
    {
     "name": "stdout",
     "output_type": "stream",
     "text": [
      "root\n",
      " |-- client_id: long (nullable = true)\n",
      " |-- count: long (nullable = true)\n",
      " |-- hang_time: long (nullable = true)\n",
      " |-- num_hang_stats: long (nullable = true)\n",
      " |-- session_id: long (nullable = true)\n",
      "\n"
     ]
    }
   ],
   "source": [
    "def hang_rows(r):\n",
    "    if not r[\"hangs\"]:\n",
    "        return []\n",
    "    hang_hist = defaultdict(int)\n",
    "    for h in r[\"hangs\"]:\n",
    "        for k, v in h[\"values\"].iteritems():\n",
    "            hang_hist[k] += v\n",
    "    return [Row(client_id = r[\"client_id\"], session_id = r[\"session_id\"],\n",
    "               num_hang_stats = len(r[\"hangs\"]), hang_time = int(t), count = n)\n",
    "                for t, n in hang_hist.iteritems()]\n",
    "\n",
    "rdd_hangs = dataset_rows.flatMap(hang_rows)\n",
    "DF_hangs = spark.createDataFrame(rdd_hangs)\n",
    "DF_hangs.printSchema()"
   ]
  },
  {
   "cell_type": "code",
   "execution_count": 27,
   "metadata": {
    "collapsed": false
   },
   "outputs": [
    {
     "data": {
      "text/plain": [
       "331491"
      ]
     },
     "execution_count": 27,
     "metadata": {},
     "output_type": "execute_result"
    }
   ],
   "source": [
    "DF_hangs.count()"
   ]
  },
  {
   "cell_type": "code",
   "execution_count": 28,
   "metadata": {
    "collapsed": false
   },
   "outputs": [
    {
     "data": {
      "text/plain": [
       "True"
      ]
     },
     "execution_count": 28,
     "metadata": {},
     "output_type": "execute_result"
    }
   ],
   "source": [
    "## Double-check that the session IDs correspond.\n",
    "s1 = DF_hangs.select(\"session_id\").distinct().rdd.map(lambda r: r.session_id)\n",
    "s2 = dataset_rows.filter(lambda r: r[\"hangs\"]).map(lambda r: r[\"session_id\"]).distinct()\n",
    "ss = s1.union(s2).distinct()\n",
    "ss.count() == s1.count() and s1.count() == s2.count()"
   ]
  },
  {
   "cell_type": "code",
   "execution_count": 29,
   "metadata": {
    "collapsed": false
   },
   "outputs": [
    {
     "data": {
      "text/plain": [
       "True"
      ]
     },
     "execution_count": 29,
     "metadata": {},
     "output_type": "execute_result"
    }
   ],
   "source": [
    "## Double-check that the client IDs correspond.\n",
    "s1 = DF_hangs.select(\"client_id\").distinct().rdd.map(lambda r: r.client_id)\n",
    "s2 = dataset_rows.filter(lambda r: r[\"hangs\"]).map(lambda r: r[\"client_id\"]).distinct()\n",
    "ss = s1.union(s2).distinct()\n",
    "ss.count() == s1.count() and s1.count() == s2.count()"
   ]
  },
  {
   "cell_type": "markdown",
   "metadata": {},
   "source": [
    "#### Histograms\n",
    "\n",
    "Collect histogram info aggregated by profile and period."
   ]
  },
  {
   "cell_type": "code",
   "execution_count": 30,
   "metadata": {
    "collapsed": false
   },
   "outputs": [
    {
     "name": "stdout",
     "output_type": "stream",
     "text": [
      "root\n",
      " |-- client_id: long (nullable = true)\n",
      " |-- period: string (nullable = true)\n",
      " |-- hist: string (nullable = true)\n",
      " |-- hist_value: long (nullable = true)\n",
      " |-- count: long (nullable = true)\n",
      "\n"
     ]
    }
   ],
   "source": [
    "def hist_row(r, hist_fld):\n",
    "    if not r[hist_fld]:\n",
    "        return []\n",
    "    return [Row(client_id = r[\"client_id\"], session_id = r[\"session_id\"], period = r[\"period\"],\n",
    "                hist = hist_fld, hist_value = int(v), count = n)\n",
    "            for v, n in r[hist_fld].iteritems()]\n",
    "\n",
    "def hist_row_all(r):\n",
    "    return hist_row(r, \"hist_gc\") + hist_row(r, \"hist_compartments\")\n",
    "\n",
    "rdd_hist = dataset_rows.flatMap(hist_row_all)\n",
    "DF_hist = spark.createDataFrame(rdd_hist)\n",
    "DF_hist = DF_hist.groupBy(\"client_id\", \"period\", \"hist\", \"hist_value\")\\\n",
    "    .agg(fun.sum(\"count\").alias(\"count\"))\n",
    "DF_hist.printSchema()"
   ]
  },
  {
   "cell_type": "code",
   "execution_count": 31,
   "metadata": {
    "collapsed": false
   },
   "outputs": [
    {
     "data": {
      "text/plain": [
       "6030102"
      ]
     },
     "execution_count": 31,
     "metadata": {},
     "output_type": "execute_result"
    }
   ],
   "source": [
    "DF_hist.count()"
   ]
  },
  {
   "cell_type": "markdown",
   "metadata": {},
   "source": [
    "#### Scalar data\n",
    "\n",
    "Create a main DF for the remaining scalar measures."
   ]
  },
  {
   "cell_type": "code",
   "execution_count": 32,
   "metadata": {
    "collapsed": false,
    "scrolled": true
   },
   "outputs": [
    {
     "name": "stdout",
     "output_type": "stream",
     "text": [
      "root\n",
      " |-- addons_sys_num: long (nullable = true)\n",
      " |-- client_id: long (nullable = true)\n",
      " |-- e10s: boolean (nullable = true)\n",
      " |-- has_hangs: boolean (nullable = true)\n",
      " |-- num_addons_nonsys: long (nullable = true)\n",
      " |-- period: string (nullable = true)\n",
      " |-- session_id: long (nullable = true)\n",
      " |-- shutdown: long (nullable = true)\n",
      " |-- startup_AMIend: long (nullable = true)\n",
      " |-- startup_AMIstart: long (nullable = true)\n",
      " |-- startup_XPIstart: long (nullable = true)\n",
      " |-- startup_firstpaint: long (nullable = true)\n",
      " |-- startup_main: long (nullable = true)\n",
      " |-- startup_sessionrestored: long (nullable = true)\n",
      " |-- startup_toplevelwindow: long (nullable = true)\n",
      " |-- sys_arch: string (nullable = true)\n",
      " |-- sys_cpu_count: long (nullable = true)\n",
      " |-- sys_mem: long (nullable = true)\n",
      " |-- sys_os: string (nullable = true)\n",
      " |-- sys_os_version: string (nullable = true)\n",
      " |-- was_startup_interrupted: boolean (nullable = true)\n",
      "\n"
     ]
    }
   ],
   "source": [
    "scalar_flds = dataset_rows.first().keys()\n",
    "for fld in [\"addon_nonsys\", \"hangs\", \"hist_compartments\", \"hist_gc\"]:\n",
    "    scalar_flds.remove(fld)\n",
    "\n",
    "def main_row(r):\n",
    "    row_entries = {fld: r[fld] for fld in scalar_flds}\n",
    "    row_entries[\"has_hangs\"] = r[\"hangs\"] is not None and len(r[\"hangs\"]) > 0\n",
    "    row_entries[\"num_addons_nonsys\"] = len(r[\"addon_nonsys\"])\n",
    "    return Row(**row_entries)\n",
    "\n",
    "rdd_main = dataset_rows.map(main_row)\n",
    "DF_main = spark.createDataFrame(rdd_main)\n",
    "DF_main.printSchema()"
   ]
  },
  {
   "cell_type": "code",
   "execution_count": 33,
   "metadata": {
    "collapsed": false,
    "scrolled": true
   },
   "outputs": [
    {
     "data": {
      "text/plain": [
       "2649175"
      ]
     },
     "execution_count": 33,
     "metadata": {},
     "output_type": "execute_result"
    }
   ],
   "source": [
    "DF_main.count()"
   ]
  },
  {
   "cell_type": "markdown",
   "metadata": {},
   "source": [
    "Sanity-check our assumptions about the dataset.\n",
    "\n",
    "- Was the e10s setting consistent across all client sessions?\n",
    "- Does the client have sessions both before and after the change?"
   ]
  },
  {
   "cell_type": "code",
   "execution_count": 34,
   "metadata": {
    "collapsed": false
   },
   "outputs": [
    {
     "data": {
      "text/plain": [
       "[Row(constant_e10s=True, both_periods=True)]"
      ]
     },
     "execution_count": 34,
     "metadata": {},
     "output_type": "execute_result"
    }
   ],
   "source": [
    "client_stats = DF_main.groupBy(\"client_id\").agg(\n",
    "    (fun.countDistinct(\"e10s\") == 1).alias(\"constant_e10s\"),\n",
    "    (fun.countDistinct(\"period\") == 2).alias(\"both_periods\")\n",
    ")\n",
    "\n",
    "client_stats.select(\"constant_e10s\", \"both_periods\").distinct().collect()"
   ]
  },
  {
   "cell_type": "markdown",
   "metadata": {},
   "source": [
    "- Were add-ons consistent across client sessions?"
   ]
  },
  {
   "cell_type": "code",
   "execution_count": 35,
   "metadata": {
    "collapsed": false
   },
   "outputs": [
    {
     "data": {
      "text/plain": [
       "[Row(constant_addons=True, constant_addons_guid=True, count=43256),\n",
       " Row(constant_addons=False, constant_addons_guid=True, count=18573)]"
      ]
     },
     "execution_count": 35,
     "metadata": {},
     "output_type": "execute_result"
    }
   ],
   "source": [
    "def consistent_addons(rows_for_client, include_versions=True):\n",
    "    addon_info = (lambda r: (r.guid, r.version)) if include_versions else (lambda r: r.guid)\n",
    "    rows_for_client = list(rows_for_client)\n",
    "    unique_addons = set([addon_info(r) for r in rows_for_client])\n",
    "    single_session = filter(lambda r: r.session_id == rows_for_client[0].session_id, rows_for_client)\n",
    "    single_sess_addons = [addon_info(r) for r in single_session]\n",
    "    return len(unique_addons) == len(single_sess_addons)\n",
    "\n",
    "addon_stats = DF_addons.rdd.groupBy(lambda r: r.client_id)\\\n",
    "    .map(lambda (cid, gp): Row(client_id = cid,\n",
    "                               constant_addons = consistent_addons(gp),\n",
    "                               constant_addons_guid = consistent_addons(gp, False)))\n",
    "addon_stats = spark.createDataFrame(addon_stats)\n",
    "\n",
    "#DF_main = DF_main.join(addon_stats, \"client_id\", \"outer\")\n",
    "addon_stats.groupBy(\"constant_addons\", \"constant_addons_guid\").count().collect()"
   ]
  },
  {
   "cell_type": "markdown",
   "metadata": {},
   "source": [
    "#### Write datasets to file"
   ]
  },
  {
   "cell_type": "code",
   "execution_count": 37,
   "metadata": {
    "collapsed": false
   },
   "outputs": [],
   "source": [
    "datasets_path = \"addon-sdk-fix-data_beta_{}\".format(date.today().isoformat())\n",
    "os.mkdir(datasets_path)"
   ]
  },
  {
   "cell_type": "code",
   "execution_count": 38,
   "metadata": {
    "collapsed": false
   },
   "outputs": [],
   "source": [
    "feather.write_dataframe(DF_main.toPandas(), datasets_path + \"/main.feather\")"
   ]
  },
  {
   "cell_type": "code",
   "execution_count": 39,
   "metadata": {
    "collapsed": true
   },
   "outputs": [],
   "source": [
    "feather.write_dataframe(DF_addons.toPandas(), datasets_path + \"/addons.feather\")\n",
    "feather.write_dataframe(DF_hangs.toPandas(), datasets_path + \"/hangs.feather\")\n",
    "feather.write_dataframe(DF_hist.toPandas(), datasets_path + \"/hist.feather\")"
   ]
  },
  {
   "cell_type": "code",
   "execution_count": 40,
   "metadata": {
    "collapsed": false
   },
   "outputs": [
    {
     "data": {
      "text/plain": [
       "0"
      ]
     },
     "execution_count": 40,
     "metadata": {},
     "output_type": "execute_result"
    }
   ],
   "source": [
    "os.system(\"tar cfz {}.tar.gz {}/*.feather\".format(datasets_path, datasets_path))"
   ]
  }
 ],
 "metadata": {
  "anaconda-cloud": {},
  "kernelspec": {
   "display_name": "Python [default]",
   "language": "python",
   "name": "python2"
  },
  "language_info": {
   "codemirror_mode": {
    "name": "ipython",
    "version": 2
   },
   "file_extension": ".py",
   "mimetype": "text/x-python",
   "name": "python",
   "nbconvert_exporter": "python",
   "pygments_lexer": "ipython2",
   "version": "2.7.12"
  }
 },
 "nbformat": 4,
 "nbformat_minor": 1
}
