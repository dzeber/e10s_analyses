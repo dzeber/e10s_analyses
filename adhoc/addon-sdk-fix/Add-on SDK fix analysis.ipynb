{
 "cells": [
  {
   "cell_type": "code",
   "execution_count": null,
   "metadata": {
    "collapsed": true
   },
   "outputs": [],
   "source": [
    "sc.cancelAllJobs()"
   ]
  },
  {
   "cell_type": "code",
   "execution_count": 1,
   "metadata": {
    "collapsed": false
   },
   "outputs": [
    {
     "name": "stdout",
     "output_type": "stream",
     "text": [
      "Unable to parse whitelist (/home/hadoop/anaconda2/lib/python2.7/site-packages/moztelemetry/histogram-whitelists.json). Assuming all histograms are acceptable.\n",
      "Populating the interactive namespace from numpy and matplotlib\n"
     ]
    }
   ],
   "source": [
    "import ujson as json\n",
    "import matplotlib.pyplot as plt\n",
    "import pandas as pd\n",
    "import numpy as np\n",
    "import math\n",
    "import plotly.plotly as py\n",
    "import IPython\n",
    "import pyspark.sql.functions as fun\n",
    "from pyspark.sql import Row\n",
    "from datetime import date\n",
    "import feather\n",
    "\n",
    "from __future__ import division\n",
    "from moztelemetry.spark import get_pings, get_one_ping_per_client, get_pings_properties\n",
    "from montecarlino import grouped_permutation_test\n",
    "\n",
    "%pylab inline\n",
    "IPython.core.pylabtools.figsize(16, 7)"
   ]
  },
  {
   "cell_type": "code",
   "execution_count": 2,
   "metadata": {
    "collapsed": false
   },
   "outputs": [
    {
     "data": {
      "text/plain": [
       "320"
      ]
     },
     "execution_count": 2,
     "metadata": {},
     "output_type": "execute_result"
    }
   ],
   "source": [
    "sc.defaultParallelism"
   ]
  },
  {
   "cell_type": "code",
   "execution_count": 3,
   "metadata": {
    "collapsed": false
   },
   "outputs": [
    {
     "data": {
      "text/plain": [
       "u'2.0.0'"
      ]
     },
     "execution_count": 3,
     "metadata": {},
     "output_type": "execute_result"
    }
   ],
   "source": [
    "sc.version"
   ]
  },
  {
   "cell_type": "markdown",
   "metadata": {},
   "source": [
    "### Load nightly data to test"
   ]
  },
  {
   "cell_type": "code",
   "execution_count": 4,
   "metadata": {
    "collapsed": false
   },
   "outputs": [
    {
     "name": "stdout",
     "output_type": "stream",
     "text": [
      "Num sessions before: 483,495\n",
      "\n",
      "CPU times: user 44 ms, sys: 32 ms, total: 76 ms\n",
      "Wall time: 1min 14s\n"
     ]
    }
   ],
   "source": [
    "dataset_before = get_pings(sc, app=\"Firefox\", channel=\"nightly\", build_id=(\"20161009000000\", \"20161016000000\"))\n",
    "%time print(\"Num sessions before: {:,}\\n\".format(dataset_before.count()))"
   ]
  },
  {
   "cell_type": "code",
   "execution_count": 6,
   "metadata": {
    "collapsed": false
   },
   "outputs": [
    {
     "name": "stdout",
     "output_type": "stream",
     "text": [
      "Num sessions after: 214,077\n",
      "\n",
      "CPU times: user 56 ms, sys: 8 ms, total: 64 ms\n",
      "Wall time: 21.6 s\n"
     ]
    }
   ],
   "source": [
    "dataset_after = get_pings(sc, app=\"Firefox\", channel=\"nightly\", build_id=(\"20161024000000\", \"20161028000000\"))\n",
    "%time print(\"Num sessions after: {:,}\\n\".format(dataset_after.count()))"
   ]
  },
  {
   "cell_type": "markdown",
   "metadata": {},
   "source": [
    "Combine data and restrict to data of interest."
   ]
  },
  {
   "cell_type": "code",
   "execution_count": 7,
   "metadata": {
    "collapsed": true
   },
   "outputs": [],
   "source": [
    "def extract_data(ping):\n",
    "    data = {\n",
    "        \"clientId\": ping.get(\"clientId\"),\n",
    "        \"buildId\": ping.get(\"application\", {}).get(\"buildId\"),\n",
    "    }\n",
    "    data[\"period\"] = \"before\" if data[\"buildId\"] <= \"20161016000000\" else \"after\"\n",
    "    \n",
    "    env = ping.get(\"environment\")\n",
    "    if not env:\n",
    "        return None\n",
    "    data[\"architecture\"] = env.get(\"build\", {}).get(\"architecture\")\n",
    "    data[\"e10sEnabled\"] = env.get(\"settings\", {}).get(\"e10sEnabled\")\n",
    "    \n",
    "    sys = env.get(\"system\", {})\n",
    "    ## Some system data won't be relevant here.\n",
    "    for subfld in \"hdd\", \"gfx\":\n",
    "        if subfld in sys:\n",
    "            del sys[subfld]\n",
    "    data[\"system\"] = sys\n",
    "    \n",
    "    ## Only need IDs of installed add-ons, split according to whether or not\n",
    "    ## they are system add-ons.\n",
    "    addons = env.get(\"addons\", {}).get(\"activeAddons\", {})\n",
    "    sys_addons = []\n",
    "    nonsys_addons = []\n",
    "    def addon_listing(guid, meta):\n",
    "        return (guid, meta.get(\"version\"))\n",
    "    \n",
    "    for guid, meta in addons.iteritems():\n",
    "        if meta.get(\"isSystem\"):\n",
    "            sys_addons.append(addon_listing(guid, meta))\n",
    "        else:\n",
    "            nonsys_addons.append(addon_listing(guid, meta))\n",
    "    data[\"addons\"] = {\"system\": sys_addons, \"non_system\": nonsys_addons}\n",
    "    \n",
    "    payload = ping.get(\"payload\", {})\n",
    "    if not payload:\n",
    "        return None\n",
    "    data[\"histograms\"] = payload.get(\"histograms\", {})\n",
    "    data[\"keyedHistograms\"] = payload.get(\"keyedHistograms\", {})\n",
    "    data[\"simpleMeasurements\"] = payload.get(\"simpleMeasurements\", {})\n",
    "    data[\"hangs\"] = payload.get(\"threadHangStats\", [])\n",
    "    data[\"processes\"] = payload.get(\"processes\", {})\n",
    "    data[\"childPayloads\"] = payload.get(\"childPayloads\", [])\n",
    "    \n",
    "    return data\n",
    "\n",
    "def good_payload(data):\n",
    "    return (data is not None and\n",
    "            data[\"clientId\"] is not None and\n",
    "            data[\"buildId\"] is not None and\n",
    "            data[\"e10sEnabled\"] is not None)"
   ]
  },
  {
   "cell_type": "code",
   "execution_count": 8,
   "metadata": {
    "collapsed": false
   },
   "outputs": [],
   "source": [
    "full_data = dataset_before.union(dataset_after)\n",
    "dataset = full_data.map(extract_data).filter(good_payload)\n",
    "## Key by clientID.\n",
    "dataset = dataset.map(lambda d: (d[\"clientId\"], d)).persist(StorageLevel.MEMORY_AND_DISK_SER)"
   ]
  },
  {
   "cell_type": "code",
   "execution_count": 10,
   "metadata": {
    "collapsed": false
   },
   "outputs": [
    {
     "name": "stdout",
     "output_type": "stream",
     "text": [
      "Overall num sessions: 697,572\n",
      "\n",
      "CPU times: user 64 ms, sys: 56 ms, total: 120 ms\n",
      "Wall time: 58.1 s\n"
     ]
    }
   ],
   "source": [
    "%time print(\"Overall num sessions: {:,}\\n\".format(dataset.count()))"
   ]
  },
  {
   "cell_type": "code",
   "execution_count": 13,
   "metadata": {
    "collapsed": false,
    "scrolled": true
   },
   "outputs": [],
   "source": [
    "## Save this dataset to S3.\n",
    "s3_path = \"s3://mozilla-metrics/user/dzeber/tmp/addon-sdk-fix/nightly_{}/\".format(date.today().isoformat())\n",
    "dataset.saveAsPickleFile(s3_path)"
   ]
  },
  {
   "cell_type": "markdown",
   "metadata": {},
   "source": [
    "### Create a longitudinal dataset"
   ]
  },
  {
   "cell_type": "markdown",
   "metadata": {},
   "source": [
    "We plan to compare metrics between builds before and after the changes, within each profile. Group sessions by profile, and make sure that add-ons and the e10s setting stays constant over the sessions we observe. Also, retain only profiles which have both before and after measurements."
   ]
  },
  {
   "cell_type": "code",
   "execution_count": 14,
   "metadata": {
    "collapsed": false
   },
   "outputs": [],
   "source": [
    "def session_vals_for_check(session):\n",
    "    return {\n",
    "        \"e10s\": session[\"e10sEnabled\"],\n",
    "        \"addons\": session[\"addons\"][\"non_system\"],\n",
    "        \"period\": session[\"period\"]\n",
    "    }\n",
    "\n",
    "def constant_e10s_setting(session_vals):\n",
    "    e10s_settings = [s[\"e10s\"] for s in session_vals]\n",
    "    return len(set(e10s_settings)) == 1\n",
    "\n",
    "def constant_active_addons(session_vals):\n",
    "    addons = [s[\"addons\"] for s in session_vals]\n",
    "    ## All add-on lists must have the same length...\n",
    "    if len(set(map(len, addons))) != 1:\n",
    "        return False\n",
    "    ## ...and they must contain the same add-ons.\n",
    "    all_addons = set().union(*addons)\n",
    "    return len(all_addons) == len(addons[0])\n",
    "\n",
    "def both_periods(session_vals):\n",
    "    periods = [s[\"period\"] for s in session_vals]\n",
    "    return len(set(periods)) == 2"
   ]
  },
  {
   "cell_type": "code",
   "execution_count": 15,
   "metadata": {
    "collapsed": false
   },
   "outputs": [
    {
     "name": "stdout",
     "output_type": "stream",
     "text": [
      "Num profiles represented in the dataset: 52,618\n"
     ]
    }
   ],
   "source": [
    "prof_data = dataset.mapValues(session_vals_for_check).groupByKey()\n",
    "n_prof = prof_data.count()\n",
    "print(\"Num profiles represented in the dataset: {:,}\".format(n_prof))"
   ]
  },
  {
   "cell_type": "markdown",
   "metadata": {},
   "source": [
    "#### Edit:\n",
    "Don't to the filtering here, as this cuts out a lot of profiles. Leave this to be handled during the analysis."
   ]
  },
  {
   "cell_type": "code",
   "execution_count": 16,
   "metadata": {
    "collapsed": false
   },
   "outputs": [
    {
     "name": "stdout",
     "output_type": "stream",
     "text": [
      "Num profiles with changing e10s: 4,273 (8.12%)\n"
     ]
    }
   ],
   "source": [
    "#prof_data_1 = prof_data.filter(lambda (cid, vals): constant_e10s_setting(vals))\n",
    "#n_prof_1 = prof_data_1.count()\n",
    "#n_prof_dropped = n_prof - n_prof_1\n",
    "#print(\"Num profiles with changing e10s: {:,} ({:.2f}%)\"\\\n",
    "#          .format(n_prof_dropped, n_prof_dropped / n_prof * 100))"
   ]
  },
  {
   "cell_type": "code",
   "execution_count": 17,
   "metadata": {
    "collapsed": false
   },
   "outputs": [
    {
     "name": "stdout",
     "output_type": "stream",
     "text": [
      "Num remaining profiles with changing (non-system) add-ons: 13,504 (25.66%)\n"
     ]
    }
   ],
   "source": [
    "#prof_data_2 = prof_data_1.filter(lambda (cid, vals): constant_active_addons(vals))\n",
    "#n_prof_2 = prof_data_2.count()\n",
    "#n_prof_dropped = n_prof_1 - n_prof_2\n",
    "#print(\"Num remaining profiles with changing (non-system) add-ons: {:,} ({:.2f}%)\"\\\n",
    "#          .format(n_prof_dropped, n_prof_dropped / n_prof * 100))"
   ]
  },
  {
   "cell_type": "code",
   "execution_count": null,
   "metadata": {
    "collapsed": false
   },
   "outputs": [],
   "source": [
    "#prof_data_3 = prof_data_2.filter(lambda (cid, vals): both_periods(vals))\n",
    "#n_prof_3 = prof_data_3.count()\n",
    "#n_prof_dropped = n_prof_2 - n_prof_3\n",
    "#print(\"Num remaining profiles without both periods: {:,} ({:.2f}%)\"\\\n",
    "#          .format(n_prof_dropped, n_prof_dropped / n_prof * 100))"
   ]
  },
  {
   "cell_type": "code",
   "execution_count": null,
   "metadata": {
    "collapsed": false
   },
   "outputs": [],
   "source": [
    "#print(\"Num profiles remaining after filtering: {:,} ({:.2f}%)\"\\\n",
    "#          .format(n_prof_3, n_prof_3 / n_prof * 100))"
   ]
  },
  {
   "cell_type": "markdown",
   "metadata": {},
   "source": [
    "Restrict the overall dataset to include only these profiles."
   ]
  },
  {
   "cell_type": "code",
   "execution_count": 32,
   "metadata": {
    "collapsed": false
   },
   "outputs": [],
   "source": [
    "#good_clients = prof_data_3.map(lambda (cid, d): cid).distinct().collect()\n",
    "#dataset_longit = dataset.filter(lambda (cid, d): cid in good_clients)\\\n",
    "#    .persist(StorageLevel.MEMORY_AND_DISK_SER)\n",
    "dataset_longit = dataset"
   ]
  },
  {
   "cell_type": "code",
   "execution_count": null,
   "metadata": {
    "collapsed": false
   },
   "outputs": [],
   "source": [
    "#print(\"Num sessions remaining: {:,}\".format(dataset_longit.count()))"
   ]
  },
  {
   "cell_type": "code",
   "execution_count": null,
   "metadata": {
    "collapsed": false
   },
   "outputs": [],
   "source": [
    "## Sanity check\n",
    "#print(\"Num unique profiles: {:,}\".format(dataset_longit.map(lambda (cid, d): cid).distinct().count()))"
   ]
  },
  {
   "cell_type": "markdown",
   "metadata": {},
   "source": [
    "Create a DataFrame to work with."
   ]
  },
  {
   "cell_type": "code",
   "execution_count": 30,
   "metadata": {
    "collapsed": true
   },
   "outputs": [],
   "source": [
    "def longit_row(data):\n",
    "    sm = data[\"simpleMeasurements\"]\n",
    "    return Row(\n",
    "        client_id = data[\"clientId\"],\n",
    "        build_id = data[\"buildId\"],\n",
    "        period = data[\"period\"],\n",
    "        e10s = data[\"e10sEnabled\"],\n",
    "        ## Stringify the list of add-ons for serialization to feather.\n",
    "        addons_nonsys = \",\".join([\":\".join(a) for a in data[\"addons\"][\"non_system\"]]),\n",
    "        addons_sys_num = len(data[\"addons\"][\"system\"]),\n",
    "        \n",
    "        ## Some system covariates\n",
    "        sys_arch = data[\"architecture\"],\n",
    "        sys_mem = data[\"system\"].get(\"memoryMB\"),\n",
    "        sys_cpu_count = data[\"system\"].get(\"cpu\", {}).get(\"count\"),\n",
    "        sys_os = data[\"system\"].get(\"os\", {}).get(\"name\"),\n",
    "        sys_os_version = data[\"system\"].get(\"os\", {}).get(\"version\"),\n",
    "        \n",
    "        ## Startup times and info\n",
    "        startup_interrupted = sm.get(\"startupInterrupted\", 0),\n",
    "        startup_main = sm.get(\"main\"),\n",
    "        startup_AMIstart = sm.get(\"AMI_startup_begin\"),\n",
    "        startup_AMIend = sm.get(\"AMI_startup_end\"),\n",
    "        startup_toplevelwindow = sm.get(\"createTopLevelWindow\"),\n",
    "        startup_firstpaint = sm.get(\"firstPaint\"),\n",
    "        startup_sessionrestored = sm.get(\"sessionRestored\")   \n",
    "    )"
   ]
  },
  {
   "cell_type": "code",
   "execution_count": 33,
   "metadata": {
    "collapsed": false
   },
   "outputs": [
    {
     "name": "stdout",
     "output_type": "stream",
     "text": [
      "root\n",
      " |-- addons_nonsys: string (nullable = true)\n",
      " |-- addons_sys_num: long (nullable = true)\n",
      " |-- build_id: string (nullable = true)\n",
      " |-- client_id: string (nullable = true)\n",
      " |-- e10s: boolean (nullable = true)\n",
      " |-- period: string (nullable = true)\n",
      " |-- startup_AMIend: long (nullable = true)\n",
      " |-- startup_AMIstart: long (nullable = true)\n",
      " |-- startup_firstpaint: long (nullable = true)\n",
      " |-- startup_interrupted: long (nullable = true)\n",
      " |-- startup_main: long (nullable = true)\n",
      " |-- startup_sessionrestored: long (nullable = true)\n",
      " |-- startup_toplevelwindow: long (nullable = true)\n",
      " |-- sys_arch: string (nullable = true)\n",
      " |-- sys_cpu_count: long (nullable = true)\n",
      " |-- sys_mem: long (nullable = true)\n",
      " |-- sys_os: string (nullable = true)\n",
      " |-- sys_os_version: string (nullable = true)\n",
      "\n"
     ]
    }
   ],
   "source": [
    "dataset_df = dataset_longit.map(lambda (cid, d): longit_row(d))\n",
    "DF = spark.createDataFrame(dataset_df)\n",
    "DF.printSchema()"
   ]
  },
  {
   "cell_type": "code",
   "execution_count": 35,
   "metadata": {
    "collapsed": false
   },
   "outputs": [],
   "source": [
    "DFp = DF.toPandas()"
   ]
  },
  {
   "cell_type": "code",
   "execution_count": 37,
   "metadata": {
    "collapsed": false
   },
   "outputs": [],
   "source": [
    "feather.write_dataframe(DFp, \"addon-sdk-startup-data_{}.feather\".format(date.today().isoformat()))"
   ]
  }
 ],
 "metadata": {
  "anaconda-cloud": {},
  "kernelspec": {
   "display_name": "Python [default]",
   "language": "python",
   "name": "python2"
  },
  "language_info": {
   "codemirror_mode": {
    "name": "ipython",
    "version": 2
   },
   "file_extension": ".py",
   "mimetype": "text/x-python",
   "name": "python",
   "nbconvert_exporter": "python",
   "pygments_lexer": "ipython2",
   "version": "2.7.12"
  }
 },
 "nbformat": 4,
 "nbformat_minor": 1
}
