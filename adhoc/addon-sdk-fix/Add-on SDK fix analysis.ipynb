{
 "cells": [
  {
   "cell_type": "code",
   "execution_count": 1,
   "metadata": {
    "collapsed": false
   },
   "outputs": [
    {
     "name": "stdout",
     "output_type": "stream",
     "text": [
      "Unable to parse whitelist (/home/hadoop/anaconda2/lib/python2.7/site-packages/moztelemetry/histogram-whitelists.json). Assuming all histograms are acceptable.\n",
      "Populating the interactive namespace from numpy and matplotlib\n"
     ]
    }
   ],
   "source": [
    "import ujson as json\n",
    "import matplotlib.pyplot as plt\n",
    "import pandas as pd\n",
    "import numpy as np\n",
    "import math\n",
    "import plotly.plotly as py\n",
    "import IPython\n",
    "import pyspark.sql.functions as fun\n",
    "from pyspark.sql import Row\n",
    "from datetime import date\n",
    "import feather\n",
    "from collections import defaultdict\n",
    "import os\n",
    "\n",
    "from __future__ import division\n",
    "from moztelemetry.spark import get_pings, get_one_ping_per_client, get_pings_properties\n",
    "from montecarlino import grouped_permutation_test\n",
    "\n",
    "%pylab inline\n",
    "IPython.core.pylabtools.figsize(16, 7)"
   ]
  },
  {
   "cell_type": "code",
   "execution_count": 2,
   "metadata": {
    "collapsed": false
   },
   "outputs": [
    {
     "data": {
      "text/plain": [
       "320"
      ]
     },
     "execution_count": 2,
     "metadata": {},
     "output_type": "execute_result"
    }
   ],
   "source": [
    "sc.defaultParallelism"
   ]
  },
  {
   "cell_type": "code",
   "execution_count": 3,
   "metadata": {
    "collapsed": false
   },
   "outputs": [
    {
     "data": {
      "text/plain": [
       "u'2.0.0'"
      ]
     },
     "execution_count": 3,
     "metadata": {},
     "output_type": "execute_result"
    }
   ],
   "source": [
    "sc.version"
   ]
  },
  {
   "cell_type": "markdown",
   "metadata": {},
   "source": [
    "### Load nightly data to test"
   ]
  },
  {
   "cell_type": "code",
   "execution_count": 4,
   "metadata": {
    "collapsed": false
   },
   "outputs": [
    {
     "name": "stdout",
     "output_type": "stream",
     "text": [
      "Num sessions before: 491,859\n",
      "\n",
      "CPU times: user 64 ms, sys: 16 ms, total: 80 ms\n",
      "Wall time: 1min 29s\n"
     ]
    }
   ],
   "source": [
    "dataset_before = get_pings(sc, app=\"Firefox\", channel=\"nightly\", build_id=(\"20161009000000\", \"20161016000000\"))\n",
    "%time print(\"Num sessions before: {:,}\\n\".format(dataset_before.count()))"
   ]
  },
  {
   "cell_type": "code",
   "execution_count": 6,
   "metadata": {
    "collapsed": false
   },
   "outputs": [
    {
     "name": "stdout",
     "output_type": "stream",
     "text": [
      "Num sessions after: 446,832\n",
      "\n",
      "CPU times: user 44 ms, sys: 28 ms, total: 72 ms\n",
      "Wall time: 58.4 s\n"
     ]
    }
   ],
   "source": [
    "dataset_after = get_pings(sc, app=\"Firefox\", channel=\"nightly\", build_id=(\"20161024000000\", \"20161101000000\"))\n",
    "%time print(\"Num sessions after: {:,}\\n\".format(dataset_after.count()))"
   ]
  },
  {
   "cell_type": "markdown",
   "metadata": {},
   "source": [
    "Combine data and restrict to data of interest."
   ]
  },
  {
   "cell_type": "code",
   "execution_count": 7,
   "metadata": {
    "collapsed": true
   },
   "outputs": [],
   "source": [
    "def extract_data(ping):\n",
    "    data = {\n",
    "        \"clientId\": ping.get(\"clientId\"),\n",
    "        \"buildId\": ping.get(\"application\", {}).get(\"buildId\"),\n",
    "    }\n",
    "    data[\"period\"] = \"before\" if data[\"buildId\"] <= \"20161016000000\" else \"after\"\n",
    "    \n",
    "    env = ping.get(\"environment\")\n",
    "    if not env:\n",
    "        return None\n",
    "    data[\"architecture\"] = env.get(\"build\", {}).get(\"architecture\")\n",
    "    data[\"e10sEnabled\"] = env.get(\"settings\", {}).get(\"e10sEnabled\")\n",
    "    \n",
    "    sys = env.get(\"system\", {})\n",
    "    ## Some system data won't be relevant here.\n",
    "    for subfld in \"hdd\", \"gfx\":\n",
    "        if subfld in sys:\n",
    "            del sys[subfld]\n",
    "    data[\"system\"] = sys\n",
    "    \n",
    "    ## Only need IDs of installed add-ons, split according to whether or not\n",
    "    ## they are system add-ons.\n",
    "    addons = env.get(\"addons\", {}).get(\"activeAddons\", {})\n",
    "    sys_addons = []\n",
    "    nonsys_addons = []\n",
    "    def addon_listing(guid, meta):\n",
    "        return (guid, meta.get(\"version\"))\n",
    "    \n",
    "    for guid, meta in addons.iteritems():\n",
    "        if meta.get(\"isSystem\"):\n",
    "            sys_addons.append(addon_listing(guid, meta))\n",
    "        else:\n",
    "            nonsys_addons.append(addon_listing(guid, meta))\n",
    "    data[\"addons\"] = {\"system\": sys_addons, \"non_system\": nonsys_addons}\n",
    "    \n",
    "    payload = ping.get(\"payload\", {})\n",
    "    if not payload:\n",
    "        return None\n",
    "    data[\"histograms\"] = payload.get(\"histograms\", {})\n",
    "    data[\"keyedHistograms\"] = payload.get(\"keyedHistograms\", {})\n",
    "    data[\"simpleMeasurements\"] = payload.get(\"simpleMeasurements\", {})\n",
    "    data[\"hangs\"] = payload.get(\"threadHangStats\", [])\n",
    "    data[\"processes\"] = payload.get(\"processes\", {})\n",
    "    data[\"childPayloads\"] = payload.get(\"childPayloads\", [])\n",
    "    \n",
    "    return data\n",
    "\n",
    "def good_payload(data):\n",
    "    return (data is not None and\n",
    "            data[\"clientId\"] is not None and\n",
    "            data[\"buildId\"] is not None and\n",
    "            data[\"e10sEnabled\"] is not None)"
   ]
  },
  {
   "cell_type": "code",
   "execution_count": 8,
   "metadata": {
    "collapsed": false
   },
   "outputs": [],
   "source": [
    "full_data = dataset_before.union(dataset_after)\n",
    "dataset = full_data.map(extract_data).filter(good_payload)\n",
    "## Key by clientID.\n",
    "dataset = dataset.map(lambda d: (d[\"clientId\"], d)).persist(StorageLevel.MEMORY_AND_DISK_SER)"
   ]
  },
  {
   "cell_type": "code",
   "execution_count": 9,
   "metadata": {
    "collapsed": false
   },
   "outputs": [
    {
     "name": "stdout",
     "output_type": "stream",
     "text": [
      "Overall num sessions: 938,691\n",
      "\n",
      "CPU times: user 116 ms, sys: 64 ms, total: 180 ms\n",
      "Wall time: 7min 28s\n"
     ]
    }
   ],
   "source": [
    "%time print(\"Overall num sessions: {:,}\\n\".format(dataset.count()))"
   ]
  },
  {
   "cell_type": "code",
   "execution_count": 4,
   "metadata": {
    "collapsed": false,
    "scrolled": true
   },
   "outputs": [],
   "source": [
    "## Save this dataset to S3.\n",
    "s3_path = \"s3://mozilla-metrics/user/dzeber/tmp/addon-sdk-fix/nightly_{}/\".format(date.today().isoformat())"
   ]
  },
  {
   "cell_type": "code",
   "execution_count": null,
   "metadata": {
    "collapsed": true
   },
   "outputs": [],
   "source": [
    "#dataset.saveAsPickleFile(s3_path)"
   ]
  },
  {
   "cell_type": "code",
   "execution_count": 4,
   "metadata": {
    "collapsed": false
   },
   "outputs": [],
   "source": [
    "#s3_path = \"s3://mozilla-metrics/user/dzeber/tmp/addon-sdk-fix/nightly_2016-11-01/\"\n",
    "#dataset = sc.pickleFile(s3_path)#.persist(StorageLevel.MEMORY_AND_DISK_SER)"
   ]
  },
  {
   "cell_type": "markdown",
   "metadata": {},
   "source": [
    "### Create a dataset to analyze"
   ]
  },
  {
   "cell_type": "markdown",
   "metadata": {},
   "source": [
    "#### Longitudinal properties\n",
    "\n",
    "Ideally, we would compare metrics between builds before and after the changes, within each profile. For this we need profiles to have sessions both before and after the change, with other factors (add-ons and e10s setting) staying constant over the sessions we observe.\n",
    "\n",
    "How many profiles have these properties?"
   ]
  },
  {
   "cell_type": "code",
   "execution_count": 11,
   "metadata": {
    "collapsed": false
   },
   "outputs": [],
   "source": [
    "def session_vals_for_check(session):\n",
    "    return {\n",
    "        \"e10s\": session[\"e10sEnabled\"],\n",
    "        \"addons\": session[\"addons\"][\"non_system\"],\n",
    "        \"period\": session[\"period\"]\n",
    "    }\n",
    "\n",
    "def constant_e10s_setting(session_vals):\n",
    "    e10s_settings = [s[\"e10s\"] for s in session_vals]\n",
    "    return len(set(e10s_settings)) == 1\n",
    "\n",
    "def constant_active_addons(session_vals):\n",
    "    addons = [s[\"addons\"] for s in session_vals]\n",
    "    ## All add-on lists must have the same length...\n",
    "    if len(set(map(len, addons))) != 1:\n",
    "        return False\n",
    "    ## ...and they must contain the same add-ons.\n",
    "    all_addons = set().union(*addons)\n",
    "    return len(all_addons) == len(addons[0])\n",
    "\n",
    "def both_periods(session_vals):\n",
    "    periods = [s[\"period\"] for s in session_vals]\n",
    "    return len(set(periods)) == 2"
   ]
  },
  {
   "cell_type": "code",
   "execution_count": 12,
   "metadata": {
    "collapsed": false
   },
   "outputs": [
    {
     "name": "stdout",
     "output_type": "stream",
     "text": [
      "Num unique profiles represented in the dataset: 58,866\n"
     ]
    }
   ],
   "source": [
    "prof_data = dataset.mapValues(session_vals_for_check).groupByKey()\n",
    "n_prof = prof_data.count()\n",
    "print(\"Num unique profiles represented in the dataset: {:,}\".format(n_prof))"
   ]
  },
  {
   "cell_type": "code",
   "execution_count": 13,
   "metadata": {
    "collapsed": false
   },
   "outputs": [
    {
     "name": "stdout",
     "output_type": "stream",
     "text": [
      "Num profiles with changing e10s: 4,997 (8.49%)\n"
     ]
    }
   ],
   "source": [
    "prof_data_1 = prof_data.filter(lambda (cid, vals): constant_e10s_setting(vals))\n",
    "n_prof_1 = prof_data_1.count()\n",
    "n_prof_dropped = n_prof - n_prof_1\n",
    "print(\"Num profiles with changing e10s: {:,} ({:.2f}%)\"\\\n",
    "          .format(n_prof_dropped, n_prof_dropped / n_prof * 100))"
   ]
  },
  {
   "cell_type": "code",
   "execution_count": 14,
   "metadata": {
    "collapsed": false
   },
   "outputs": [
    {
     "name": "stdout",
     "output_type": "stream",
     "text": [
      "Num profiles with changing (non-system) add-ons or add-on version: 19,183 (32.59%)\n"
     ]
    }
   ],
   "source": [
    "prof_data_2 = prof_data.filter(lambda (cid, vals): constant_active_addons(vals))\n",
    "n_prof_2 = prof_data_2.count()\n",
    "n_prof_dropped = n_prof - n_prof_2\n",
    "print(\"Num profiles with changing (non-system) add-ons or add-on version: {:,} ({:.2f}%)\"\\\n",
    "          .format(n_prof_dropped, n_prof_dropped / n_prof * 100))"
   ]
  },
  {
   "cell_type": "code",
   "execution_count": 15,
   "metadata": {
    "collapsed": false
   },
   "outputs": [
    {
     "name": "stdout",
     "output_type": "stream",
     "text": [
      "Num profiles without both periods: 32,799 (55.72%)\n"
     ]
    }
   ],
   "source": [
    "prof_data_3 = prof_data.filter(lambda (cid, vals): both_periods(vals))\n",
    "n_prof_3 = prof_data_3.count()\n",
    "n_prof_dropped = n_prof - n_prof_3\n",
    "print(\"Num profiles without both periods: {:,} ({:.2f}%)\"\\\n",
    "          .format(n_prof_dropped, n_prof_dropped / n_prof * 100))"
   ]
  },
  {
   "cell_type": "code",
   "execution_count": null,
   "metadata": {
    "collapsed": false
   },
   "outputs": [],
   "source": [
    "#print(\"Num profiles remaining after filtering: {:,} ({:.2f}%)\"\\\n",
    "#          .format(n_prof_3, n_prof_3 / n_prof * 100))"
   ]
  },
  {
   "cell_type": "markdown",
   "metadata": {},
   "source": [
    "For now, keep all sessions."
   ]
  },
  {
   "cell_type": "code",
   "execution_count": 27,
   "metadata": {
    "collapsed": false
   },
   "outputs": [],
   "source": [
    "#good_clients = prof_data_3.map(lambda (cid, d): cid).distinct().collect()\n",
    "#dataset_longit = dataset.filter(lambda (cid, d): cid in good_clients)\\\n",
    "#    .persist(StorageLevel.MEMORY_AND_DISK_SER)\n",
    "#dataset_longit = dataset"
   ]
  },
  {
   "cell_type": "code",
   "execution_count": null,
   "metadata": {
    "collapsed": false
   },
   "outputs": [],
   "source": [
    "#print(\"Num sessions remaining: {:,}\".format(dataset_longit.count()))"
   ]
  },
  {
   "cell_type": "code",
   "execution_count": null,
   "metadata": {
    "collapsed": false
   },
   "outputs": [],
   "source": [
    "## Sanity check\n",
    "#print(\"Num unique profiles: {:,}\".format(dataset_longit.map(lambda (cid, d): cid).distinct().count()))"
   ]
  },
  {
   "cell_type": "markdown",
   "metadata": {},
   "source": [
    "First create an RDD with all the measurements we will be working with."
   ]
  },
  {
   "cell_type": "code",
   "execution_count": 5,
   "metadata": {
    "collapsed": false
   },
   "outputs": [],
   "source": [
    "def get_hist_values(hist):\n",
    "    ## Keep only non-zero histogram values.\n",
    "    return { k:v for k, v in hist.get(\"values\", {}).iteritems() if v > 0 }    \n",
    "\n",
    "def addon_sdk_hang(hang):\n",
    "    ## Check the stack info for add-on sdk code.\n",
    "    has_sdk_js = [\"sdk/addon/runner.js\" in line for line in hang.get(\"stack\", [])]\n",
    "    return any(has_sdk_js)\n",
    "\n",
    "def get_addon_hang_data(data):\n",
    "    ## Only need hangs from the main thread.\n",
    "    hangs = filter(lambda h: h[\"name\"] == \"Gecko\", data[\"hangs\"])\n",
    "    if not hangs:\n",
    "        return None\n",
    "    hangs = hangs[0][\"hangs\"]\n",
    "    sdk_hangs = filter(addon_sdk_hang, hangs)\n",
    "    return [ {\"stack\": h.get(\"stack\"), \"values\": get_hist_values(h.get(\"histogram\", {}))}\n",
    "               for h in sdk_hangs ]\n",
    "\n",
    "\n",
    "def get_hist_data(data, hist_name):\n",
    "    ## Keep only non-zero histogram values.\n",
    "    return get_hist_values(data[\"histograms\"].get(hist_name, {}))\n",
    "\n",
    "def longit_row(data):\n",
    "    sm = data[\"simpleMeasurements\"]\n",
    "    return {\n",
    "        \"client_id\": data[\"clientId\"],\n",
    "        \"build_id\": data[\"buildId\"],\n",
    "        \"period\": data[\"period\"],\n",
    "        \"e10s\": data[\"e10sEnabled\"],\n",
    "        \"addon_nonsys\": data[\"addons\"][\"non_system\"],\n",
    "        ## Keep only the count of system add-ons\n",
    "        \"addons_sys_num\": len(data[\"addons\"][\"system\"]),\n",
    "        \n",
    "        ## Some system covariates\n",
    "        \"sys_arch\": data[\"architecture\"],\n",
    "        \"sys_mem\": data[\"system\"].get(\"memoryMB\"),\n",
    "        \"sys_cpu_count\": data[\"system\"].get(\"cpu\", {}).get(\"count\"),\n",
    "        \"sys_os\": data[\"system\"].get(\"os\", {}).get(\"name\"),\n",
    "        \"sys_os_version\": data[\"system\"].get(\"os\", {}).get(\"version\"),\n",
    "        \n",
    "        ## Startup times and info (missing times recorded as -1)\n",
    "        \"was_startup_interrupted\": bool(sm.get(\"startupInterrupted\", 0)),\n",
    "        \"startup_main\": sm.get(\"main\", -1),\n",
    "        \"startup_AMIstart\": sm.get(\"AMI_startup_begin\", -1),\n",
    "        \"startup_XPIstart\": sm.get(\"XPI_bootstrap_addons_begin\", -1),\n",
    "        \"startup_AMIend\": sm.get(\"AMI_startup_end\", -1),\n",
    "        \"startup_toplevelwindow\": sm.get(\"createTopLevelWindow\", -1),\n",
    "        \"startup_firstpaint\": sm.get(\"firstPaint\", -1),\n",
    "        \"startup_sessionrestored\": sm.get(\"sessionRestored\", -1),\n",
    "        \n",
    "        ## Shutdown times may also show an effect\n",
    "        \"shutdown\": sm.get(\"shutdownDuration\", -1),\n",
    "        \n",
    "        ## Some histograms\n",
    "        \"hist_compartments\": get_hist_data(data, \"MEMORY_JS_COMPARTMENTS_SYSTEM\"),\n",
    "        \"hist_gc\": get_hist_data(data, \"GC_MS\"),\n",
    "        \n",
    "        ## Thread hangs.\n",
    "        \"hangs\": get_addon_hang_data(data)\n",
    "    }"
   ]
  },
  {
   "cell_type": "markdown",
   "metadata": {},
   "source": [
    "Shorten client IDs for convenience."
   ]
  },
  {
   "cell_type": "code",
   "execution_count": 6,
   "metadata": {
    "collapsed": true
   },
   "outputs": [],
   "source": [
    "client_ids = dataset.map(lambda (cid, d): cid).distinct().zipWithIndex()"
   ]
  },
  {
   "cell_type": "code",
   "execution_count": 7,
   "metadata": {
    "collapsed": false
   },
   "outputs": [],
   "source": [
    "def replace_client_id(d_with_new_cid):\n",
    "    d, new_cid = d_with_new_cid\n",
    "    d[\"client_id\"] = new_cid\n",
    "    return d\n",
    "\n",
    "dataset_rows = dataset.mapValues(longit_row)\\\n",
    "    .leftOuterJoin(client_ids)\\\n",
    "    .mapValues(replace_client_id)\\\n",
    "    .map(lambda (cid, d): d)"
   ]
  },
  {
   "cell_type": "code",
   "execution_count": 8,
   "metadata": {
    "collapsed": false
   },
   "outputs": [],
   "source": [
    "## Add a session ID.\n",
    "def add_sess_id(d_with_i):\n",
    "    d, i = d_with_i\n",
    "    d[\"session_id\"] = i\n",
    "    return d\n",
    "dataset_rows = dataset_rows.zipWithIndex().map(add_sess_id)"
   ]
  },
  {
   "cell_type": "code",
   "execution_count": 9,
   "metadata": {
    "collapsed": false
   },
   "outputs": [
    {
     "data": {
      "text/plain": [
       "938691"
      ]
     },
     "execution_count": 9,
     "metadata": {},
     "output_type": "execute_result"
    }
   ],
   "source": [
    "## Need to cache at this point to ensure stability of indices added with zipWithIndex().\n",
    "## Otherwise, they keep getting recomputed.\n",
    "dataset_rows.cache()\n",
    "dataset_rows.count()"
   ]
  },
  {
   "cell_type": "code",
   "execution_count": 10,
   "metadata": {
    "collapsed": false,
    "scrolled": true
   },
   "outputs": [
    {
     "data": {
      "text/plain": [
       "[{'addon_nonsys': [(u'wrc@avast.com', u'10.3.3.44'),\n",
       "   (u'{d10d0bf8-f5b5-c8b4-a8b2-2b9879e08c5d}', u'2.7.3')],\n",
       "  'addons_sys_num': 5,\n",
       "  'build_id': u'20161010030204',\n",
       "  'client_id': 38,\n",
       "  'e10s': True,\n",
       "  'hangs': [{'stack': [u'Startup::XRE_Main',\n",
       "     u'gre/modules/Promise-backend.js:750',\n",
       "     u'self-hosted:903',\n",
       "     u'gre/modules/commonjs/sdk/addon/runner.js:87',\n",
       "     u'(chrome script)'],\n",
       "    'values': {u'1023': 1}}],\n",
       "  'hist_compartments': {u'492': 15},\n",
       "  'hist_gc': {u'114': 2,\n",
       "   u'135': 4,\n",
       "   u'160': 12,\n",
       "   u'190': 4,\n",
       "   u'226': 4,\n",
       "   u'268': 1,\n",
       "   u'318': 1,\n",
       "   u'68': 5,\n",
       "   u'81': 8,\n",
       "   u'96': 5},\n",
       "  'period': 'before',\n",
       "  'session_id': 0,\n",
       "  'shutdown': 914,\n",
       "  'startup_AMIend': 2182,\n",
       "  'startup_AMIstart': 1933,\n",
       "  'startup_XPIstart': 1982,\n",
       "  'startup_firstpaint': 3839,\n",
       "  'startup_main': 1823,\n",
       "  'startup_sessionrestored': 4960,\n",
       "  'startup_toplevelwindow': 2254,\n",
       "  'sys_arch': u'x86-64',\n",
       "  'sys_cpu_count': 8,\n",
       "  'sys_mem': 8140,\n",
       "  'sys_os': u'Windows_NT',\n",
       "  'sys_os_version': u'6.1',\n",
       "  'was_startup_interrupted': False},\n",
       " {'addon_nonsys': [(u'wrc@avast.com', u'10.3.3.44'),\n",
       "   (u'{d10d0bf8-f5b5-c8b4-a8b2-2b9879e08c5d}', u'2.7.3')],\n",
       "  'addons_sys_num': 5,\n",
       "  'build_id': u'20161010030204',\n",
       "  'client_id': 38,\n",
       "  'e10s': True,\n",
       "  'hangs': [{'stack': [u'Startup::XRE_Main',\n",
       "     u'gre/modules/Promise-backend.js:750',\n",
       "     u'self-hosted:903',\n",
       "     u'gre/modules/commonjs/sdk/addon/runner.js:87',\n",
       "     u'gre/modules/commonjs/toolkit/loader.js:617',\n",
       "     u'gre/modules/commonjs/sdk/l10n/html.js:1',\n",
       "     u'gre/modules/commonjs/toolkit/loader.js:617',\n",
       "     u'(chrome script)'],\n",
       "    'values': {u'1023': 1}}],\n",
       "  'hist_compartments': {u'437': 13, u'492': 80},\n",
       "  'hist_gc': {u'114': 10,\n",
       "   u'1262': 1,\n",
       "   u'135': 15,\n",
       "   u'160': 25,\n",
       "   u'190': 21,\n",
       "   u'226': 14,\n",
       "   u'268': 7,\n",
       "   u'318': 2,\n",
       "   u'68': 4,\n",
       "   u'81': 10,\n",
       "   u'894': 1,\n",
       "   u'96': 16},\n",
       "  'period': 'before',\n",
       "  'session_id': 1,\n",
       "  'shutdown': 5890,\n",
       "  'startup_AMIend': 3063,\n",
       "  'startup_AMIstart': 2135,\n",
       "  'startup_XPIstart': 2717,\n",
       "  'startup_firstpaint': 4811,\n",
       "  'startup_main': 1649,\n",
       "  'startup_sessionrestored': 5271,\n",
       "  'startup_toplevelwindow': 3858,\n",
       "  'sys_arch': u'x86-64',\n",
       "  'sys_cpu_count': 8,\n",
       "  'sys_mem': 8140,\n",
       "  'sys_os': u'Windows_NT',\n",
       "  'sys_os_version': u'6.1',\n",
       "  'was_startup_interrupted': False},\n",
       " {'addon_nonsys': [(u'wrc@avast.com', u'10.3.3.44'),\n",
       "   (u'{d10d0bf8-f5b5-c8b4-a8b2-2b9879e08c5d}', u'2.7.3')],\n",
       "  'addons_sys_num': 5,\n",
       "  'build_id': u'20161009030202',\n",
       "  'client_id': 38,\n",
       "  'e10s': True,\n",
       "  'hangs': [],\n",
       "  'hist_compartments': {u'492': 1},\n",
       "  'hist_gc': {u'135': 1, u'68': 2, u'81': 2, u'96': 2},\n",
       "  'period': 'before',\n",
       "  'session_id': 2,\n",
       "  'shutdown': 1096,\n",
       "  'startup_AMIend': 355,\n",
       "  'startup_AMIstart': 150,\n",
       "  'startup_XPIstart': 197,\n",
       "  'startup_firstpaint': 1007,\n",
       "  'startup_main': 68,\n",
       "  'startup_sessionrestored': 1212,\n",
       "  'startup_toplevelwindow': 629,\n",
       "  'sys_arch': u'x86-64',\n",
       "  'sys_cpu_count': 8,\n",
       "  'sys_mem': 8140,\n",
       "  'sys_os': u'Windows_NT',\n",
       "  'sys_os_version': u'6.1',\n",
       "  'was_startup_interrupted': False},\n",
       " {'addon_nonsys': [(u'wrc@avast.com', u'10.3.3.44'),\n",
       "   (u'{d10d0bf8-f5b5-c8b4-a8b2-2b9879e08c5d}', u'2.7.3')],\n",
       "  'addons_sys_num': 5,\n",
       "  'build_id': u'20161009030202',\n",
       "  'client_id': 38,\n",
       "  'e10s': True,\n",
       "  'hangs': [{'stack': [u'Startup::XRE_Main',\n",
       "     u'gre/modules/Promise-backend.js:750',\n",
       "     u'self-hosted:903',\n",
       "     u'self-hosted:946',\n",
       "     u'self-hosted:1126',\n",
       "     u'self-hosted:1227',\n",
       "     u'gre/modules/Promise-backend.js:750',\n",
       "     u'self-hosted:903',\n",
       "     u'gre/modules/commonjs/sdk/addon/runner.js:87',\n",
       "     u'gre/modules/commonjs/toolkit/loader.js:617',\n",
       "     u'gre/modules/commonjs/sdk/l10n/prefs.js:1',\n",
       "     u'gre/modules/commonjs/toolkit/loader.js:617',\n",
       "     u'gre/modules/commonjs/sdk/l10n/core.js:1',\n",
       "     u'gre/modules/commonjs/toolkit/loader.js:617',\n",
       "     u'gre/modules/commonjs/sdk/l10n/json/core.js:1',\n",
       "     u'gre/modules/commonjs/toolkit/loader.js:617'],\n",
       "    'values': {u'1023': 1}}],\n",
       "  'hist_compartments': {u'437': 15, u'492': 2},\n",
       "  'hist_gc': {u'135': 6,\n",
       "   u'160': 5,\n",
       "   u'190': 7,\n",
       "   u'226': 2,\n",
       "   u'268': 1,\n",
       "   u'318': 1,\n",
       "   u'68': 3,\n",
       "   u'81': 5,\n",
       "   u'96': 7},\n",
       "  'period': 'before',\n",
       "  'session_id': 3,\n",
       "  'shutdown': 43626,\n",
       "  'startup_AMIend': 2540,\n",
       "  'startup_AMIstart': 2070,\n",
       "  'startup_XPIstart': 2279,\n",
       "  'startup_firstpaint': 3776,\n",
       "  'startup_main': 1674,\n",
       "  'startup_sessionrestored': 3929,\n",
       "  'startup_toplevelwindow': 3155,\n",
       "  'sys_arch': u'x86-64',\n",
       "  'sys_cpu_count': 8,\n",
       "  'sys_mem': 8140,\n",
       "  'sys_os': u'Windows_NT',\n",
       "  'sys_os_version': u'6.1',\n",
       "  'was_startup_interrupted': False},\n",
       " {'addon_nonsys': [(u'wrc@avast.com', u'10.3.3.44'),\n",
       "   (u'{d10d0bf8-f5b5-c8b4-a8b2-2b9879e08c5d}', u'2.8.1')],\n",
       "  'addons_sys_num': 6,\n",
       "  'build_id': u'20161029062601',\n",
       "  'client_id': 38,\n",
       "  'e10s': True,\n",
       "  'hangs': [],\n",
       "  'hist_compartments': {u'345': 71},\n",
       "  'hist_gc': {u'114': 15,\n",
       "   u'135': 13,\n",
       "   u'160': 10,\n",
       "   u'17': 1,\n",
       "   u'190': 21,\n",
       "   u'226': 24,\n",
       "   u'268': 11,\n",
       "   u'318': 7,\n",
       "   u'378': 1,\n",
       "   u'68': 2,\n",
       "   u'81': 6,\n",
       "   u'96': 10},\n",
       "  'period': 'after',\n",
       "  'session_id': 4,\n",
       "  'shutdown': 719,\n",
       "  'startup_AMIend': 2112,\n",
       "  'startup_AMIstart': 1633,\n",
       "  'startup_XPIstart': 1975,\n",
       "  'startup_firstpaint': 2591,\n",
       "  'startup_main': 1406,\n",
       "  'startup_sessionrestored': 3468,\n",
       "  'startup_toplevelwindow': 2161,\n",
       "  'sys_arch': u'x86-64',\n",
       "  'sys_cpu_count': 8,\n",
       "  'sys_mem': 8140,\n",
       "  'sys_os': u'Windows_NT',\n",
       "  'sys_os_version': u'6.1',\n",
       "  'was_startup_interrupted': False}]"
      ]
     },
     "execution_count": 10,
     "metadata": {},
     "output_type": "execute_result"
    }
   ],
   "source": [
    "dataset_rows.take(5)"
   ]
  },
  {
   "cell_type": "markdown",
   "metadata": {},
   "source": [
    "Separate complex fields into separate DFs for easier handling and summarization."
   ]
  },
  {
   "cell_type": "markdown",
   "metadata": {},
   "source": [
    "#### Add-ons"
   ]
  },
  {
   "cell_type": "code",
   "execution_count": 12,
   "metadata": {
    "collapsed": false,
    "scrolled": true
   },
   "outputs": [
    {
     "name": "stdout",
     "output_type": "stream",
     "text": [
      "root\n",
      " |-- client_id: long (nullable = true)\n",
      " |-- guid: string (nullable = true)\n",
      " |-- session_id: long (nullable = true)\n",
      " |-- version: string (nullable = true)\n",
      "\n"
     ]
    }
   ],
   "source": [
    "def addon_rows(r):\n",
    "    return [Row(client_id = r[\"client_id\"], session_id = r[\"session_id\"],\n",
    "        guid = guid, version = ver) for (guid, ver) in r[\"addon_nonsys\"]]\n",
    "    \n",
    "rdd_addons = dataset_rows.flatMap(addon_rows)\n",
    "DF_addons = spark.createDataFrame(rdd_addons)\n",
    "DF_addons.printSchema()"
   ]
  },
  {
   "cell_type": "code",
   "execution_count": 13,
   "metadata": {
    "collapsed": false
   },
   "outputs": [
    {
     "data": {
      "text/plain": [
       "2516163"
      ]
     },
     "execution_count": 13,
     "metadata": {},
     "output_type": "execute_result"
    }
   ],
   "source": [
    "DF_addons.count()"
   ]
  },
  {
   "cell_type": "code",
   "execution_count": 26,
   "metadata": {
    "collapsed": false
   },
   "outputs": [
    {
     "data": {
      "text/plain": [
       "True"
      ]
     },
     "execution_count": 26,
     "metadata": {},
     "output_type": "execute_result"
    }
   ],
   "source": [
    "## Double-check that the session IDs correspond.\n",
    "s1 = DF_addons.select(\"session_id\").distinct().rdd.map(lambda r: r.session_id)\n",
    "s2 = dataset_rows.filter(lambda r: r[\"addon_nonsys\"]).map(lambda r: r[\"session_id\"]).distinct()\n",
    "ss = s1.union(s2).distinct()\n",
    "ss.count() == s1.count() and s1.count() == s2.count()"
   ]
  },
  {
   "cell_type": "markdown",
   "metadata": {},
   "source": [
    "#### Hangs"
   ]
  },
  {
   "cell_type": "code",
   "execution_count": 27,
   "metadata": {
    "collapsed": false,
    "scrolled": true
   },
   "outputs": [
    {
     "data": {
      "text/plain": [
       "[[{'stack': [u'Startup::XRE_Main',\n",
       "    u'gre/modules/Promise-backend.js:750',\n",
       "    u'self-hosted:903',\n",
       "    u'gre/modules/commonjs/sdk/addon/runner.js:87',\n",
       "    u'(chrome script)'],\n",
       "   'values': {u'1023': 1}}],\n",
       " [{'stack': [u'Startup::XRE_Main',\n",
       "    u'gre/modules/Promise-backend.js:750',\n",
       "    u'self-hosted:903',\n",
       "    u'gre/modules/commonjs/sdk/addon/runner.js:87',\n",
       "    u'gre/modules/commonjs/toolkit/loader.js:617',\n",
       "    u'gre/modules/commonjs/sdk/l10n/html.js:1',\n",
       "    u'gre/modules/commonjs/toolkit/loader.js:617',\n",
       "    u'(chrome script)'],\n",
       "   'values': {u'1023': 1}}],\n",
       " [{'stack': [u'Startup::XRE_Main',\n",
       "    u'gre/modules/Promise-backend.js:750',\n",
       "    u'self-hosted:903',\n",
       "    u'self-hosted:946',\n",
       "    u'self-hosted:1126',\n",
       "    u'self-hosted:1227',\n",
       "    u'gre/modules/Promise-backend.js:750',\n",
       "    u'self-hosted:903',\n",
       "    u'gre/modules/commonjs/sdk/addon/runner.js:87',\n",
       "    u'gre/modules/commonjs/toolkit/loader.js:617',\n",
       "    u'gre/modules/commonjs/sdk/l10n/prefs.js:1',\n",
       "    u'gre/modules/commonjs/toolkit/loader.js:617',\n",
       "    u'gre/modules/commonjs/sdk/l10n/core.js:1',\n",
       "    u'gre/modules/commonjs/toolkit/loader.js:617',\n",
       "    u'gre/modules/commonjs/sdk/l10n/json/core.js:1',\n",
       "    u'gre/modules/commonjs/toolkit/loader.js:617'],\n",
       "   'values': {u'1023': 1}}]]"
      ]
     },
     "execution_count": 27,
     "metadata": {},
     "output_type": "execute_result"
    }
   ],
   "source": [
    "dataset_rows.map(lambda r: r[\"hangs\"]).filter(lambda r: r).take(3)"
   ]
  },
  {
   "cell_type": "markdown",
   "metadata": {},
   "source": [
    "What are the unique combinations of `runner.js` lines mentioned in the hang stack traces?"
   ]
  },
  {
   "cell_type": "code",
   "execution_count": 29,
   "metadata": {
    "collapsed": false
   },
   "outputs": [
    {
     "data": {
      "text/plain": [
       "[u'1', u'1,87', u'41,87', u'66', u'68', u'78', u'84', u'87']"
      ]
     },
     "execution_count": 29,
     "metadata": {},
     "output_type": "execute_result"
    }
   ],
   "source": [
    "sorted(dataset_rows.flatMap(lambda r: [h[\"stack\"] for h in r[\"hangs\"]])\\\n",
    "    .map(lambda s: filter(lambda sl: \"runner.js\" in sl, s))\\\n",
    "    .map(lambda s: \",\".join(sorted(set(map(lambda sl: sl.split(\":\")[-1], s)))))\\\n",
    "    .distinct().collect())"
   ]
  },
  {
   "cell_type": "markdown",
   "metadata": {},
   "source": [
    "For now, lump all `runner.js` hangs for the session together, and convert the hang stats to a DF."
   ]
  },
  {
   "cell_type": "code",
   "execution_count": 30,
   "metadata": {
    "collapsed": false
   },
   "outputs": [
    {
     "name": "stdout",
     "output_type": "stream",
     "text": [
      "root\n",
      " |-- client_id: long (nullable = true)\n",
      " |-- count: long (nullable = true)\n",
      " |-- hang_time: long (nullable = true)\n",
      " |-- num_hang_stats: long (nullable = true)\n",
      " |-- session_id: long (nullable = true)\n",
      "\n"
     ]
    }
   ],
   "source": [
    "def hang_rows(r):\n",
    "    if not r[\"hangs\"]:\n",
    "        return []\n",
    "    hang_hist = defaultdict(int)\n",
    "    for h in r[\"hangs\"]:\n",
    "        for k, v in h[\"values\"].iteritems():\n",
    "            hang_hist[k] += v\n",
    "    return [Row(client_id = r[\"client_id\"], session_id = r[\"session_id\"],\n",
    "               num_hang_stats = len(r[\"hangs\"]), hang_time = int(t), count = n)\n",
    "                for t, n in hang_hist.iteritems()]\n",
    "\n",
    "rdd_hangs = dataset_rows.flatMap(hang_rows)\n",
    "DF_hangs = spark.createDataFrame(rdd_hangs)\n",
    "DF_hangs.printSchema()"
   ]
  },
  {
   "cell_type": "code",
   "execution_count": 31,
   "metadata": {
    "collapsed": false
   },
   "outputs": [
    {
     "data": {
      "text/plain": [
       "464237"
      ]
     },
     "execution_count": 31,
     "metadata": {},
     "output_type": "execute_result"
    }
   ],
   "source": [
    "DF_hangs.count()"
   ]
  },
  {
   "cell_type": "code",
   "execution_count": 32,
   "metadata": {
    "collapsed": false
   },
   "outputs": [
    {
     "data": {
      "text/plain": [
       "True"
      ]
     },
     "execution_count": 32,
     "metadata": {},
     "output_type": "execute_result"
    }
   ],
   "source": [
    "## Double-check that the session IDs correspond.\n",
    "s1 = DF_hangs.select(\"session_id\").distinct().rdd.map(lambda r: r.session_id)\n",
    "s2 = dataset_rows.filter(lambda r: r[\"hangs\"]).map(lambda r: r[\"session_id\"]).distinct()\n",
    "ss = s1.union(s2).distinct()\n",
    "ss.count() == s1.count() and s1.count() == s2.count()"
   ]
  },
  {
   "cell_type": "markdown",
   "metadata": {},
   "source": [
    "#### Histograms\n",
    "\n",
    "Collect all histogram info in separate DF (maybe later)"
   ]
  },
  {
   "cell_type": "markdown",
   "metadata": {},
   "source": [
    "#### Scalar data\n",
    "\n",
    "Create a main DF for the remaining scalar measures."
   ]
  },
  {
   "cell_type": "code",
   "execution_count": 33,
   "metadata": {
    "collapsed": false,
    "scrolled": true
   },
   "outputs": [
    {
     "name": "stdout",
     "output_type": "stream",
     "text": [
      "root\n",
      " |-- addons_sys_num: long (nullable = true)\n",
      " |-- build_id: string (nullable = true)\n",
      " |-- client_id: long (nullable = true)\n",
      " |-- e10s: boolean (nullable = true)\n",
      " |-- has_hangs: boolean (nullable = true)\n",
      " |-- num_addons_nonsys: long (nullable = true)\n",
      " |-- period: string (nullable = true)\n",
      " |-- session_id: long (nullable = true)\n",
      " |-- shutdown: long (nullable = true)\n",
      " |-- startup_AMIend: long (nullable = true)\n",
      " |-- startup_AMIstart: long (nullable = true)\n",
      " |-- startup_XPIstart: long (nullable = true)\n",
      " |-- startup_firstpaint: long (nullable = true)\n",
      " |-- startup_main: long (nullable = true)\n",
      " |-- startup_sessionrestored: long (nullable = true)\n",
      " |-- startup_toplevelwindow: long (nullable = true)\n",
      " |-- sys_arch: string (nullable = true)\n",
      " |-- sys_cpu_count: long (nullable = true)\n",
      " |-- sys_mem: long (nullable = true)\n",
      " |-- sys_os: string (nullable = true)\n",
      " |-- sys_os_version: string (nullable = true)\n",
      " |-- was_startup_interrupted: boolean (nullable = true)\n",
      "\n"
     ]
    }
   ],
   "source": [
    "scalar_flds = dataset_rows.first().keys()\n",
    "for fld in [\"addon_nonsys\", \"hangs\", \"hist_compartments\", \"hist_gc\"]:\n",
    "    scalar_flds.remove(fld)\n",
    "\n",
    "def main_row(r):\n",
    "    row_entries = {fld: r[fld] for fld in scalar_flds}\n",
    "    row_entries[\"has_hangs\"] = len(r[\"hangs\"]) > 0\n",
    "    row_entries[\"num_addons_nonsys\"] = len(r[\"addon_nonsys\"])\n",
    "    return Row(**row_entries)\n",
    "\n",
    "rdd_main = dataset_rows.map(main_row)\n",
    "DF_main = spark.createDataFrame(rdd_main)\n",
    "DF_main.printSchema()"
   ]
  },
  {
   "cell_type": "code",
   "execution_count": 34,
   "metadata": {
    "collapsed": false
   },
   "outputs": [
    {
     "data": {
      "text/plain": [
       "938691"
      ]
     },
     "execution_count": 34,
     "metadata": {},
     "output_type": "execute_result"
    }
   ],
   "source": [
    "DF_main.count()"
   ]
  },
  {
   "cell_type": "markdown",
   "metadata": {},
   "source": [
    "Add some client-level summary stats to the main DF.\n",
    "\n",
    "- Was the e10s setting consistent across all client sessions?\n",
    "- Does the client have sessions both before and after the change?"
   ]
  },
  {
   "cell_type": "code",
   "execution_count": 35,
   "metadata": {
    "collapsed": false
   },
   "outputs": [],
   "source": [
    "client_stats = DF_main.groupBy(\"client_id\").agg(\n",
    "    (fun.countDistinct(\"e10s\") == 1).alias(\"constant_e10s\"),\n",
    "    (fun.countDistinct(\"period\") == 2).alias(\"both_periods\")\n",
    ")\n",
    "\n",
    "DF_main = DF_main.join(client_stats, \"client_id\")"
   ]
  },
  {
   "cell_type": "markdown",
   "metadata": {},
   "source": [
    "- Were add-ons consistent across client sessions?"
   ]
  },
  {
   "cell_type": "code",
   "execution_count": 36,
   "metadata": {
    "collapsed": false
   },
   "outputs": [],
   "source": [
    "def consistent_addons(rows_for_client, include_versions=True):\n",
    "    addon_info = (lambda r: (r.guid, r.version)) if include_versions else (lambda r: r.guid)\n",
    "    rows_for_client = list(rows_for_client)\n",
    "    unique_addons = set([addon_info(r) for r in rows_for_client])\n",
    "    single_session = filter(lambda r: r.session_id == rows_for_client[0].session_id, rows_for_client)\n",
    "    single_sess_addons = [addon_info(r) for r in single_session]\n",
    "    return len(unique_addons) == len(single_sess_addons)\n",
    "\n",
    "addon_stats = DF_addons.rdd.groupBy(lambda r: r.client_id)\\\n",
    "    .map(lambda (cid, gp): Row(client_id = cid,\n",
    "                               constant_addons = consistent_addons(gp),\n",
    "                               constant_addons_guid = consistent_addons(gp, False)))\n",
    "addon_stats = spark.createDataFrame(addon_stats)\n",
    "\n",
    "DF_main = DF_main.join(addon_stats, \"client_id\", \"outer\")"
   ]
  },
  {
   "cell_type": "code",
   "execution_count": 37,
   "metadata": {
    "collapsed": false
   },
   "outputs": [
    {
     "name": "stdout",
     "output_type": "stream",
     "text": [
      "938691\n",
      "root\n",
      " |-- client_id: long (nullable = true)\n",
      " |-- addons_sys_num: long (nullable = true)\n",
      " |-- build_id: string (nullable = true)\n",
      " |-- e10s: boolean (nullable = true)\n",
      " |-- has_hangs: boolean (nullable = true)\n",
      " |-- num_addons_nonsys: long (nullable = true)\n",
      " |-- period: string (nullable = true)\n",
      " |-- session_id: long (nullable = true)\n",
      " |-- shutdown: long (nullable = true)\n",
      " |-- startup_AMIend: long (nullable = true)\n",
      " |-- startup_AMIstart: long (nullable = true)\n",
      " |-- startup_XPIstart: long (nullable = true)\n",
      " |-- startup_firstpaint: long (nullable = true)\n",
      " |-- startup_main: long (nullable = true)\n",
      " |-- startup_sessionrestored: long (nullable = true)\n",
      " |-- startup_toplevelwindow: long (nullable = true)\n",
      " |-- sys_arch: string (nullable = true)\n",
      " |-- sys_cpu_count: long (nullable = true)\n",
      " |-- sys_mem: long (nullable = true)\n",
      " |-- sys_os: string (nullable = true)\n",
      " |-- sys_os_version: string (nullable = true)\n",
      " |-- was_startup_interrupted: boolean (nullable = true)\n",
      " |-- constant_e10s: boolean (nullable = true)\n",
      " |-- both_periods: boolean (nullable = true)\n",
      " |-- constant_addons: boolean (nullable = true)\n",
      " |-- constant_addons_guid: boolean (nullable = true)\n",
      "\n"
     ]
    }
   ],
   "source": [
    "## Double-check the count after joining.\n",
    "print(DF_main.count())\n",
    "DF_main.printSchema()"
   ]
  },
  {
   "cell_type": "markdown",
   "metadata": {},
   "source": [
    "#### Write datasets to file"
   ]
  },
  {
   "cell_type": "code",
   "execution_count": 38,
   "metadata": {
    "collapsed": false
   },
   "outputs": [],
   "source": [
    "datasets_path = \"addon-sdk-fix-data_{}\".format(date.today().isoformat())\n",
    "os.mkdir(datasets_path)"
   ]
  },
  {
   "cell_type": "code",
   "execution_count": 39,
   "metadata": {
    "collapsed": false
   },
   "outputs": [],
   "source": [
    "feather.write_dataframe(DF_main.toPandas(), datasets_path + \"/main.feather\")\n",
    "feather.write_dataframe(DF_addons.toPandas(), datasets_path + \"/addons.feather\")\n",
    "feather.write_dataframe(DF_hangs.toPandas(), datasets_path + \"/hangs.feather\")"
   ]
  },
  {
   "cell_type": "code",
   "execution_count": 40,
   "metadata": {
    "collapsed": false
   },
   "outputs": [
    {
     "data": {
      "text/plain": [
       "0"
      ]
     },
     "execution_count": 40,
     "metadata": {},
     "output_type": "execute_result"
    }
   ],
   "source": [
    "os.system(\"tar cfz {}.tar.gz {}/*.feather\".format(datasets_path, datasets_path))"
   ]
  },
  {
   "cell_type": "code",
   "execution_count": 82,
   "metadata": {
    "collapsed": false
   },
   "outputs": [],
   "source": [
    "#dataset_coll = dataset_df.map(lambda r: r.asDict()).collect()"
   ]
  },
  {
   "cell_type": "code",
   "execution_count": 86,
   "metadata": {
    "collapsed": false
   },
   "outputs": [],
   "source": [
    "#with open(\"addon-sdk-data.json\", \"w\") as f:\n",
    " #   for row in dataset_coll:\n",
    "  #      f.write(json.dumps(row) + \"\\n\")        "
   ]
  }
 ],
 "metadata": {
  "anaconda-cloud": {},
  "kernelspec": {
   "display_name": "Python [default]",
   "language": "python",
   "name": "python2"
  },
  "language_info": {
   "codemirror_mode": {
    "name": "ipython",
    "version": 2
   },
   "file_extension": ".py",
   "mimetype": "text/x-python",
   "name": "python",
   "nbconvert_exporter": "python",
   "pygments_lexer": "ipython2",
   "version": "2.7.12"
  }
 },
 "nbformat": 4,
 "nbformat_minor": 1
}
